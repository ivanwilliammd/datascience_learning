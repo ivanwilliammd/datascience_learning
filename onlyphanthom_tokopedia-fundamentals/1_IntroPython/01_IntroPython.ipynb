{
 "cells": [
  {
   "cell_type": "markdown",
   "metadata": {},
   "source": [
    "**Coursebook: Getting Started with Python**\n",
    "- Part 1 of _Python Fundamental Course_\n",
    "- Course Length: 9 Hours\n",
    "- Last Updated: July 2019\n",
    "\n",
    "___\n",
    "\n",
    "- Developed by [Algoritma](https://algorit.ma)'s product division and instructors team"
   ]
  },
  {
   "cell_type": "markdown",
   "metadata": {},
   "source": [
    "\n",
    "\n",
    "# Background"
   ]
  },
  {
   "cell_type": "markdown",
   "metadata": {},
   "source": [
    "The coursebook is part of the **Python Fundamental Course** prepared by [Algoritma](https://algorit.ma). The coursebook is intended for a restricted audience only, i.e. the individuals and organizations having received this coursebook directly from the training organization. It may not be reproduced, distributed, translated or adapted in any form outside these individuals and organizations without permission.\n",
    "\n",
    "Algoritma is a data science education center based in Jakarta. We organize workshops and training programs to help working professionals and students gain mastery in various data science sub-fields: data visualization, machine learning, data modeling, statistical inference etc."
   ]
  },
  {
   "cell_type": "markdown",
   "metadata": {},
   "source": [
    "## Training Objectives\n",
    "\n",
    "On the first section of this **Python Fundamental Course**, we'll start by getting used in working with Jupyter Notebook and programming basics. In this coursebook we will cover:\n",
    "\n",
    "- Object Oriented Programming\n",
    "- Variable and Data Types\n",
    "- Expression and Statements\n",
    "- Style Guide\n",
    "\n",
    "For the most part, experience in Python programming is good to have but not required. Familiarity with data manipulation and data structures in a different programming language a welcome addition but again, not required."
   ]
  },
  {
   "cell_type": "markdown",
   "metadata": {},
   "source": [
    "## Object Oriented Programming"
   ]
  },
  {
   "cell_type": "markdown",
   "metadata": {},
   "source": [
    "### Class and Instance\n",
    "\n",
    "Every object created in Python is generated from a class. You can imagine a class as a *blueprint* for creating an object. Let's refer to the `Inventory` class in `demo_oop.py` file:"
   ]
  },
  {
   "cell_type": "code",
   "execution_count": 5,
   "metadata": {},
   "outputs": [],
   "source": [
    "class Inventory:\n",
    "    listed = False\n",
    "\n",
    "    def __init__(self, name, price, discount):\n",
    "        self.name = name\n",
    "        self.price = int(price)\n",
    "        self.discount = int(discount)\n",
    "        self.headline = f\"{name} at {self.net_price()} IDR today!\"\n",
    "\n",
    "    def net_price(self):\n",
    "        return self.price - self.discount\n"
   ]
  },
  {
   "cell_type": "markdown",
   "metadata": {},
   "source": [
    "This block code creates a *blueprint* named Inventory which we can use to create an **instance** of it and saved it in an object called `journal`:"
   ]
  },
  {
   "cell_type": "code",
   "execution_count": 11,
   "metadata": {},
   "outputs": [],
   "source": [
    "journal = Inventory(\"Tumbler\", 50000, 3000)"
   ]
  },
  {
   "cell_type": "markdown",
   "metadata": {},
   "source": [
    "The instance, is as might be able to guess is generated using the `__init__` function declared within the `Inventory` class. This way, everytime you need to create an instance, you can use `Inventory()` and pass in the required parameters."
   ]
  },
  {
   "cell_type": "markdown",
   "metadata": {},
   "source": [
    "### Methods and Attributes\n",
    "\n",
    "A class, as declared in the *blueprint* can also holds a certain attributes and methods. Let's try to understand each of the new term.\n",
    "\n",
    "- Attribute is a variable property owned by the class. In our `Inventory` class, the attributes consist of `name`, `price`, `discount`, and `headline`.\n",
    "- Method is a functional property owned by the class. In our `Inventory` class, we have `net_price()` as the method.\n",
    "\n",
    "A method and attribute can only be accessed once we created an instance out of it:"
   ]
  },
  {
   "cell_type": "code",
   "execution_count": 12,
   "metadata": {},
   "outputs": [
    {
     "name": "stdout",
     "output_type": "stream",
     "text": [
      "47000\n"
     ]
    }
   ],
   "source": [
    "print(journal.net_price())"
   ]
  },
  {
   "cell_type": "code",
   "execution_count": 13,
   "metadata": {},
   "outputs": [
    {
     "name": "stdout",
     "output_type": "stream",
     "text": [
      "Tumbler at 47000 IDR today!\n"
     ]
    }
   ],
   "source": [
    "print(journal.headline)"
   ]
  },
  {
   "cell_type": "markdown",
   "metadata": {},
   "source": [
    "**Dive Deeper:**\n",
    "We'll go ahead and refer to `demo_oop.py` file. Open it in the text editor of your choice!"
   ]
  },
  {
   "cell_type": "markdown",
   "metadata": {},
   "source": [
    "## Variable and Data Types"
   ]
  },
  {
   "cell_type": "markdown",
   "metadata": {},
   "source": [
    "Now we have gone to unnderstanding how object oriented programming, let's take a step back and complete our fundamental building blocks: *variables*.\n",
    "\n",
    "A variable is used in order for us to store a value. So the next time you need to use it, you will refer to the variable you have created before:"
   ]
  },
  {
   "cell_type": "code",
   "execution_count": 17,
   "metadata": {},
   "outputs": [
    {
     "name": "stdout",
     "output_type": "stream",
     "text": [
      "1995\n"
     ]
    }
   ],
   "source": [
    "age = 24\n",
    "\n",
    "print(2019 - age)"
   ]
  },
  {
   "cell_type": "markdown",
   "metadata": {},
   "source": [
    "### Basic Data Types\n",
    "\n",
    "As you work with Python, you will came accross several types of variable:\n",
    "\n",
    "1. Boolean: `True` or `False`\n",
    "2. Numeric: `int`, `float`, `complex`\n",
    "3. Character: Alphanumeric and symbols\n",
    "\n",
    "To return variable types, we can use `type()` function:"
   ]
  },
  {
   "cell_type": "code",
   "execution_count": 51,
   "metadata": {},
   "outputs": [
    {
     "name": "stdout",
     "output_type": "stream",
     "text": [
      "<class 'int'>\n"
     ]
    }
   ],
   "source": [
    "print(type(age))"
   ]
  },
  {
   "cell_type": "markdown",
   "metadata": {},
   "source": [
    "**Dive Deeper**:\n",
    "\n",
    "Can you create a variable for each of the types and use `type()` to check if the variables you created results in the expected class?\n",
    "\n",
    "**Discussion**:\n",
    "\n",
    "Try to create a variable storing your name. Use `type()` on the variable, and it will result in `str`. What do you think an `str` stands for?"
   ]
  },
  {
   "cell_type": "code",
   "execution_count": 42,
   "metadata": {},
   "outputs": [],
   "source": [
    "# ====\n",
    "# YOUR ANSWER HERE\n",
    "# ==="
   ]
  },
  {
   "cell_type": "markdown",
   "metadata": {},
   "source": [
    "A set of values stored in a variable can create a sequence. There are multiple basic data structure to choose form if we were to store a sequence value:\n",
    "\n",
    "1. Tupple\n",
    "2. List\n",
    "3. Dictionary"
   ]
  },
  {
   "cell_type": "code",
   "execution_count": 2,
   "metadata": {},
   "outputs": [
    {
     "name": "stdout",
     "output_type": "stream",
     "text": [
      "<class 'tuple'>\n",
      "<class 'list'>\n"
     ]
    }
   ],
   "source": [
    "a_tuple = \"Python\", \"R\", \"Julia\"\n",
    "print(type(a_tuple))\n",
    "a_list = [\"Python\", \"R\", \"Julia\"]\n",
    "print(type(a_list))"
   ]
  },
  {
   "cell_type": "markdown",
   "metadata": {},
   "source": [
    "The difference of tuple and list is tuple are not mutable or immutable while list is mutable. So what does this mean? This mean that you can change the value in a list, but you can’t do that to a tuple. In a more advance implementation, you will see how it makes more sense to create a tuple over list and vice versa.\n",
    "\n",
    "Lastly, as it name suggested, a Dictionary is what you will use if you need a, well, dictionary. It is used to represent a value and pair it with some unique ID:"
   ]
  },
  {
   "cell_type": "code",
   "execution_count": 49,
   "metadata": {},
   "outputs": [
    {
     "name": "stdout",
     "output_type": "stream",
     "text": [
      "<class 'dict'>\n"
     ]
    }
   ],
   "source": [
    "a_dict = {\"name\": [\"Handoyo\", \"Fafilia\"], \"age\":24}\n",
    "print(type(a_dict))"
   ]
  },
  {
   "cell_type": "code",
   "execution_count": 50,
   "metadata": {},
   "outputs": [
    {
     "name": "stdout",
     "output_type": "stream",
     "text": [
      "['Handoyo', 'Fafilia']\n"
     ]
    }
   ],
   "source": [
    "print(a_dict[\"name\"])"
   ]
  },
  {
   "cell_type": "markdown",
   "metadata": {},
   "source": [
    "Notice how we can use square bracket (`[]`) to take a *subset* of our dictionary. This method is called subsetting, and we will talk more in depth in the next section."
   ]
  },
  {
   "cell_type": "markdown",
   "metadata": {},
   "source": [
    "### Slicing and Index\n",
    "\n",
    "The technique of taking a *subset* from our sequence using element's index is called slicing. You might notice from previous example that you can use a string to specify an element. A more common use, however, is by using an element's index:"
   ]
  },
  {
   "cell_type": "code",
   "execution_count": 3,
   "metadata": {},
   "outputs": [
    {
     "data": {
      "text/plain": [
       "'Python'"
      ]
     },
     "execution_count": 3,
     "metadata": {},
     "output_type": "execute_result"
    }
   ],
   "source": [
    "a_list[0]"
   ]
  },
  {
   "cell_type": "markdown",
   "metadata": {},
   "source": [
    "Notice how specifying `0` would result in the first element of our list. In Python, our indexing starts at the number `0`. This means, to access the third element we'll be using `2` as our subsetting index:"
   ]
  },
  {
   "cell_type": "code",
   "execution_count": 4,
   "metadata": {},
   "outputs": [
    {
     "data": {
      "text/plain": [
       "'Julia'"
      ]
     },
     "execution_count": 4,
     "metadata": {},
     "output_type": "execute_result"
    }
   ],
   "source": [
    "a_list[2]"
   ]
  },
  {
   "cell_type": "markdown",
   "metadata": {},
   "source": [
    "Other related technique, is by using negative as our slicing index, we will get a backward indexing number:"
   ]
  },
  {
   "cell_type": "code",
   "execution_count": 56,
   "metadata": {},
   "outputs": [
    {
     "data": {
      "text/plain": [
       "'Julia'"
      ]
     },
     "execution_count": 56,
     "metadata": {},
     "output_type": "execute_result"
    }
   ],
   "source": [
    "a_list[-1]"
   ]
  },
  {
   "cell_type": "markdown",
   "metadata": {},
   "source": [
    "Slicing list also works with iteration. By specifying a colon (`:`), we can specify the index which we want our slicing to start and end:"
   ]
  },
  {
   "cell_type": "code",
   "execution_count": 62,
   "metadata": {},
   "outputs": [
    {
     "data": {
      "text/plain": [
       "['Python', 'R']"
      ]
     },
     "execution_count": 62,
     "metadata": {},
     "output_type": "execute_result"
    }
   ],
   "source": [
    "a_list[0:2]"
   ]
  },
  {
   "cell_type": "markdown",
   "metadata": {},
   "source": [
    "## Expression and Statement"
   ]
  },
  {
   "cell_type": "markdown",
   "metadata": {},
   "source": [
    "### Basic Operators\n",
    "\n",
    "Working with variables include a series of operation you can do with it. Start with a simple one: *arithmetic operation*. This operation is the most basic operation you can do with your variables. In the following chunk, try out basic arithmetic operations such as `+`, `-`, `/`, `//`, `%`, `**`:"
   ]
  },
  {
   "cell_type": "code",
   "execution_count": 6,
   "metadata": {},
   "outputs": [],
   "source": [
    "# Try out different operations here"
   ]
  },
  {
   "cell_type": "markdown",
   "metadata": {},
   "source": [
    "Now moving on with the uncommon ones. In Python, we treat a *string* as a sequence of characters. We can also apply a string operations toward a string:"
   ]
  },
  {
   "cell_type": "code",
   "execution_count": 8,
   "metadata": {},
   "outputs": [
    {
     "data": {
      "text/plain": [
       "'Tokopedia is the largest e-commerce in Indonesia'"
      ]
     },
     "execution_count": 8,
     "metadata": {},
     "output_type": "execute_result"
    }
   ],
   "source": [
    "brand = \"Tokopedia\"\n",
    "\n",
    "brand + \" is the largest e-commerce in Indonesia\""
   ]
  },
  {
   "cell_type": "markdown",
   "metadata": {},
   "source": [
    "Remember how an object is generated through a class that holds methods and attributes? A string, same with any other object, also has a set of useful methods we can utilize. Let's explore some of them:"
   ]
  },
  {
   "cell_type": "code",
   "execution_count": 9,
   "metadata": {},
   "outputs": [
    {
     "data": {
      "text/plain": [
       "'TOKOPEDIA'"
      ]
     },
     "execution_count": 9,
     "metadata": {},
     "output_type": "execute_result"
    }
   ],
   "source": [
    "brand.upper()"
   ]
  },
  {
   "cell_type": "code",
   "execution_count": 12,
   "metadata": {},
   "outputs": [
    {
     "data": {
      "text/plain": [
       "['Tokopedia', 'is', 'the', 'largest', 'e-commerce', 'in', 'Indonesia']"
      ]
     },
     "execution_count": 12,
     "metadata": {},
     "output_type": "execute_result"
    }
   ],
   "source": [
    "a_sentence = brand + \" is the largest e-commerce in Indonesia\"\n",
    "a_sentence.split()"
   ]
  },
  {
   "cell_type": "code",
   "execution_count": 17,
   "metadata": {},
   "outputs": [
    {
     "data": {
      "text/plain": [
       "'Tokopedia is the largest startup in Indonesia'"
      ]
     },
     "execution_count": 17,
     "metadata": {},
     "output_type": "execute_result"
    }
   ],
   "source": [
    "a_sentence.replace(\"e-commerce\", \"startup\")"
   ]
  },
  {
   "cell_type": "markdown",
   "metadata": {},
   "source": [
    "**Dive Deeper:**\n",
    "\n",
    "Try out different methods you can find within the string object! Remember to always work as closely as possible with Google and read up tons of documentation online!"
   ]
  },
  {
   "cell_type": "markdown",
   "metadata": {},
   "source": [
    "### Conditional Statement and Loops\n",
    "\n",
    "Other fundamentals application in working with programming language is conditional statement. This application implements other types of operator: *logical* and *comparison*.\n",
    "\n",
    "A logical operator is used to operate between booleans and consists of `and`, `or`, and `not`:"
   ]
  },
  {
   "cell_type": "code",
   "execution_count": 19,
   "metadata": {},
   "outputs": [
    {
     "name": "stdout",
     "output_type": "stream",
     "text": [
      "True\n",
      "False\n"
     ]
    }
   ],
   "source": [
    "print(True and True)\n",
    "print(True and False)"
   ]
  },
  {
   "cell_type": "code",
   "execution_count": 20,
   "metadata": {},
   "outputs": [
    {
     "name": "stdout",
     "output_type": "stream",
     "text": [
      "True\n",
      "False\n"
     ]
    }
   ],
   "source": [
    "print(True or False)\n",
    "print(False or False)"
   ]
  },
  {
   "cell_type": "code",
   "execution_count": 21,
   "metadata": {},
   "outputs": [
    {
     "name": "stdout",
     "output_type": "stream",
     "text": [
      "True\n"
     ]
    }
   ],
   "source": [
    "print(not False)"
   ]
  },
  {
   "cell_type": "markdown",
   "metadata": {},
   "source": [
    "While comparison operators is used to compare values between 2 objects:"
   ]
  },
  {
   "cell_type": "code",
   "execution_count": 23,
   "metadata": {},
   "outputs": [
    {
     "name": "stdout",
     "output_type": "stream",
     "text": [
      "True\n",
      "False\n",
      "True\n"
     ]
    }
   ],
   "source": [
    "a = 2\n",
    "b = 3\n",
    "\n",
    "print(a == 2)\n",
    "print(a > 3)\n",
    "print(a != b)"
   ]
  },
  {
   "cell_type": "markdown",
   "metadata": {},
   "source": [
    "This operators are applied to a conditional statements using `if`, a simple, yet powerful application of programming:"
   ]
  },
  {
   "cell_type": "code",
   "execution_count": 26,
   "metadata": {},
   "outputs": [
    {
     "name": "stdout",
     "output_type": "stream",
     "text": [
      "Data Analyst might be the best job ever!\n",
      "Learning how to work with data might be a good investment!\n",
      "Working as a Researcher? Cool!\n",
      "Learning how to work with data might be a good investment!\n"
     ]
    }
   ],
   "source": [
    "jobs = [\"Data Analyst\", \"Student\", \"Researcher\", \"Pilot\"]\n",
    "\n",
    "for job in jobs:\n",
    "    if job == \"Data Analyst\":\n",
    "        print(job + \" might be the best job ever!\")\n",
    "    elif job == \"Researcher\":\n",
    "        print(\"Working as a \"+ job + \"? Cool!\")\n",
    "    else:\n",
    "        print(\"Learning how to work with data might be a good investment!\")"
   ]
  },
  {
   "cell_type": "markdown",
   "metadata": {},
   "source": [
    "Pay attention on how the `for` can automatically iterate through the lists elements within `jobs`. This is a very handy tricks we are going to utilize a lot in the upcoming classes.\n",
    "\n",
    "**Discussion:**\n",
    "\n",
    "Have you heard of `while` loops? How does that differentiate from `for` loops? When do you use one instead of the other?"
   ]
  },
  {
   "cell_type": "markdown",
   "metadata": {},
   "source": [
    "## Functions\n",
    "\n",
    "Defining functions can made a huge difference for our programming practice. It stands for 2 purpose: reproduciblity and modularity. Reproducibility means that a programming logic, can be saved as a function to reuse in the upcoming times. While modularity lean more in grouping a certain programming logic to a function to produce a better categorization for our codes.\n",
    "\n",
    "To create a function we can use the `def` syntax. Recall the methods declared in `demo_oop.py` file:"
   ]
  },
  {
   "cell_type": "code",
   "execution_count": 29,
   "metadata": {},
   "outputs": [],
   "source": [
    "import datetime\n",
    "\n",
    "class User:\n",
    "    def __init__(self, username, email):\n",
    "        self.username = username\n",
    "        self.email = email\n",
    "        self.timestamp = datetime.datetime.now()\n",
    "\n",
    "    def signed_up_on(self):\n",
    "        delta = datetime.datetime.now() - self.timestamp\n",
    "        secs_since = int(delta.total_seconds())\n",
    "        return f\"{self.username} signed up {secs_since} seconds ago.\"\n",
    "    \n",
    "user_A = User(\"tiaradwptr\", \"tiara@algorit.ma.com\")"
   ]
  },
  {
   "cell_type": "code",
   "execution_count": 30,
   "metadata": {},
   "outputs": [
    {
     "data": {
      "text/plain": [
       "'tiaradwptr signed up 15 seconds ago.'"
      ]
     },
     "execution_count": 30,
     "metadata": {},
     "output_type": "execute_result"
    }
   ],
   "source": [
    "user_A.signed_up_on()"
   ]
  },
  {
   "cell_type": "markdown",
   "metadata": {},
   "source": [
    "A method, is basically a function stored within a Class. You can also create a stand-alone function object by using the same `def` syntax:"
   ]
  },
  {
   "cell_type": "code",
   "execution_count": 41,
   "metadata": {},
   "outputs": [],
   "source": [
    "def countDays(Day = datetime.datetime.now()):\n",
    "    TimePass = Day - datetime.datetime(2019,1,1)\n",
    "    return str(TimePass.days) + \" days have passed since the beginning of 2019\""
   ]
  },
  {
   "cell_type": "code",
   "execution_count": 42,
   "metadata": {},
   "outputs": [
    {
     "data": {
      "text/plain": [
       "'190 days have passed since the beginning of 2019'"
      ]
     },
     "execution_count": 42,
     "metadata": {},
     "output_type": "execute_result"
    }
   ],
   "source": [
    "countDays()"
   ]
  },
  {
   "cell_type": "markdown",
   "metadata": {},
   "source": [
    "**Dive Deeper:**\n",
    "\n",
    "Can you create a function to help you calculate number of hours and minutes have passed since you first join Tokopedia?"
   ]
  },
  {
   "cell_type": "markdown",
   "metadata": {},
   "source": [
    "Congratulations, you have finished Getting Started with Python course! This course helps you to get a better idea of a fundamental building blocks in Python Programming. Our team at Algoritma had a nice time preparing the course material and hoped that this could help to kickstart your practice in working more effectively with Python.\n",
    "\n",
    "For those of you that is new to programming, don't be discouraged with the amount of new knowledge you are learning within this course! As long as you are able to master the fundamental concepts, you will find an easier learning curve and find that everything you are doing in Python made complete sense!\n",
    "\n",
    "Always find time to practice the things you learn today and don't be afraid to ask for help. Ask your mentors, friends, online forums, and our team of teaching assistant to help you get through the \"hard part\" in learning programming. Happy coding and good luck!"
   ]
  }
 ],
 "metadata": {
  "kernelspec": {
   "display_name": "Python 3",
   "language": "python",
   "name": "python3"
  },
  "language_info": {
   "codemirror_mode": {
    "name": "ipython",
    "version": 3
   },
   "file_extension": ".py",
   "mimetype": "text/x-python",
   "name": "python",
   "nbconvert_exporter": "python",
   "pygments_lexer": "ipython3",
   "version": "3.7.1"
  },
  "latex_envs": {
   "LaTeX_envs_menu_present": true,
   "autoclose": false,
   "autocomplete": true,
   "bibliofile": "biblio.bib",
   "cite_by": "apalike",
   "current_citInitial": 1,
   "eqLabelWithNumbers": true,
   "eqNumInitial": 1,
   "hotkeys": {
    "equation": "Ctrl-E",
    "itemize": "Ctrl-I"
   },
   "labels_anchors": false,
   "latex_user_defs": false,
   "report_style_numbering": false,
   "user_envs_cfg": false
  },
  "toc": {
   "base_numbering": 1,
   "nav_menu": {},
   "number_sections": true,
   "sideBar": true,
   "skip_h1_title": false,
   "title_cell": "Table of Contents",
   "title_sidebar": "Contents",
   "toc_cell": false,
   "toc_position": {},
   "toc_section_display": true,
   "toc_window_display": false
  }
 },
 "nbformat": 4,
 "nbformat_minor": 2
}
