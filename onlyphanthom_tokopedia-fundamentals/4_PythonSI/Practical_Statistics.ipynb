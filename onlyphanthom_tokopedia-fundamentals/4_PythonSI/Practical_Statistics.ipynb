{
 "cells": [
  {
   "cell_type": "markdown",
   "metadata": {},
   "source": [
    "**Coursebook: Inferential Statistics**\n",
    "- Part 1 of _Python Fundamental Course_\n",
    "- Course Length: 9 Hours\n",
    "- Last Updated: July 2019\n",
    "\n",
    "___\n",
    "\n",
    "- Developed by [Algoritma](https://algorit.ma)'s product division and instructors team"
   ]
  },
  {
   "cell_type": "markdown",
   "metadata": {},
   "source": [
    "\n",
    "\n",
    "# Background"
   ]
  },
  {
   "cell_type": "markdown",
   "metadata": {},
   "source": [
    "The coursebook is part of the **Python Fundamental Course** prepared by [Algoritma](https://algorit.ma). The coursebook is intended for a restricted audience only, i.e. the individuals and organizations having received this coursebook directly from the training organization. It may not be reproduced, distributed, translated or adapted in any form outside these individuals and organizations without permission.\n",
    "\n",
    "Algoritma is a data science education center based in Jakarta. We organize workshops and training programs to help working professionals and students gain mastery in various data science sub-fields: data visualization, machine learning, data modeling, statistical inference etc."
   ]
  },
  {
   "cell_type": "markdown",
   "metadata": {},
   "source": [
    "## Training Objectives\n",
    "\n",
    "On the first section of this course is to pave the statistical foundation for more advance implementation and machine learning implementation. There will be 2 main objectives:\n",
    "\n",
    "- **Descriptive Statistics**\n",
    "- Understanding 5 number summary\n",
    "- Central tendency measure\n",
    "- Variability measure\n",
    "- Z Score and Central limit theorem\n",
    "- **Inferential Statistics**\n",
    "- Probability density function\n",
    "- Confidence intervals\n",
    "- Hypothesis test\n",
    "- Power analysis\n",
    "\n",
    "At the end of this course, we’ll be working with Learn by Building module as your graded assignment. You’ll be working in groups and design an A/B testing of your choice!"
   ]
  },
  {
   "cell_type": "markdown",
   "metadata": {},
   "source": [
    "# Descriptive Statistics\n",
    "\n",
    "Statisticians and data scientists use descriptive statistics to summarize and describe a large number of measurements. Many times, this task is accompanied with graphs and plots that help describe the numerical summary of data. When data science is applied in the business context, an example of descriptive statistic is the average number of transactions per month. Another example is the percentage of e-commerce transactions with a voucher code applied. The simple rule is that descriptive statistics do not involve generalizing beyond the data we have obtained, and are merely descriptive of what we have at hand. The branch of statistics that deal with drawing inferences about the larger population is called inferential statistics.\n",
    "\n",
    "In describing data, we are typically concerned with the task of quantifying and comparing central tendency, variability, and the shape of our data. In this coursebook, we'll be working on with Tokopedia listing item in handphones section:"
   ]
  },
  {
   "cell_type": "code",
   "execution_count": 1,
   "metadata": {},
   "outputs": [
    {
     "data": {
      "text/plain": [
       "product_title      object\n",
       "location           object\n",
       "account_seller     object\n",
       "price             float64\n",
       "review              int64\n",
       "installment       float64\n",
       "rating            float64\n",
       "brand_hp           object\n",
       "dtype: object"
      ]
     },
     "execution_count": 1,
     "metadata": {},
     "output_type": "execute_result"
    }
   ],
   "source": [
    "import pandas as pd\n",
    "\n",
    "hp = pd.read_csv('tokped_hp.csv', encoding='latin8')\n",
    "hp.dtypes"
   ]
  },
  {
   "cell_type": "markdown",
   "metadata": {},
   "source": [
    "The dataset consist of several listing information such as product name, price, review, rating, and brand. Let's explore some of them first to get a good sense from our data:"
   ]
  },
  {
   "cell_type": "code",
   "execution_count": 2,
   "metadata": {},
   "outputs": [
    {
     "data": {
      "text/plain": [
       "xiaomi       1404\n",
       "samsung      1095\n",
       "apple         559\n",
       "oppo          441\n",
       "lain-lain     306\n",
       "vivo          243\n",
       "nokia         209\n",
       "asus          178\n",
       "realme        115\n",
       "sony          107\n",
       "Name: brand_hp, dtype: int64"
      ]
     },
     "execution_count": 2,
     "metadata": {},
     "output_type": "execute_result"
    }
   ],
   "source": [
    "hp.brand_hp.value_counts().head(10)"
   ]
  },
  {
   "cell_type": "markdown",
   "metadata": {},
   "source": [
    "The dataset consist of some well known handphone brand, as we can see most of the data is dominated by Xiaomi and Samsung brand. It is also corresponds to Indonesian market interest. In the next sections, as we go through this module, we are going to explore this specific dataset and see how an Indonesian mobile sales landscape can be extracted using this dataset."
   ]
  },
  {
   "cell_type": "markdown",
   "metadata": {},
   "source": [
    "## Measures of Central Tendency\n",
    "\n",
    "Often times in the exploratory data analysis phase, we want to get a sense of what the **most representative score** of a particular measurement is. We often simplify this idea by referring to it as the “average”, but there are in fact, three measures of central tendency that you need to have in your statistical toolset.\n",
    "\n",
    "The most popular measure of central tendency is the **mean**, which is sometimes represented as $\\bar{x}$ when computed on a **sample** and represented as $\\mu$ when computed on a population. Mean is really the sum of all your measurements, divided by the number of measurements, and works best on data that has an even distribution or a normal distribution (don’t worry if the idea of a normal distribution isn’t clear - we’ll get to that in a while!).\n",
    "\n",
    "Say for example, we are want to see the mean price of Apple phones. Luckily, pandas data frame came with a function that works well with a Series object:"
   ]
  },
  {
   "cell_type": "code",
   "execution_count": 3,
   "metadata": {},
   "outputs": [
    {
     "data": {
      "text/plain": [
       "'IDR 5,677,991.95'"
      ]
     },
     "execution_count": 3,
     "metadata": {},
     "output_type": "execute_result"
    }
   ],
   "source": [
    "'IDR {:,.2f}'.format(hp[hp.brand_hp == 'apple'].price.mean())"
   ]
  },
  {
   "cell_type": "markdown",
   "metadata": {},
   "source": [
    "The **median** is the point of value that cuts the distribution into two equal halves such that 50% of the observations are below it. To find this value, we would order the observations and find the middle value that separates the distribution into two equal halves."
   ]
  },
  {
   "cell_type": "code",
   "execution_count": 4,
   "metadata": {},
   "outputs": [
    {
     "data": {
      "text/plain": [
       "'IDR 3,999,000.00'"
      ]
     },
     "execution_count": 4,
     "metadata": {},
     "output_type": "execute_result"
    }
   ],
   "source": [
    "'IDR {:,.2f}'.format(hp[hp.brand_hp == 'apple'].price.median())"
   ]
  },
  {
   "cell_type": "markdown",
   "metadata": {},
   "source": [
    "For data with odd number of observations, the median is the middle value but for data with an even number of observations we would instead use the average of the two middle scores:"
   ]
  },
  {
   "cell_type": "code",
   "execution_count": 5,
   "metadata": {},
   "outputs": [
    {
     "data": {
      "text/plain": [
       "3300000.0"
      ]
     },
     "execution_count": 5,
     "metadata": {},
     "output_type": "execute_result"
    }
   ],
   "source": [
    "odds_price = hp[hp.brand_hp == 'apple'].iloc[0:9,:]\n",
    "odds_price.price.median()"
   ]
  },
  {
   "cell_type": "code",
   "execution_count": 6,
   "metadata": {},
   "outputs": [
    {
     "data": {
      "text/plain": [
       "3300000.0"
      ]
     },
     "execution_count": 6,
     "metadata": {},
     "output_type": "execute_result"
    }
   ],
   "source": [
    "odds_price.sort_values('price').price.tolist()[4]"
   ]
  },
  {
   "cell_type": "code",
   "execution_count": 7,
   "metadata": {},
   "outputs": [
    {
     "data": {
      "text/plain": [
       "2925000.0"
      ]
     },
     "execution_count": 7,
     "metadata": {},
     "output_type": "execute_result"
    }
   ],
   "source": [
    "odds_price = hp[hp.brand_hp == 'apple'].iloc[0:10,:]\n",
    "odds_price.price.median()"
   ]
  },
  {
   "cell_type": "code",
   "execution_count": 8,
   "metadata": {},
   "outputs": [
    {
     "data": {
      "text/plain": [
       "2925000.0"
      ]
     },
     "execution_count": 8,
     "metadata": {},
     "output_type": "execute_result"
    }
   ],
   "source": [
    "fourth = odds_price.sort_values('price').price.tolist()[4]\n",
    "fifth = odds_price.sort_values('price').price.tolist()[5]\n",
    "\n",
    "(fourth + fifth)/2"
   ]
  },
  {
   "cell_type": "markdown",
   "metadata": {},
   "source": [
    "We need to be cautious when applying the mean on data with a skewed distribution because the mean may not be the best candidate for a most representative score compared to other measures of central tendency. Let's take the first 99 rows of our apple phones:"
   ]
  },
  {
   "cell_type": "code",
   "execution_count": 9,
   "metadata": {},
   "outputs": [
    {
     "data": {
      "text/html": [
       "<div>\n",
       "<style scoped>\n",
       "    .dataframe tbody tr th:only-of-type {\n",
       "        vertical-align: middle;\n",
       "    }\n",
       "\n",
       "    .dataframe tbody tr th {\n",
       "        vertical-align: top;\n",
       "    }\n",
       "\n",
       "    .dataframe thead th {\n",
       "        text-align: right;\n",
       "    }\n",
       "</style>\n",
       "<table border=\"1\" class=\"dataframe\">\n",
       "  <thead>\n",
       "    <tr style=\"text-align: right;\">\n",
       "      <th></th>\n",
       "      <th>price</th>\n",
       "      <th>review</th>\n",
       "      <th>installment</th>\n",
       "      <th>rating</th>\n",
       "    </tr>\n",
       "  </thead>\n",
       "  <tbody>\n",
       "    <tr>\n",
       "      <th>count</th>\n",
       "      <td>9.900000e+01</td>\n",
       "      <td>99.000000</td>\n",
       "      <td>99.000000</td>\n",
       "      <td>99.000000</td>\n",
       "    </tr>\n",
       "    <tr>\n",
       "      <th>mean</th>\n",
       "      <td>4.753343e+06</td>\n",
       "      <td>94.494949</td>\n",
       "      <td>198056.323232</td>\n",
       "      <td>4.818182</td>\n",
       "    </tr>\n",
       "    <tr>\n",
       "      <th>std</th>\n",
       "      <td>3.653102e+06</td>\n",
       "      <td>87.872864</td>\n",
       "      <td>152212.612375</td>\n",
       "      <td>0.153439</td>\n",
       "    </tr>\n",
       "    <tr>\n",
       "      <th>min</th>\n",
       "      <td>3.950000e+05</td>\n",
       "      <td>6.000000</td>\n",
       "      <td>16459.000000</td>\n",
       "      <td>4.300000</td>\n",
       "    </tr>\n",
       "    <tr>\n",
       "      <th>25%</th>\n",
       "      <td>2.449500e+06</td>\n",
       "      <td>36.500000</td>\n",
       "      <td>102062.500000</td>\n",
       "      <td>4.700000</td>\n",
       "    </tr>\n",
       "    <tr>\n",
       "      <th>50%</th>\n",
       "      <td>3.500000e+06</td>\n",
       "      <td>68.000000</td>\n",
       "      <td>145834.000000</td>\n",
       "      <td>4.800000</td>\n",
       "    </tr>\n",
       "    <tr>\n",
       "      <th>75%</th>\n",
       "      <td>5.350000e+06</td>\n",
       "      <td>127.500000</td>\n",
       "      <td>222917.000000</td>\n",
       "      <td>4.950000</td>\n",
       "    </tr>\n",
       "    <tr>\n",
       "      <th>max</th>\n",
       "      <td>1.720000e+07</td>\n",
       "      <td>665.000000</td>\n",
       "      <td>716667.000000</td>\n",
       "      <td>5.000000</td>\n",
       "    </tr>\n",
       "  </tbody>\n",
       "</table>\n",
       "</div>"
      ],
      "text/plain": [
       "              price      review    installment     rating\n",
       "count  9.900000e+01   99.000000      99.000000  99.000000\n",
       "mean   4.753343e+06   94.494949  198056.323232   4.818182\n",
       "std    3.653102e+06   87.872864  152212.612375   0.153439\n",
       "min    3.950000e+05    6.000000   16459.000000   4.300000\n",
       "25%    2.449500e+06   36.500000  102062.500000   4.700000\n",
       "50%    3.500000e+06   68.000000  145834.000000   4.800000\n",
       "75%    5.350000e+06  127.500000  222917.000000   4.950000\n",
       "max    1.720000e+07  665.000000  716667.000000   5.000000"
      ]
     },
     "execution_count": 9,
     "metadata": {},
     "output_type": "execute_result"
    }
   ],
   "source": [
    "apple_sample = hp[hp.brand_hp == 'apple'].iloc[0:99,:]\n",
    "apple_sample.describe()"
   ]
  },
  {
   "cell_type": "markdown",
   "metadata": {},
   "source": [
    "And then imagine if there's a new product listing selling an Apple iPhone XS Max 512GB priced at IDR 27 Mil. Let's simulate that and calculate the sample's mean:"
   ]
  },
  {
   "cell_type": "code",
   "execution_count": 10,
   "metadata": {
    "scrolled": true
   },
   "outputs": [],
   "source": [
    "new_product = {\n",
    "    'product_title': ['Apple iPhone XS Max 512 GB'],\n",
    "    'price': [27000000],\n",
    "    'brand_hp': ['apple']\n",
    "}\n",
    "\n",
    "new_row = pd.DataFrame(data=new_product)\n",
    "apple_sample = apple_sample.append(new_row, sort=False)"
   ]
  },
  {
   "cell_type": "markdown",
   "metadata": {},
   "source": [
    "Now calculating the central tendency:"
   ]
  },
  {
   "cell_type": "code",
   "execution_count": 11,
   "metadata": {},
   "outputs": [
    {
     "data": {
      "text/plain": [
       "'4,975,810.00'"
      ]
     },
     "execution_count": 11,
     "metadata": {},
     "output_type": "execute_result"
    }
   ],
   "source": [
    "'{:,.2f}'.format(apple_sample.price.mean())"
   ]
  },
  {
   "cell_type": "code",
   "execution_count": 12,
   "metadata": {},
   "outputs": [
    {
     "data": {
      "text/plain": [
       "'3,500,000.00'"
      ]
     },
     "execution_count": 12,
     "metadata": {},
     "output_type": "execute_result"
    }
   ],
   "source": [
    "'{:,.2f}'.format(apple_sample.price.median())"
   ]
  },
  {
   "cell_type": "markdown",
   "metadata": {},
   "source": [
    "The mean puts that figure at about almost 1.5 times higher and is not truly representative of the actual price. While as we can see in the initial `describe()` that only 25% of our data has price more than 5.3 Mil, the mean value of price would have believe that the average price of our Apple phones was in fact is around 4.9 Mil.\n",
    "\n",
    "The median in this case is a better measure of centrality because it is not sensitive to the outlier data.\n",
    "\n",
    "If we are in fact, *required* to compute the mean on data with skewed distribution, another technique to reduce the influence of outlier data is to use a slight variation of the mean, called the Trimmed Mean. The trimmed mean removes a small designated percentage of the largest and smallest values before computing the mean. While pandas data frame does not support trimmed mean, we can use `scipy` package for `trim_mean()`:"
   ]
  },
  {
   "cell_type": "code",
   "execution_count": 13,
   "metadata": {},
   "outputs": [
    {
     "data": {
      "text/plain": [
       "'4,165,725.00'"
      ]
     },
     "execution_count": 13,
     "metadata": {},
     "output_type": "execute_result"
    }
   ],
   "source": [
    "from scipy.stats import trim_mean\n",
    "\n",
    "'{:,.2f}'.format(trim_mean(apple_sample.price, .1))"
   ]
  },
  {
   "cell_type": "markdown",
   "metadata": {},
   "source": [
    "The second parameters would trimmed 10% of the leftmost and rightmost values after sorting, and this figure is slightly beliavable than the previous one."
   ]
  },
  {
   "cell_type": "markdown",
   "metadata": {},
   "source": [
    "When there are discreet values for a variable, the **mode** refers to the value that occurs most frequently. This statistic is rarely used in practice, but pandas data frame also come in with the function:"
   ]
  },
  {
   "cell_type": "code",
   "execution_count": 14,
   "metadata": {},
   "outputs": [
    {
     "data": {
      "text/plain": [
       "0    Jakarta\n",
       "dtype: object"
      ]
     },
     "execution_count": 14,
     "metadata": {},
     "output_type": "execute_result"
    }
   ],
   "source": [
    "hp[hp.brand_hp == 'apple'].location.mode()"
   ]
  },
  {
   "cell_type": "markdown",
   "metadata": {},
   "source": [
    "## Measures of Spread"
   ]
  },
  {
   "cell_type": "markdown",
   "metadata": {},
   "source": [
    "Measures of spread measures the extent to which **value in a distribution differ from each other.** In practice, it is far easier to compute the distance between the values to their mean and when we square each one of these distances and add them all up the average1 of that result is known as **variance**. Taking the square root of the variance will result in the **standard deviation**. Just like the mean, standard deviation is the “expected value” of how far the scores deviate from the mean.\n",
    "\n",
    "To change the scenery a bit, let's take a look at Xiaomi brand from our dataset:"
   ]
  },
  {
   "cell_type": "code",
   "execution_count": 15,
   "metadata": {},
   "outputs": [
    {
     "data": {
      "text/plain": [
       "1269429778891.8962"
      ]
     },
     "execution_count": 15,
     "metadata": {},
     "output_type": "execute_result"
    }
   ],
   "source": [
    "hp[hp.brand_hp == 'xiaomi'].price.var()"
   ]
  },
  {
   "cell_type": "markdown",
   "metadata": {},
   "source": [
    "And taking the square root of variance yields the standard deviation:"
   ]
  },
  {
   "cell_type": "code",
   "execution_count": 16,
   "metadata": {},
   "outputs": [
    {
     "data": {
      "text/plain": [
       "'1,126,689.74'"
      ]
     },
     "execution_count": 16,
     "metadata": {},
     "output_type": "execute_result"
    }
   ],
   "source": [
    "'{:,.2f}'.format(hp[hp.brand_hp == 'xiaomi'].price.std())"
   ]
  },
  {
   "cell_type": "markdown",
   "metadata": {},
   "source": [
    "As stated before, think of standard deviation as the \"expected standard deviation from the mean\", means that if we were to calculate its mean, we expect positive and negative deviation around 1.1 Mil from the mean to be \"normal\"."
   ]
  },
  {
   "cell_type": "code",
   "execution_count": 17,
   "metadata": {},
   "outputs": [
    {
     "data": {
      "text/plain": [
       "'1,951,973.21'"
      ]
     },
     "execution_count": 17,
     "metadata": {},
     "output_type": "execute_result"
    }
   ],
   "source": [
    "'{:,.2f}'.format(hp[hp.brand_hp == 'xiaomi'].price.mean())"
   ]
  },
  {
   "cell_type": "markdown",
   "metadata": {},
   "source": [
    "Variance and standard deviation are always positive when the values are not identical. When there’s no variability, the variance is 0. Because variance and standard deviation are sensitive to every value, they may not be the most “representative” measurement for skewed data.\n",
    "\n",
    "Other measurements of the spread are the **range** and the **interquartile range**. The range is the distance from our smallest measurement to the largest one:"
   ]
  },
  {
   "cell_type": "code",
   "execution_count": 18,
   "metadata": {},
   "outputs": [
    {
     "data": {
      "text/plain": [
       "'9,570,000.00'"
      ]
     },
     "execution_count": 18,
     "metadata": {},
     "output_type": "execute_result"
    }
   ],
   "source": [
    "top = hp[hp.brand_hp == 'xiaomi'].price.max()\n",
    "bottom = hp[hp.brand_hp == 'xiaomi'].price.min()\n",
    "\n",
    "'{:,.2f}'.format(top-bottom)"
   ]
  },
  {
   "cell_type": "markdown",
   "metadata": {},
   "source": [
    "The interquartile range is the range computed for the middle 50% of the distribution:"
   ]
  },
  {
   "cell_type": "code",
   "execution_count": 19,
   "metadata": {},
   "outputs": [
    {
     "data": {
      "text/plain": [
       "'1,126,000.00'"
      ]
     },
     "execution_count": 19,
     "metadata": {},
     "output_type": "execute_result"
    }
   ],
   "source": [
    "third_quantile = hp[hp.brand_hp == 'xiaomi'].price.quantile(0.75)\n",
    "first_quantile = hp[hp.brand_hp == 'xiaomi'].price.quantile(0.25)\n",
    "\n",
    "'{:,.2f}'.format(third_quantile-first_quantile)"
   ]
  },
  {
   "cell_type": "markdown",
   "metadata": {},
   "source": [
    "Recall how we can call `describe()` to create a summarized numerical information for each column? It gives us a quick access to what we have learned in this section:"
   ]
  },
  {
   "cell_type": "code",
   "execution_count": 20,
   "metadata": {},
   "outputs": [
    {
     "data": {
      "text/plain": [
       "count    1.404000e+03\n",
       "mean     1.951973e+06\n",
       "std      1.126690e+06\n",
       "min      5.000000e+03\n",
       "25%      1.199000e+06\n",
       "50%      1.636000e+06\n",
       "75%      2.325000e+06\n",
       "max      9.575000e+06\n",
       "Name: price, dtype: float64"
      ]
     },
     "execution_count": 20,
     "metadata": {},
     "output_type": "execute_result"
    }
   ],
   "source": [
    "hp[hp.brand_hp == 'xiaomi'].price.describe()"
   ]
  },
  {
   "cell_type": "markdown",
   "metadata": {},
   "source": [
    "**Discussion:**\n",
    "\n",
    "Which financial assets has more votality in their annual price?"
   ]
  },
  {
   "cell_type": "code",
   "execution_count": 21,
   "metadata": {},
   "outputs": [],
   "source": [
    "price_coins = [1.4, 0.4, 0.8, 1.1, 1.8, 2.2, 2.3, 1.2]\n",
    "price_oil = [1.6, 1.2, 1.9, 0.8, 0.6, 1.5, 2.1, 1.5]"
   ]
  },
  {
   "cell_type": "markdown",
   "metadata": {},
   "source": [
    "The primary measure of votality used by stock traders and financial analysts is standard deviation, and recall that this metric reflects the average amount of an item’s price over a period of time. While the price for our fictional “oil” asset and “coins” asset averaged out to be USD 1.4 over time, which of these two present a higher votality than the other?"
   ]
  },
  {
   "cell_type": "markdown",
   "metadata": {},
   "source": [
    "A common way to quickly inspect a data is by using visualization techniques. Let's recall back to last week course using Bokeh. The following codes is used to create a *box plot*. This plot provides you a five number summary and is really useful for you to understand the distribution. It contains a several components:  \n",
    "- First quantile  \n",
    "- Median  \n",
    "- Third quantile  \n",
    "- Inner and outer fence  \n",
    "- Outliers  \n",
    "\n",
    "Let's try to use `pandas` built-in `boxplot()` function:"
   ]
  },
  {
   "cell_type": "code",
   "execution_count": 22,
   "metadata": {},
   "outputs": [
    {
     "data": {
      "text/plain": [
       "<AxesSubplot:title={'center':'price'}, xlabel='brand_hp'>"
      ]
     },
     "execution_count": 22,
     "metadata": {},
     "output_type": "execute_result"
    },
    {
     "data": {
      "image/png": "[encoded data removed]",
      "text/plain": [
       "<Figure size 432x288 with 1 Axes>"
      ]
     },
     "metadata": {
      "needs_background": "light"
     },
     "output_type": "display_data"
    }
   ],
   "source": [
    "brands = ['apple', 'xiaomi']\n",
    "xiaomi_apple = hp[hp.brand_hp.isin(brands)]\n",
    "\n",
    "xiaomi_apple.boxplot(column='price', by='brand_hp')"
   ]
  },
  {
   "cell_type": "markdown",
   "metadata": {},
   "source": [
    "**Discussion:**\n",
    "\n",
    "How do you interpret the above boxplot? Can you say whether or not the two brands has different pricing standard?"
   ]
  },
  {
   "cell_type": "markdown",
   "metadata": {},
   "source": [
    "## Covariance and Correlation\n",
    "\n",
    "When we have two samples, X and Y, of the same size, then the **covariance** is an estimate of how **variation in X is related to the variation in Y**. Covariance measures how two variables *covary* and is represented as:\n",
    "\n",
    "$Cov(X,Y) = \\frac{1}{n-1} \\sum_{i=1}^{n}(X_i - \\mu_X)(Y_i - \\mu_Y)$"
   ]
  },
  {
   "cell_type": "code",
   "execution_count": 23,
   "metadata": {},
   "outputs": [
    {
     "data": {
      "text/html": [
       "<div>\n",
       "<style scoped>\n",
       "    .dataframe tbody tr th:only-of-type {\n",
       "        vertical-align: middle;\n",
       "    }\n",
       "\n",
       "    .dataframe tbody tr th {\n",
       "        vertical-align: top;\n",
       "    }\n",
       "\n",
       "    .dataframe thead th {\n",
       "        text-align: right;\n",
       "    }\n",
       "</style>\n",
       "<table border=\"1\" class=\"dataframe\">\n",
       "  <thead>\n",
       "    <tr style=\"text-align: right;\">\n",
       "      <th></th>\n",
       "      <th>price</th>\n",
       "      <th>review</th>\n",
       "      <th>installment</th>\n",
       "      <th>rating</th>\n",
       "    </tr>\n",
       "  </thead>\n",
       "  <tbody>\n",
       "    <tr>\n",
       "      <th>price</th>\n",
       "      <td>5.851683e+12</td>\n",
       "      <td>-3.626288e+07</td>\n",
       "      <td>2.438004e+11</td>\n",
       "      <td>66207.455167</td>\n",
       "    </tr>\n",
       "    <tr>\n",
       "      <th>review</th>\n",
       "      <td>-3.626288e+07</td>\n",
       "      <td>3.081258e+04</td>\n",
       "      <td>-1.511326e+06</td>\n",
       "      <td>-1.744481</td>\n",
       "    </tr>\n",
       "    <tr>\n",
       "      <th>installment</th>\n",
       "      <td>2.438004e+11</td>\n",
       "      <td>-1.511326e+06</td>\n",
       "      <td>1.015783e+10</td>\n",
       "      <td>2759.214768</td>\n",
       "    </tr>\n",
       "    <tr>\n",
       "      <th>rating</th>\n",
       "      <td>6.620746e+04</td>\n",
       "      <td>-1.744481e+00</td>\n",
       "      <td>2.759215e+03</td>\n",
       "      <td>0.035065</td>\n",
       "    </tr>\n",
       "  </tbody>\n",
       "</table>\n",
       "</div>"
      ],
      "text/plain": [
       "                    price        review   installment        rating\n",
       "price        5.851683e+12 -3.626288e+07  2.438004e+11  66207.455167\n",
       "review      -3.626288e+07  3.081258e+04 -1.511326e+06     -1.744481\n",
       "installment  2.438004e+11 -1.511326e+06  1.015783e+10   2759.214768\n",
       "rating       6.620746e+04 -1.744481e+00  2.759215e+03      0.035065"
      ]
     },
     "execution_count": 23,
     "metadata": {},
     "output_type": "execute_result"
    }
   ],
   "source": [
    "hp.cov()"
   ]
  },
  {
   "cell_type": "markdown",
   "metadata": {},
   "source": [
    "Getting a negative covariance means that smaller X tends to be associated with larger Y (and vice versa). The covariance of any variable with itself is its variance2. Notice also that $Cov(X,Y) = Cov(Y,X)$."
   ]
  },
  {
   "cell_type": "markdown",
   "metadata": {},
   "source": [
    "**Correlation**, unlike covariance, is not sensitive to the units in which our variables X and Y are measured and hence more useful for determining how strong the relationship is between variables:"
   ]
  },
  {
   "cell_type": "code",
   "execution_count": 24,
   "metadata": {},
   "outputs": [
    {
     "data": {
      "text/html": [
       "<div>\n",
       "<style scoped>\n",
       "    .dataframe tbody tr th:only-of-type {\n",
       "        vertical-align: middle;\n",
       "    }\n",
       "\n",
       "    .dataframe tbody tr th {\n",
       "        vertical-align: top;\n",
       "    }\n",
       "\n",
       "    .dataframe thead th {\n",
       "        text-align: right;\n",
       "    }\n",
       "</style>\n",
       "<table border=\"1\" class=\"dataframe\">\n",
       "  <thead>\n",
       "    <tr style=\"text-align: right;\">\n",
       "      <th></th>\n",
       "      <th>price</th>\n",
       "      <th>review</th>\n",
       "      <th>installment</th>\n",
       "      <th>rating</th>\n",
       "    </tr>\n",
       "  </thead>\n",
       "  <tbody>\n",
       "    <tr>\n",
       "      <th>price</th>\n",
       "      <td>1.000000</td>\n",
       "      <td>-0.085400</td>\n",
       "      <td>0.999985</td>\n",
       "      <td>0.146161</td>\n",
       "    </tr>\n",
       "    <tr>\n",
       "      <th>review</th>\n",
       "      <td>-0.085400</td>\n",
       "      <td>1.000000</td>\n",
       "      <td>-0.085427</td>\n",
       "      <td>-0.053072</td>\n",
       "    </tr>\n",
       "    <tr>\n",
       "      <th>installment</th>\n",
       "      <td>0.999985</td>\n",
       "      <td>-0.085427</td>\n",
       "      <td>1.000000</td>\n",
       "      <td>0.146201</td>\n",
       "    </tr>\n",
       "    <tr>\n",
       "      <th>rating</th>\n",
       "      <td>0.146161</td>\n",
       "      <td>-0.053072</td>\n",
       "      <td>0.146201</td>\n",
       "      <td>1.000000</td>\n",
       "    </tr>\n",
       "  </tbody>\n",
       "</table>\n",
       "</div>"
      ],
      "text/plain": [
       "                price    review  installment    rating\n",
       "price        1.000000 -0.085400     0.999985  0.146161\n",
       "review      -0.085400  1.000000    -0.085427 -0.053072\n",
       "installment  0.999985 -0.085427     1.000000  0.146201\n",
       "rating       0.146161 -0.053072     0.146201  1.000000"
      ]
     },
     "execution_count": 24,
     "metadata": {},
     "output_type": "execute_result"
    }
   ],
   "source": [
    "hp.corr()"
   ]
  },
  {
   "cell_type": "markdown",
   "metadata": {},
   "source": [
    "Some facts about correlation:  \n",
    "- $Cor(X,Y) == Cor(Y,X) $ \n",
    "- $-1 <= Cor(X,Y) <= 1 $ \n",
    "- $Cor(X,Y)$ is 1 or -1 only when the X and Y observations fall perfectly on a positive or negatively sloped line  \n",
    "- $Cor(X,Y) = 0$ implies no linear relationship  "
   ]
  },
  {
   "cell_type": "markdown",
   "metadata": {},
   "source": [
    "Say you had a rather large amount of variables in your hand. While python can handle large numbers well, a visualization technique called correlation plot can save you some time in inspecting your data. First let's create the dictionary for each correlation value per pairs:"
   ]
  },
  {
   "cell_type": "code",
   "execution_count": 25,
   "metadata": {},
   "outputs": [
    {
     "data": {
      "text/plain": [
       "{'x': ['price',\n",
       "  'review',\n",
       "  'installment',\n",
       "  'rating',\n",
       "  'price',\n",
       "  'review',\n",
       "  'installment',\n",
       "  'rating',\n",
       "  'price',\n",
       "  'review',\n",
       "  'installment',\n",
       "  'rating',\n",
       "  'price',\n",
       "  'review',\n",
       "  'installment',\n",
       "  'rating'],\n",
       " 'y': ['price',\n",
       "  'price',\n",
       "  'price',\n",
       "  'price',\n",
       "  'review',\n",
       "  'review',\n",
       "  'review',\n",
       "  'review',\n",
       "  'installment',\n",
       "  'installment',\n",
       "  'installment',\n",
       "  'installment',\n",
       "  'rating',\n",
       "  'rating',\n",
       "  'rating',\n",
       "  'rating'],\n",
       " 'corr': [1.0,\n",
       "  -0.08540000631625969,\n",
       "  0.9999852690071831,\n",
       "  0.146161262981343,\n",
       "  -0.08540000631625969,\n",
       "  1.0,\n",
       "  -0.08542672928219056,\n",
       "  -0.05307230002417964,\n",
       "  0.9999852690071831,\n",
       "  -0.08542672928219056,\n",
       "  1.0,\n",
       "  0.14620115843522424,\n",
       "  0.146161262981343,\n",
       "  -0.05307230002417964,\n",
       "  0.14620115843522424,\n",
       "  1.0]}"
      ]
     },
     "execution_count": 25,
     "metadata": {},
     "output_type": "execute_result"
    }
   ],
   "source": [
    "corr_table = hp.corr()\n",
    "\n",
    "val = []\n",
    "x = []\n",
    "y = []\n",
    "\n",
    "for index,row in corr_table.iterrows():\n",
    "    i = row.index.tolist()\n",
    "    for e in range(0,len(row)):\n",
    "        val.append(row[e])\n",
    "        y.append(index)\n",
    "        x.append(row.index.tolist()[e])\n",
    "        \n",
    "rect_dict = dict(x=x, y=y, corr=val)\n",
    "rect_dict"
   ]
  },
  {
   "cell_type": "markdown",
   "metadata": {},
   "source": [
    "Since we'll be using `bokeh` let's import the package and prepare our Notebook:"
   ]
  },
  {
   "cell_type": "code",
   "execution_count": 26,
   "metadata": {},
   "outputs": [
    {
     "data": {
      "text/html": [
       "\n",
       "    <div class=\"bk-root\">\n",
       "        <a href=\"https://bokeh.org\" target=\"_blank\" class=\"bk-logo bk-logo-small bk-logo-notebook\"></a>\n",
       "        <span id=\"1001\">Loading BokehJS ...</span>\n",
       "    </div>"
      ]
     },
     "metadata": {},
     "output_type": "display_data"
    },
    {
     "data": {
      "application/javascript": "\n(function(root) {\n  function now() {\n    return new Date();\n  }\n\n  const force = true;\n\n  if (typeof root._bokeh_onload_callbacks === \"undefined\" || force === true) {\n    root._bokeh_onload_callbacks = [];\n    root._bokeh_is_loading = undefined;\n  }\n\n  const JS_MIME_TYPE = 'application/javascript';\n  const HTML_MIME_TYPE = 'text/html';\n  const EXEC_MIME_TYPE = 'application/vnd.bokehjs_exec.v0+json';\n  const CLASS_NAME = 'output_bokeh rendered_html';\n\n  /**\n   * Render data to the DOM node\n   */\n  function render(props, node) {\n    const script = document.createElement(\"script\");\n    node.appendChild(script);\n  }\n\n  /**\n   * Handle when an output is cleared or removed\n   */\n  function handleClearOutput(event, handle) {\n    const cell = handle.cell;\n\n    const id = cell.output_area._bokeh_element_id;\n    const server_id = cell.output_area._bokeh_server_id;\n    // Clean up Bokeh references\n    if (id != null && id in Bokeh.index) {\n      Bokeh.index[id].model.document.clear();\n      delete Bokeh.index[id];\n    }\n\n    if (server_id !== undefined) {\n      // Clean up Bokeh references\n      const cmd_clean = \"from bokeh.io.state import curstate; print(curstate().uuid_to_server['\" + server_id + \"'].get_sessions()[0].document.roots[0]._id)\";\n      cell.notebook.kernel.execute(cmd_clean, {\n        iopub: {\n          output: function(msg) {\n            const id = msg.content.text.trim();\n            if (id in Bokeh.index) {\n              Bokeh.index[id].model.document.clear();\n              delete Bokeh.index[id];\n            }\n          }\n        }\n      });\n      // Destroy server and session\n      const cmd_destroy = \"import bokeh.io.notebook as ion; ion.destroy_server('\" + server_id + \"')\";\n      cell.notebook.kernel.execute(cmd_destroy);\n    }\n  }\n\n  /**\n   * Handle when a new output is added\n   */\n  function handleAddOutput(event, handle) {\n    const output_area = handle.output_area;\n    const output = handle.output;\n\n    // limit handleAddOutput to display_data with EXEC_MIME_TYPE content only\n    if ((output.output_type != \"display_data\") || (!Object.prototype.hasOwnProperty.call(output.data, EXEC_MIME_TYPE))) {\n      return\n    }\n\n    const toinsert = output_area.element.find(\".\" + CLASS_NAME.split(' ')[0]);\n\n    if (output.metadata[EXEC_MIME_TYPE][\"id\"] !== undefined) {\n      toinsert[toinsert.length - 1].firstChild.textContent = output.data[JS_MIME_TYPE];\n      // store reference to embed id on output_area\n      output_area._bokeh_element_id = output.metadata[EXEC_MIME_TYPE][\"id\"];\n    }\n    if (output.metadata[EXEC_MIME_TYPE][\"server_id\"] !== undefined) {\n      const bk_div = document.createElement(\"div\");\n      bk_div.innerHTML = output.data[HTML_MIME_TYPE];\n      const script_attrs = bk_div.children[0].attributes;\n      for (let i = 0; i < script_attrs.length; i++) {\n        toinsert[toinsert.length - 1].firstChild.setAttribute(script_attrs[i].name, script_attrs[i].value);\n        toinsert[toinsert.length - 1].firstChild.textContent = bk_div.children[0].textContent\n      }\n      // store reference to server id on output_area\n      output_area._bokeh_server_id = output.metadata[EXEC_MIME_TYPE][\"server_id\"];\n    }\n  }\n\n  function register_renderer(events, OutputArea) {\n\n    function append_mime(data, metadata, element) {\n      // create a DOM node to render to\n      const toinsert = this.create_output_subarea(\n        metadata,\n        CLASS_NAME,\n        EXEC_MIME_TYPE\n      );\n      this.keyboard_manager.register_events(toinsert);\n      // Render to node\n      const props = {data: data, metadata: metadata[EXEC_MIME_TYPE]};\n      render(props, toinsert[toinsert.length - 1]);\n      element.append(toinsert);\n      return toinsert\n    }\n\n    /* Handle when an output is cleared or removed */\n    events.on('clear_output.CodeCell', handleClearOutput);\n    events.on('delete.Cell', handleClearOutput);\n\n    /* Handle when a new output is added */\n    events.on('output_added.OutputArea', handleAddOutput);\n\n    /**\n     * Register the mime type and append_mime function with output_area\n     */\n    OutputArea.prototype.register_mime_type(EXEC_MIME_TYPE, append_mime, {\n      /* Is output safe? */\n      safe: true,\n      /* Index of renderer in `output_area.display_order` */\n      index: 0\n    });\n  }\n\n  // register the mime type if in Jupyter Notebook environment and previously unregistered\n  if (root.Jupyter !== undefined) {\n    const events = require('base/js/events');\n    const OutputArea = require('notebook/js/outputarea').OutputArea;\n\n    if (OutputArea.prototype.mime_types().indexOf(EXEC_MIME_TYPE) == -1) {\n      register_renderer(events, OutputArea);\n    }\n  }\n\n  \n  if (typeof (root._bokeh_timeout) === \"undefined\" || force === true) {\n    root._bokeh_timeout = Date.now() + 5000;\n    root._bokeh_failed_load = false;\n  }\n\n  const NB_LOAD_WARNING = {'data': {'text/html':\n     \"<div style='background-color: #fdd'>\\n\"+\n     \"<p>\\n\"+\n     \"BokehJS does not appear to have successfully loaded. If loading BokehJS from CDN, this \\n\"+\n     \"may be due to a slow or bad network connection. Possible fixes:\\n\"+\n     \"</p>\\n\"+\n     \"<ul>\\n\"+\n     \"<li>re-rerun `output_notebook()` to attempt to load from CDN again, or</li>\\n\"+\n     \"<li>use INLINE resources instead, as so:</li>\\n\"+\n     \"</ul>\\n\"+\n     \"<code>\\n\"+\n     \"from bokeh.resources import INLINE\\n\"+\n     \"output_notebook(resources=INLINE)\\n\"+\n     \"</code>\\n\"+\n     \"</div>\"}};\n\n  function display_loaded() {\n    const el = document.getElementById(\"1001\");\n    if (el != null) {\n      el.textContent = \"BokehJS is loading...\";\n    }\n    if (root.Bokeh !== undefined) {\n      if (el != null) {\n        el.textContent = \"BokehJS \" + root.Bokeh.version + \" successfully loaded.\";\n      }\n    } else if (Date.now() < root._bokeh_timeout) {\n      setTimeout(display_loaded, 100)\n    }\n  }\n\n\n  function run_callbacks() {\n    try {\n      root._bokeh_onload_callbacks.forEach(function(callback) {\n        if (callback != null)\n          callback();\n      });\n    } finally {\n      delete root._bokeh_onload_callbacks\n    }\n    console.debug(\"Bokeh: all callbacks have finished\");\n  }\n\n  function load_libs(css_urls, js_urls, callback) {\n    if (css_urls == null) css_urls = [];\n    if (js_urls == null) js_urls = [];\n\n    root._bokeh_onload_callbacks.push(callback);\n    if (root._bokeh_is_loading > 0) {\n      console.debug(\"Bokeh: BokehJS is being loaded, scheduling callback at\", now());\n      return null;\n    }\n    if (js_urls == null || js_urls.length === 0) {\n      run_callbacks();\n      return null;\n    }\n    console.debug(\"Bokeh: BokehJS not loaded, scheduling load and callback at\", now());\n    root._bokeh_is_loading = css_urls.length + js_urls.length;\n\n    function on_load() {\n      root._bokeh_is_loading--;\n      if (root._bokeh_is_loading === 0) {\n        console.debug(\"Bokeh: all BokehJS libraries/stylesheets loaded\");\n        run_callbacks()\n      }\n    }\n\n    function on_error(url) {\n      console.error(\"failed to load \" + url);\n    }\n\n    for (let i = 0; i < css_urls.length; i++) {\n      const url = css_urls[i];\n      const element = document.createElement(\"link\");\n      element.onload = on_load;\n      element.onerror = on_error.bind(null, url);\n      element.rel = \"stylesheet\";\n      element.type = \"text/css\";\n      element.href = url;\n      console.debug(\"Bokeh: injecting link tag for BokehJS stylesheet: \", url);\n      document.body.appendChild(element);\n    }\n\n    for (let i = 0; i < js_urls.length; i++) {\n      const url = js_urls[i];\n      const element = document.createElement('script');\n      element.onload = on_load;\n      element.onerror = on_error.bind(null, url);\n      element.async = false;\n      element.src = url;\n      console.debug(\"Bokeh: injecting script tag for BokehJS library: \", url);\n      document.head.appendChild(element);\n    }\n  };\n\n  function inject_raw_css(css) {\n    const element = document.createElement(\"style\");\n    element.appendChild(document.createTextNode(css));\n    document.body.appendChild(element);\n  }\n\n  \n  const js_urls = [\"https://cdn.bokeh.org/bokeh/release/bokeh-2.4.2.min.js\", \"https://cdn.bokeh.org/bokeh/release/bokeh-gl-2.4.2.min.js\", \"https://cdn.bokeh.org/bokeh/release/bokeh-widgets-2.4.2.min.js\", \"https://cdn.bokeh.org/bokeh/release/bokeh-tables-2.4.2.min.js\", \"https://cdn.bokeh.org/bokeh/release/bokeh-mathjax-2.4.2.min.js\"];\n  const css_urls = [];\n  \n\n  const inline_js = [\n    function(Bokeh) {\n      Bokeh.set_log_level(\"info\");\n    },\n    function(Bokeh) {\n    \n    \n    }\n  ];\n\n  function run_inline_js() {\n    \n    if (root.Bokeh !== undefined || force === true) {\n      \n    for (let i = 0; i < inline_js.length; i++) {\n      inline_js[i].call(root, root.Bokeh);\n    }\n    if (force === true) {\n        display_loaded();\n      }} else if (Date.now() < root._bokeh_timeout) {\n      setTimeout(run_inline_js, 100);\n    } else if (!root._bokeh_failed_load) {\n      console.log(\"Bokeh: BokehJS failed to load within specified timeout.\");\n      root._bokeh_failed_load = true;\n    } else if (force !== true) {\n      const cell = $(document.getElementById(\"1001\")).parents('.cell').data().cell;\n      cell.output_area.append_execute_result(NB_LOAD_WARNING)\n    }\n\n  }\n\n  if (root._bokeh_is_loading === 0) {\n    console.debug(\"Bokeh: BokehJS loaded, going straight to plotting\");\n    run_inline_js();\n  } else {\n    load_libs(css_urls, js_urls, function() {\n      console.debug(\"Bokeh: BokehJS plotting callback run at\", now());\n      run_inline_js();\n    });\n  }\n}(window));",
      "application/vnd.bokehjs_load.v0+json": ""
     },
     "metadata": {},
     "output_type": "display_data"
    }
   ],
   "source": [
    "from bokeh.io import show, output_notebook\n",
    "\n",
    "output_notebook()"
   ]
  },
  {
   "cell_type": "markdown",
   "metadata": {},
   "source": [
    "Next, use a `rect()` glyph to create each box. The plot will provide you with quick inspection in determining a higher correlated variables (yellow), and a lower one (purple):"
   ]
  },
  {
   "cell_type": "code",
   "execution_count": 27,
   "metadata": {
    "scrolled": true
   },
   "outputs": [
    {
     "data": {
      "text/html": [
       "\n",
       "\n",
       "\n",
       "\n",
       "\n",
       "\n",
       "  <div class=\"bk-root\" id=\"e08459db-94a1-4e23-aec6-1a8a2192644a\" data-root-id=\"1003\"></div>\n"
      ]
     },
     "metadata": {},
     "output_type": "display_data"
    },
    {
     "data": {
      "application/javascript": "(function(root) {\n  function embed_document(root) {\n    \n  const docs_json = {\"dc1f0747-7e0f-48ad-8ad9-9c5bed5a030a\":{\"defs\":[],\"roots\":{\"references\":[{\"attributes\":{\"below\":[{\"id\":\"1014\"}],\"center\":[{\"id\":\"1016\"},{\"id\":\"1019\"}],\"height\":500,\"left\":[{\"id\":\"1017\"}],\"renderers\":[{\"id\":\"1031\"}],\"title\":{\"id\":\"1004\"},\"toolbar\":{\"id\":\"1022\"},\"toolbar_location\":null,\"width\":500,\"x_range\":{\"id\":\"1006\"},\"x_scale\":{\"id\":\"1010\"},\"y_range\":{\"id\":\"1008\"},\"y_scale\":{\"id\":\"1012\"}},\"id\":\"1003\",\"subtype\":\"Figure\",\"type\":\"Plot\"},{\"attributes\":{},\"id\":\"1036\",\"type\":\"AllLabels\"},{\"attributes\":{},\"id\":\"1039\",\"type\":\"AllLabels\"},{\"attributes\":{},\"id\":\"1038\",\"type\":\"CategoricalTickFormatter\"},{\"attributes\":{},\"id\":\"1041\",\"type\":\"Selection\"},{\"attributes\":{\"axis\":{\"id\":\"1014\"},\"coordinates\":null,\"group\":null,\"ticker\":null},\"id\":\"1016\",\"type\":\"Grid\"},{\"attributes\":{},\"id\":\"1021\",\"type\":\"SaveTool\"},{\"attributes\":{\"coordinates\":null,\"group\":null,\"text\":\"Correlation Heatmap\"},\"id\":\"1004\",\"type\":\"Title\"},{\"attributes\":{},\"id\":\"1040\",\"type\":\"UnionRenderers\"},{\"attributes\":{\"axis\":{\"id\":\"1017\"},\"coordinates\":null,\"dimension\":1,\"group\":null,\"ticker\":null},\"id\":\"1019\",\"type\":\"Grid\"},{\"attributes\":{\"factors\":[\"price\",\"review\",\"installment\",\"rating\"]},\"id\":\"1008\",\"type\":\"FactorRange\"},{\"attributes\":{},\"id\":\"1010\",\"type\":\"CategoricalScale\"},{\"attributes\":{\"callback\":null,\"tooltips\":[[\"Correlation\",\"@corr{0.0000}\"]]},\"id\":\"1020\",\"type\":\"HoverTool\"},{\"attributes\":{},\"id\":\"1015\",\"type\":\"CategoricalTicker\"},{\"attributes\":{},\"id\":\"1012\",\"type\":\"CategoricalScale\"},{\"attributes\":{},\"id\":\"1035\",\"type\":\"CategoricalTickFormatter\"},{\"attributes\":{\"fill_alpha\":{\"value\":0.2},\"fill_color\":{\"field\":\"corr\",\"transform\":{\"id\":\"1026\"}},\"hatch_alpha\":{\"value\":0.2},\"hatch_color\":{\"field\":\"corr\",\"transform\":{\"id\":\"1026\"}},\"height\":{\"value\":1},\"line_alpha\":{\"value\":0.2},\"line_color\":{\"field\":\"corr\",\"transform\":{\"id\":\"1026\"}},\"width\":{\"value\":1},\"x\":{\"field\":\"x\"},\"y\":{\"field\":\"y\"}},\"id\":\"1030\",\"type\":\"Rect\"},{\"attributes\":{\"coordinates\":null,\"formatter\":{\"id\":\"1038\"},\"group\":null,\"major_label_policy\":{\"id\":\"1039\"},\"ticker\":{\"id\":\"1015\"}},\"id\":\"1014\",\"type\":\"CategoricalAxis\"},{\"attributes\":{},\"id\":\"1018\",\"type\":\"CategoricalTicker\"},{\"attributes\":{\"coordinates\":null,\"data_source\":{\"id\":\"1025\"},\"glyph\":{\"id\":\"1028\"},\"group\":null,\"hover_glyph\":null,\"muted_glyph\":{\"id\":\"1030\"},\"nonselection_glyph\":{\"id\":\"1029\"},\"view\":{\"id\":\"1032\"}},\"id\":\"1031\",\"type\":\"GlyphRenderer\"},{\"attributes\":{\"coordinates\":null,\"formatter\":{\"id\":\"1035\"},\"group\":null,\"major_label_policy\":{\"id\":\"1036\"},\"ticker\":{\"id\":\"1018\"}},\"id\":\"1017\",\"type\":\"CategoricalAxis\"},{\"attributes\":{\"fill_color\":{\"field\":\"corr\",\"transform\":{\"id\":\"1026\"}},\"hatch_color\":{\"field\":\"corr\",\"transform\":{\"id\":\"1026\"}},\"height\":{\"value\":1},\"line_color\":{\"field\":\"corr\",\"transform\":{\"id\":\"1026\"}},\"width\":{\"value\":1},\"x\":{\"field\":\"x\"},\"y\":{\"field\":\"y\"}},\"id\":\"1028\",\"type\":\"Rect\"},{\"attributes\":{\"data\":{\"corr\":[1.0,-0.08540000631625969,0.9999852690071831,0.146161262981343,-0.08540000631625969,1.0,-0.08542672928219056,-0.05307230002417964,0.9999852690071831,-0.08542672928219056,1.0,0.14620115843522424,0.146161262981343,-0.05307230002417964,0.14620115843522424,1.0],\"x\":[\"price\",\"review\",\"installment\",\"rating\",\"price\",\"review\",\"installment\",\"rating\",\"price\",\"review\",\"installment\",\"rating\",\"price\",\"review\",\"installment\",\"rating\"],\"y\":[\"price\",\"price\",\"price\",\"price\",\"review\",\"review\",\"review\",\"review\",\"installment\",\"installment\",\"installment\",\"installment\",\"rating\",\"rating\",\"rating\",\"rating\"]},\"selected\":{\"id\":\"1041\"},\"selection_policy\":{\"id\":\"1040\"}},\"id\":\"1025\",\"type\":\"ColumnDataSource\"},{\"attributes\":{\"source\":{\"id\":\"1025\"}},\"id\":\"1032\",\"type\":\"CDSView\"},{\"attributes\":{\"high\":1,\"low\":-1,\"palette\":[\"#0C0786\",\"#100787\",\"#130689\",\"#15068A\",\"#18068B\",\"#1B068C\",\"#1D068D\",\"#1F058E\",\"#21058F\",\"#230590\",\"#250591\",\"#270592\",\"#290593\",\"#2B0594\",\"#2D0494\",\"#2F0495\",\"#310496\",\"#330497\",\"#340498\",\"#360498\",\"#380499\",\"#3A049A\",\"#3B039A\",\"#3D039B\",\"#3F039C\",\"#40039C\",\"#42039D\",\"#44039E\",\"#45039E\",\"#47029F\",\"#49029F\",\"#4A02A0\",\"#4C02A1\",\"#4E02A1\",\"#4F02A2\",\"#5101A2\",\"#5201A3\",\"#5401A3\",\"#5601A3\",\"#5701A4\",\"#5901A4\",\"#5A00A5\",\"#5C00A5\",\"#5E00A5\",\"#5F00A6\",\"#6100A6\",\"#6200A6\",\"#6400A7\",\"#6500A7\",\"#6700A7\",\"#6800A7\",\"#6A00A7\",\"#6C00A8\",\"#6D00A8\",\"#6F00A8\",\"#7000A8\",\"#7200A8\",\"#7300A8\",\"#7500A8\",\"#7601A8\",\"#7801A8\",\"#7901A8\",\"#7B02A8\",\"#7C02A7\",\"#7E03A7\",\"#7F03A7\",\"#8104A7\",\"#8204A7\",\"#8405A6\",\"#8506A6\",\"#8607A6\",\"#8807A5\",\"#8908A5\",\"#8B09A4\",\"#8C0AA4\",\"#8E0CA4\",\"#8F0DA3\",\"#900EA3\",\"#920FA2\",\"#9310A1\",\"#9511A1\",\"#9612A0\",\"#9713A0\",\"#99149F\",\"#9A159E\",\"#9B179E\",\"#9D189D\",\"#9E199C\",\"#9F1A9B\",\"#A01B9B\",\"#A21C9A\",\"#A31D99\",\"#A41E98\",\"#A51F97\",\"#A72197\",\"#A82296\",\"#A92395\",\"#AA2494\",\"#AC2593\",\"#AD2692\",\"#AE2791\",\"#AF2890\",\"#B02A8F\",\"#B12B8F\",\"#B22C8E\",\"#B42D8D\",\"#B52E8C\",\"#B62F8B\",\"#B7308A\",\"#B83289\",\"#B93388\",\"#BA3487\",\"#BB3586\",\"#BC3685\",\"#BD3784\",\"#BE3883\",\"#BF3982\",\"#C03B81\",\"#C13C80\",\"#C23D80\",\"#C33E7F\",\"#C43F7E\",\"#C5407D\",\"#C6417C\",\"#C7427B\",\"#C8447A\",\"#C94579\",\"#CA4678\",\"#CB4777\",\"#CC4876\",\"#CD4975\",\"#CE4A75\",\"#CF4B74\",\"#D04D73\",\"#D14E72\",\"#D14F71\",\"#D25070\",\"#D3516F\",\"#D4526E\",\"#D5536D\",\"#D6556D\",\"#D7566C\",\"#D7576B\",\"#D8586A\",\"#D95969\",\"#DA5A68\",\"#DB5B67\",\"#DC5D66\",\"#DC5E66\",\"#DD5F65\",\"#DE6064\",\"#DF6163\",\"#DF6262\",\"#E06461\",\"#E16560\",\"#E26660\",\"#E3675F\",\"#E3685E\",\"#E46A5D\",\"#E56B5C\",\"#E56C5B\",\"#E66D5A\",\"#E76E5A\",\"#E87059\",\"#E87158\",\"#E97257\",\"#EA7356\",\"#EA7455\",\"#EB7654\",\"#EC7754\",\"#EC7853\",\"#ED7952\",\"#ED7B51\",\"#EE7C50\",\"#EF7D4F\",\"#EF7E4E\",\"#F0804D\",\"#F0814D\",\"#F1824C\",\"#F2844B\",\"#F2854A\",\"#F38649\",\"#F38748\",\"#F48947\",\"#F48A47\",\"#F58B46\",\"#F58D45\",\"#F68E44\",\"#F68F43\",\"#F69142\",\"#F79241\",\"#F79341\",\"#F89540\",\"#F8963F\",\"#F8983E\",\"#F9993D\",\"#F99A3C\",\"#FA9C3B\",\"#FA9D3A\",\"#FA9F3A\",\"#FAA039\",\"#FBA238\",\"#FBA337\",\"#FBA436\",\"#FCA635\",\"#FCA735\",\"#FCA934\",\"#FCAA33\",\"#FCAC32\",\"#FCAD31\",\"#FDAF31\",\"#FDB030\",\"#FDB22F\",\"#FDB32E\",\"#FDB52D\",\"#FDB62D\",\"#FDB82C\",\"#FDB92B\",\"#FDBB2B\",\"#FDBC2A\",\"#FDBE29\",\"#FDC029\",\"#FDC128\",\"#FDC328\",\"#FDC427\",\"#FDC626\",\"#FCC726\",\"#FCC926\",\"#FCCB25\",\"#FCCC25\",\"#FCCE25\",\"#FBD024\",\"#FBD124\",\"#FBD324\",\"#FAD524\",\"#FAD624\",\"#FAD824\",\"#F9D924\",\"#F9DB24\",\"#F8DD24\",\"#F8DF24\",\"#F7E024\",\"#F7E225\",\"#F6E425\",\"#F6E525\",\"#F5E726\",\"#F5E926\",\"#F4EA26\",\"#F3EC26\",\"#F3EE26\",\"#F2F026\",\"#F2F126\",\"#F1F326\",\"#F0F525\",\"#F0F623\",\"#EFF821\"]},\"id\":\"1026\",\"type\":\"LinearColorMapper\"},{\"attributes\":{\"factors\":[\"price\",\"review\",\"installment\",\"rating\"]},\"id\":\"1006\",\"type\":\"FactorRange\"},{\"attributes\":{\"fill_alpha\":{\"value\":0.1},\"fill_color\":{\"field\":\"corr\",\"transform\":{\"id\":\"1026\"}},\"hatch_alpha\":{\"value\":0.1},\"hatch_color\":{\"field\":\"corr\",\"transform\":{\"id\":\"1026\"}},\"height\":{\"value\":1},\"line_alpha\":{\"value\":0.1},\"line_color\":{\"field\":\"corr\",\"transform\":{\"id\":\"1026\"}},\"width\":{\"value\":1},\"x\":{\"field\":\"x\"},\"y\":{\"field\":\"y\"}},\"id\":\"1029\",\"type\":\"Rect\"},{\"attributes\":{\"tools\":[{\"id\":\"1020\"},{\"id\":\"1021\"}]},\"id\":\"1022\",\"type\":\"Toolbar\"}],\"root_ids\":[\"1003\"]},\"title\":\"Bokeh Application\",\"version\":\"2.4.2\"}};\n  const render_items = [{\"docid\":\"dc1f0747-7e0f-48ad-8ad9-9c5bed5a030a\",\"root_ids\":[\"1003\"],\"roots\":{\"1003\":\"e08459db-94a1-4e23-aec6-1a8a2192644a\"}}];\n  root.Bokeh.embed.embed_items_notebook(docs_json, render_items);\n\n  }\n  if (root.Bokeh !== undefined) {\n    embed_document(root);\n  } else {\n    let attempts = 0;\n    const timer = setInterval(function(root) {\n      if (root.Bokeh !== undefined) {\n        clearInterval(timer);\n        embed_document(root);\n      } else {\n        attempts++;\n        if (attempts > 100) {\n          clearInterval(timer);\n          console.log(\"Bokeh: ERROR: Unable to run BokehJS code because BokehJS library is missing\");\n        }\n      }\n    }, 10, root)\n  }\n})(window);",
      "application/vnd.bokehjs_exec.v0+json": ""
     },
     "metadata": {
      "application/vnd.bokehjs_exec.v0+json": {
       "id": "1003"
      }
     },
     "output_type": "display_data"
    }
   ],
   "source": [
    "from bokeh.transform import linear_cmap\n",
    "from bokeh.palettes import all_palettes\n",
    "from bokeh.plotting import figure\n",
    "from bokeh.models import ColumnDataSource\n",
    "\n",
    "p = figure(title=\"Correlation Heatmap\", \n",
    "           x_range=corr_table.columns.tolist(), \n",
    "           y_range=corr_table.columns.tolist(),\n",
    "           toolbar_location=None,\n",
    "           tools='hover, save',\n",
    "           tooltips=[('Correlation','@corr{0.0000}')],\n",
    "           plot_width=500,\n",
    "           plot_height=500)\n",
    "\n",
    "p.rect('x', 'y',\n",
    "       source=ColumnDataSource(rect_dict),\n",
    "       color=linear_cmap('corr', all_palettes['Plasma'][256], -1, 1),\n",
    "       width=1, \n",
    "       height=1)\n",
    "\n",
    "show(p)\n"
   ]
  },
  {
   "cell_type": "markdown",
   "metadata": {},
   "source": [
    "![ ](assets/2.png)"
   ]
  },
  {
   "cell_type": "markdown",
   "metadata": {},
   "source": [
    "## The Normal Distribution\n",
    "\n",
    "Another way of studying the central tendency and spread of data is through a curve: a curve is often used to represent a distribution and the most famous of all distributions is the normal curve.\n",
    "\n",
    "A normal distribution with a mean of 0 and standard deviation of 1 is called a **standard normal curve** and can be plotted with while specifying the limits for our x-axis:"
   ]
  },
  {
   "cell_type": "code",
   "execution_count": 28,
   "metadata": {},
   "outputs": [
    {
     "name": "stderr",
     "output_type": "stream",
     "text": [
      "BokehDeprecationWarning: 'legend' keyword is deprecated, use explicit 'legend_label', 'legend_field', or 'legend_group' keywords instead\n"
     ]
    },
    {
     "data": {
      "text/html": [
       "\n",
       "\n",
       "\n",
       "\n",
       "\n",
       "\n",
       "  <div class=\"bk-root\" id=\"2dc72bf9-b960-4a5d-8ddb-90ef55263a43\" data-root-id=\"1087\"></div>\n"
      ]
     },
     "metadata": {},
     "output_type": "display_data"
    },
    {
     "data": {
      "application/javascript": "(function(root) {\n  function embed_document(root) {\n    \n  const docs_json = {\"fc683559-5b5d-4f8d-8a81-235bc87f2fae\":{\"defs\":[],\"roots\":{\"references\":[{\"attributes\":{\"below\":[{\"id\":\"1098\"}],\"center\":[{\"id\":\"1101\"},{\"id\":\"1105\"},{\"id\":\"1125\"}],\"height\":500,\"left\":[{\"id\":\"1102\"}],\"renderers\":[{\"id\":\"1114\"}],\"title\":{\"id\":\"1088\"},\"toolbar\":{\"id\":\"1107\"},\"toolbar_location\":null,\"width\":800,\"x_range\":{\"id\":\"1090\"},\"x_scale\":{\"id\":\"1094\"},\"y_range\":{\"id\":\"1092\"},\"y_scale\":{\"id\":\"1096\"}},\"id\":\"1087\",\"subtype\":\"Figure\",\"type\":\"Plot\"},{\"attributes\":{\"line_alpha\":0.1,\"line_color\":\"#ff8888\",\"line_width\":4,\"x\":{\"field\":\"x\"},\"y\":{\"field\":\"pdf\"}},\"id\":\"1112\",\"type\":\"Line\"},{\"attributes\":{\"line_alpha\":0.7,\"line_color\":\"#ff8888\",\"line_width\":4,\"x\":{\"field\":\"x\"},\"y\":{\"field\":\"pdf\"}},\"id\":\"1111\",\"type\":\"Line\"},{\"attributes\":{},\"id\":\"1099\",\"type\":\"BasicTicker\"},{\"attributes\":{\"source\":{\"id\":\"1109\"}},\"id\":\"1115\",\"type\":\"CDSView\"},{\"attributes\":{\"data\":{\"pdf\":{\"__ndarray__\":\"tbTA4piKIT+Cc469nhwiPxM2P5EVsyI/k9gNPh1OIz8zPkBy1u0jP05Ipa5ikiQ/yXImS+Q7JT+fQm17fuolPzOznFNVniY/2M4ezY1XJz86nIbLTRYoP46LhiG82ig/Y4v7lQClKT8K7QzpQ3UqP2k/YdmvSys/e0RoKW8oLD+aJrqkrQstPyoPjCWY9S0/UkA6mlzmLj/Z0ecKKt4vPyQXmk+YbjA/GzcD0tDxMD8IVrfI13gxP3S0TgjHAzI/6434ALmSMj9v/4zByCUzP7QXqvoRvTM/AxncAbFYND+N9dDUwvg0P/gLlxxlnTU/PyrnMLZGNj/a23kb1fQ2P0gFaJvhpzc/eNCWKPxfOD/o6S73RR05P0MOH/vg3zk/Suep6++nOj/GM/9GlnU7P1k34FX4SDw/UWpPLzsiPT87ZEu8hAE+Pyf2lLv75j4/q2qAxcfSPz9G8OiniGJAP9BX0tgA30A/meWuk+FeQT8Vh1RrQOJBP4SvQGkzaUI/e8uhD9HzQj/GCWZbMIJDP3VuT8ZoFEQ/byENSZKqRD/96lldxURFP+nOHwAb40U/97Sgs6yFRj96DqSBlCxHPyFlqf3s10c/6r8fR9GHSD/RyaELXTxJP+OiNoms9Uk/NEaXkNyzSj/daniHCndLPw3H2GpUP0w/3ZpT0dgMTT9IZXfttt9NP5+nIJAOuE4/gJfYKgCWTz+0zxtp1jxQP9DGJSCbsVA/W6aAa18pUT/FAUnRNKRRP+S6+S0tIlI/DL+ltVqjUj9HPTP1zydTP+U/mNOfr1M/cpQYk906VD8a64TSnMlUPzUWe47xW1U/pVKnIvDxVT81fwZLrYtWP2cqKSU+KVc/f1t3MbjKVz/6+3RUMXBYP7rFBti/GVk/Mpi3bHrHWT8CGP4qeHlaP4p5gpTQL1s/mldklZvqWz9FdoCF8alcP+VPtinrbV0/qksttaE2Xj+reZnKLgRfP2exf32s1l8/Sne8qRpXYD/vYroicsVgPwFmfWBqNmE/xmO1VBGqYT/Twp0sdSBiPzgUnFGkmWI/xuLdaa0VYz+1lPVYn5RjPwxKdkCJFmQ/SKGOgHqbZD/kS6K4giNlPxxb4sexrmU/hS3kzRc9Zj/75DYrxc5mPzVN94HKY2c/wxhitjj8Zz8zXGTvIJhoP4YsKpeUN2k/BUerW6XaaT/1pzUvZYFqPx/09UjmK2s/e5p9JTvaaz8NkUaHdoxsP9WQNHerQm0/F7QTRe38bT/1WBSIT7tuP1orRB/mfW8/oBsCmWIicD+X8j2YAIhwPwdhBGrX73A/MXnVj/FZcT/ZGDewWcZxP9ie55YaNXI/J8YONT+mcj9zlmyh0hlzP79Yhhjgj3M/SIDR/HIIdD/pddzWloN0PxU1dVVXAXU/e6nNTcCBdT9Du5273QR2P9/4QsG7inY/QMzdp2YTdz/UKWzf6p53P0un4f5ULXg/wec8xLG+eD9vS5oUDlN5PxvQQ/x26nk/LBC+rvmEej9vTdKGoyJ7P6B1lQaCw3s/0Axs16JnfD/t6wrKEw99P/2/dNbiuX0/Djf0Gx5ofj+AyBLh0xl/P5gEjJMSz38/kaweZPRDgD/ZG4mdMqKAPzRFdmdLAoE/N7LERkZkgT8s7bDTKsiBPxf4w7kALoI/pMS/t8+Vgj/Mo4mfn/+CP5GjElZ4a4M/KdE902HZgz+MVsQhZEmEP5ZpF1+Hu4Q/yANAu9MvhT8pWbx4UaaFP+4EW+wIH4Y//OITfQKahj/ujN6jRheHP8Zxhuvdloc/XX988NAYiD9gVKZgKJ2IP4byKvvsI4k/5+c8kCetiT9n5+EA4TiKP1XHtz4ix4o/Gd62S/RXiz+3tPE5YOuLPxYHUitvgYw/QApTUSoajT/C8LjsmrWNP3KlRU3KU44/ZbVq0cH0jj+SYfjlipiPP6Do5IKXH5A/MS+33Ft0kD9r+mdLl8qQPxU/a6BOIpE/EyqEs4Z7kT9d2ZNiRNaRP5aSZpGMMpI/qXN/KWSQkj8Zm+IZ0O+SP6HF3VbVUJM/H17P2Xizkz8t/uugvxeUP5xcAq+ufZQ/Gag9C0vllD85TObAmU6VP5geId+fuZU/SvOseGImlj9Plp6j5pSWP0kpG3kxBZc/WeQQFUh3lz+jOO6VL+uXP3VUVxztYJg/ywfayoXYmD/tCKDF/lGZPzCZHzJdzZk/XonKNqZKmj8Enrv63smaPxJUYqUMS5s/+AUtXjTOmz9ocjFMW1OcP0Kl05WG2pw/zkNrYLtjnT+sPefP/u6dP9/jbwZWfJ4/3mcHJMYLnz9xxChGVJ2fPzGJssOCGKA/8aV/f29joD8wQEPgcq+gP2g+t22P/KA/QHVTrcdKoT8GdBgiHpqhPyOQWUyV6qE/JTGGqS88oj/CX/Kz746iP5aZnuLX4qI/Eez+qOo3oz/tWMF2Ko6jP5GGk7eZ5aM/Q7/n0jo+pD+oQbkrEJikP4rlTyAc86Q/7BcDCmFPpT+AMfw84aylP9wq+AefC6Y/17EItJxrpj9Qo1SE3MymP2/t17VgL6c/yN0ifyuTpz+O3xgQP/inP/GtrpGdXqg/Y/6nJUnGqD+tp1TmQy+pP8lJTeaPmak/VXsvMC8Fqj+AgVnGI3KqP7aWpaJv4Ko/fcUkthRQqz+wXNnoFMGrP8cBcRlyM6w/Nmf+HC6nrD/Qq7K+ShytPwxplr/Jkq0/E3ZC1qwKrj8BZZiu9YOuP9vAeuml/q4/AhKFHL96rz9Sr8PRQvivP2axtUOZO7A/vnPI18d7sD8CJPDXrbywP/oRqvBL/rA/ZnH2x6JAsT8Y7jP9soOxP7M9+yh9x7E/JbP63AEMsj8e19GjQVGyP04J7QA9l7I/bS5hcPTdsj9TbsdmaCWzP3wGGVGZbbM/kDSLlIe2sz/OPGuOMwC0P8SQ+pOdSrQ/uhlL8sWVtD+AqxvurOG0Py+jtMNSLrU/iLbEprd7tT+s9z3C28m1P58RMzi/GLY//8G0IWJotj/Dk6+OxLi2P+/fyYXmCbc/CxhCBMhbtz8FX839aK63PwN1dlzJAbg/I/p8AOlVuD88DTXAx6q4P3hK52dlALk/qS6xucFWuT/Y42Vt3K25P0J7bzC1Bbo/wpmwpUteuj/QmmZln7e6P7IuDP2vEbs/wXg873xsuz+2sZazBci7Pz1TorZJJLw/zdCzWUiBvD9+4tHyAN+8P7hmm8xyPb0/oN4tJp2cvT+Cigwzf/y9PwEqCBsYXb4/TWUn+ma+vj8V44/gaiC/PywQcNIig78/SZ3px43mvz9nW35WVSXAP9j9uTC8V8A/l5to3HqKwD/zcB29kL3AP2U3NTD98MA/0LPNjL8kwT/vrr0j11jBP7pZjT9DjcE/9B9vJAPCwT/26jgQFvfBP3fWXTp7LMI/mVno0zFiwj/l5XQHOZjCPzL+LPmPzsI/hcfCxjUFwz9gFW2HKTzDP7zz40tqc8M/FrBdHveqwz9xY4wCz+LDPyX/m/XwGsQ/tN0w7ltTxD/Q2WbcDozEP6Ps0KkIxcQ/IFV5OUj+xD/tSeJnzDfFP/Y2BwuUccU/johe8p2rxT/zBNzm6OXFP9a186pzIMY/CmOd+jxbxj9rn1iLQ5bGP1NpMQyG0cY/d1/FJQMNxz9ji0l6uUjHP2zCkKWnhMc/7Z0SPczAxz/1C/PPJf3HP7t4CueyOcg/BJLuBHJ2yD/JpPulYbPIP92VXkCA8Mg/PXYfRMwtyT8csywbRGvJP5PiZinmqMk/4yytzLDmyT+tUupcoiTKP4ZQIiy5Yso/l5+AhvOgyj/nE2eyT9/KP8VXffDLHcs/jgTBe2Zcyz+uWJaJHZvLP0SK2Unv2cs/tLbw5tkYzD8vbt6F21fMPxjbVEbylsw/wYTJQhzWzD+rrImQVxXNP+5Fzz+iVM0/t4XWW/qTzT9iDPTqXdPNP/Clq+7KEs4/KaHHYz9Szj8+vHBCuZHOP7ilRn420c4/yRB5BrUQzz9NW+HFMlDPP3PEHKOtj88/oTKngCPPzz9gQ3seSQfQP+g9S9n7JtA/XIgi3KhG0D9dvYcQT2bQP3jPN17thdA/Pwg1q4Kl0D8FSdbbDcXQPwKM1tKN5NA/66RkcQEE0T/wPzOXZyPRP+UdiSK/QtE/j4xR8AZi0T/BGS3cPYHRPyCAgsBioNE/W8yPdnS/0T9WuXvWcd7RPztCZ7dZ/dE/0mh/7yoc0j/WLg9U5DrSP+rAkbmEWdI/idHE8wp40j+sIrvVdZbSP2Y87zHEtNI/CU9W2vTS0j9KP3OgBvHSP5baaVX4DtM/KzISysgs0z8cGwzPdkrTP67R0jQBaNM/Rr7Qy2aF0z8aWnNkpqLTPwYyP8++v9M/iQXk3K7c0z9AAFFedfnTP+8LySQRFtQ/Njn3AYEy1D80PQPIw07UP/YBpknYatQ/+kc+Wr2G1D+7VuXNcaLUP0K6g3n0vdQ/8AvmMkTZ1D9GxNHQX/TUP94TGitGD9U/dcG0GvYp1T/uCs95bkTVP3qH4iOuXtU/igjK9bN41T/Cd9bNfpLVP6mv44sNrNU/C01tEV/F1T8Ud6NBct7VP9ubfwFG99U/cR/ZN9kP1j8v+3nNKijWP1lLM605QNY/ysjxwwRY1j+uLNIAi2/WPyV8NVXLhtY/rDnVtMSd1j9JetcVdrTWP0jc4nDeytY/dl0ywfzg1j/jDqkE0PbWP9yj5TtXDNc/VdpVapEh1z9qukmWfTbXPx6rBskaS9c/SFraDmhf1z+CdS13ZHPXP1AylhQPh9c/UaPq/Gaa1z+a2FJJa63XPzzJWhYbwNc/AwQEhHXS1z+FJde1eeTXP5kR9dIm9tc/Se4nBnwH2D9/3vN9eBjYP3V6p2wbKdg/LwRsCGQ52D8vVlWLUUnYP56KcTPjWNg/NlnYQhho2D8rKrr/73bYP3zcbrRphdg/8D2Er4ST2D8vM8xDQKHYP2WOasibrtg/1pLimJa72D/xIyQVMMjYP1CemKFn1Ng/VFkvpzzg2D/Rz2mTruvYP39uZ9i89tg/5Qbx7GYB2T9X5YNMrAvZP96IXHeMFdk/x/uA8gYf2T+zy8pHGyjZP/+f8AXJMNk/em2PwA852T9NRjMQ70DZPx7FX5JmSNk/gBKY6XVP2T+rg2a9HFbZP8DRY7paXNk/q+g9ki9i2T/uTL77mmfZP4UX0LKcbNk/ToeFeDRx2T8/Jx0TYnXZP9SIBk4ledk/NJLm+X182T+IX5vsa3/ZPw+3PwHvgdk/lg8uGAeE2T/oKAMXtIXZPwA2oOj1htk/ppgsfcyH2T9bLhfKN4jZP1suF8o3iNk/ppgsfcyH2T8ANqDo9YbZP+goAxe0hdk/lg8uGAeE2T8Ptz8B74HZP4hfm+xrf9k/NJLm+X182T/UiAZOJXnZPz8nHRNiddk/ToeFeDRx2T+FF9CynGzZP+5MvvuaZ9k/q+g9ki9i2T/A0WO6WlzZP6uDZr0cVtk/gBKY6XVP2T8exV+SZkjZP01GMxDvQNk/em2PwA852T//n/AFyTDZP7PLykcbKNk/x/uA8gYf2T/fiFx3jBXZP1flg0ysC9k/5Abx7GYB2T9/bmfYvPbYP9HPaZOu69g/VVkvpzzg2D9RnpihZ9TYP/AjJBUwyNg/1pLimJa72D9ljmrIm67YPzAzzENAodg/8T2Er4ST2D983G60aYXYPysquv/vdtg/NlnYQhho2D+einEz41jYPzBWVYtRSdg/LwRsCGQ52D91eqdsGynYP3/e8314GNg/Su4nBnwH2D+aEfXSJvbXP4Ul17V55Nc/AwQEhHXS1z88yVoWG8DXP5vYUklrrdc/UKPq/Gaa1z9QMpYUD4fXP4J1LXdkc9c/SFraDmhf1z8fqwbJGkvXP2i6SZZ9Ntc/VdpVapEh1z/co+U7VwzXP+MOqQTQ9tY/d10ywfzg1j9H3OJw3srWP0l61xV2tNY/rDnVtMSd1j8lfDVVy4bWP68s0gCLb9Y/ycjxwwRY1j9ZSzOtOUDWPy/7ec0qKNY/cR/ZN9kP1j/dm38BRvfVPxN3o0Fy3tU/C01tEV/F1T+pr+OLDazVP8R31s1+ktU/jAjK9bN41T94h+Ijrl7VP+4Kz3luRNU/dcG0GvYp1T/gExorRg/VP0fE0dBf9NQ/7wvmMkTZ1D9CuoN59L3UP7tW5c1xotQ/+0c+Wr2G1D/3AaZJ2GrUPzM9A8jDTtQ/Njn3AYEy1D/vC8kkERbUP0IAUV51+dM/igXk3K7c0z8FMj/Pvr/TPxpac2SmotM/Rr7Qy2aF0z+v0dI0AWjTPx0bDM92StM/KjISysgs0z+W2mlV+A7TP0o/c6AG8dI/Ck9W2vTS0j9nPO8xxLTSP6wiu9V1ltI/idHE8wp40j/qwJG5hFnSP9guD1TkOtI/1Wh/7yoc0j87Qme3Wf3RP1a5e9Zx3tE/W8yPdnS/0T8jgILAYqDRP78ZLdw9gdE/j4xR8AZi0T/lHYkiv0LRP/A/M5dnI9E/7KRkcQEE0T8BjNbSjeTQPwVJ1tsNxdA/Pwg1q4Kl0D94zzde7YXQP1+9hxBPZtA/Wogi3KhG0D/oPUvZ+ybQP2BDex5JB9A/oTKngCPPzz93xByjrY/PP0pb4cUyUM8/yRB5BrUQzz+4pUZ+NtHOPz68cEK5kc4/LKHHYz9Szj/tpavuyhLOP2IM9Opd080/t4XWW/qTzT/uRc8/olTNP6+siZBXFc0/voTJQhzWzD8Y21RG8pbMPy9u3oXbV8w/t7bw5tkYzD9JitlJ79nLP6tYlokdm8s/jgTBe2Zcyz/FV33wyx3LP+oTZ7JP38o/m5+AhvOgyj+DUCIsuWLKP61S6lyiJMo/4yytzLDmyT+W4mYp5qjJPyCzLBtEa8k/OXYfRMwtyT/dlV5AgPDIP8mk+6Vhs8g/CJLuBHJ2yD+/eArnsjnIP/IL888l/cc/7Z0SPczAxz9swpClp4THP2eLSXq5SMc/e1/FJQMNxz9QaTEMhtHGP2ufWItDlsY/CmOd+jxbxj/ZtfOqcyDGP/cE3Obo5cU/johe8p2rxT/2NgcLlHHFP+1J4mfMN8U/JFV5OUj+xD+m7NCpCMXEP9DZZtwOjMQ/tN0w7ltTxD8l/5v18BrEP3VjjALP4sM/GbBdHveqwz+88+NLanPDP2AVbYcpPMM/hcfCxjUFwz81/iz5j87CP+LldAc5mMI/mVno0zFiwj931l06eyzCP/bqOBAW98E/9x9vJAPCwT+3WY0/Q43BP++uvSPXWME/0LPNjL8kwT9lNzUw/fDAP/ZwHb2QvcA/lJto3HqKwD/Y/bkwvFfAP2dbflZVJcA/SZ3px43mvz8yEHDSIoO/Pw/jj+BqIL8/TWUn+ma+vj8BKggbGF2+P4KKDDN//L0/pd4tJp2cvT+0ZpvMcj29P37i0fIA37w/zdCzWUiBvD9CU6K2SSS8P7uxlrMFyLs/ung873xsuz+yLgz9rxG7P9CaZmWft7o/x5mwpUteuj9Ge28wtQW6P9PjZW3crbk/qS6xucFWuT94SudnZQC5P0ANNcDHqrg/KPp8AOlVuD/9dHZcyQG4PwVfzf1orrc/CxhCBMhbtz/z38mF5gm3P8eTr47EuLY/+cG0IWJotj+fETM4vxi2P6z3PcLbybU/jrbEprd7tT80o7TDUi61P3qrG+6s4bQ/uhlL8sWVtD/EkPqTnUq0P9E8a44zALQ/kzSLlIe2sz98BhlRmW2zP1Nux2ZoJbM/bS5hcPTdsj9SCe0APZeyPyLX0aNBUbI/JbP63AEMsj+zPfsofcexPxjuM/2yg7E/anH2x6JAsT/2EarwS/6wPwIk8NetvLA/vnPI18d7sD9msbVDmTuwP1qvw9FC+K8/+hGFHL96rz/bwHrppf6uPwFlmK71g64/E3ZC1qwKrj8SaZa/yZKtP8qrsr5KHK0/Nmf+HC6nrD/HAXEZcjOsP7Bc2egUwas/hMUkthRQqz+ulqWib+CqP4CBWcYjcqo/VXsvMC8Fqj/JSU3mj5mpP7SnVOZDL6k/Y/6nJUnGqD/xra6RnV6oP47fGBA/+Kc/yN0ifyuTpz937de1YC+nP1CjVITczKY/17EItJxrpj/cKvgHnwumP4Ax/DzhrKU/8hcDCmFPpT+K5U8gHPOkP6hBuSsQmKQ/Q7/n0jo+pD+RhpO3meWjP/FYwXYqjqM/Eez+qOo3oz+WmZ7i1+KiP8Jf8rPvjqI/JTGGqS88oj8nkFlMleqhPwZ0GCIemqE/QHVTrcdKoT9oPrdtj/ygPzBAQ+Byr6A/9aV/f29joD8xibLDghigP3HEKEZUnZ8/3mcHJMYLnz/f428GVnyeP7I958/+7p0/zkNrYLtjnT9CpdOVhtqcP2hyMUxbU5w/+AUtXjTOmz8aVGKlDEubPwSeu/reyZo/XonKNqZKmj8wmR8yXc2ZP+0IoMX+UZk/0QfayoXYmD91VFcc7WCYP6M47pUv65c/WeQQFUh3lz9SKRt5MQWXP1iWnqPmlJY/SvOseGImlj+YHiHfn7mVPzlM5sCZTpU/Hqg9C0vllD+UXAKvrn2UPy3+66C/F5Q/H17P2Xizkz+hxd1W1VCTPx6b4hnQ75I/onN/KWSQkj+WkmaRjDKSP13Zk2JE1pE/EyqEs4Z7kT8cP2ugTiKRP2X6Z0uXypA/MS+33Ft0kD+g6OSClx+QP5Jh+OWKmI8/cLVq0cH0jj9ypUVNylOOP8LwuOyatY0/QApTUSoajT8WB1Irb4GMP8C08Tlg64s/Gd62S/RXiz9Vx7c+IseKP2fn4QDhOIo/5+c8kCetiT+N8ir77COJP2BUpmAonYg/XX988NAYiD/GcYbr3ZaHP+6M3qNGF4c/BOMTfQKahj/uBFvsCB+GPylZvHhRpoU/yANAu9MvhT+WaRdfh7uEP5FWxCFkSYQ/KdE902HZgz+RoxJWeGuDP8yjiZ+f/4I/pMS/t8+Vgj8b+MO5AC6CPyztsNMqyIE/N7LERkZkgT80RXZnSwKBP9kbiZ0yooA/mKweZPRDgD+YBIyTEs9/P4DIEuHTGX8/Djf0Gx5ofj/9v3TW4rl9P/vrCsoTD30/0Axs16JnfD+gdZUGgsN7P29N0oajIns/LBC+rvmEej8o0EP8dup5P29LmhQOU3k/wec8xLG+eD9Lp+H+VC14P9kpbN/qnnc/Oszdp2YTdz/f+ELBu4p2P0O7nbvdBHY/e6nNTcCBdT8bNXVVVwF1P+N13NaWg3Q/SIDR/HIIdD+/WIYY4I9zP3OWbKHSGXM/MMYONT+mcj/TnueWGjVyP9kYN7BZxnE/MXnVj/FZcT8HYQRq1+9wP5vyPZgAiHA/nBsCmWIicD9aK0Qf5n1vP/VYFIhPu24/F7QTRe38bT/dkDR3q0JtPwWRRod2jGw/e5p9JTvaaz8f9PVI5itrP/WnNS9lgWo/EUerW6XaaT95LCqXlDdpPzNcZO8gmGg/wxhitjj8Zz81TfeBymNnPwflNivFzmY/fy3kzRc9Zj8cW+LHsa5lP+RLoriCI2U/SKGOgHqbZD8RSnZAiRZkP7WU9ViflGM/xuLdaa0VYz84FJxRpJliP9PCnSx1IGI/ymO1VBGqYT8BZn1gajZhP+9iuiJyxWA/Sne8qRpXYD9nsX99rNZfP7N5mcouBF8/qksttaE2Xj/lT7Yp621dP0V2gIXxqVw/qVdklZvqWz+ReYKU0C9bPwIY/ip4eVo/Mpi3bHrHWT+6xQbYvxlZPwD8dFQxcFg/hVt3MbjKVz9nKiklPilXPzV/Bkuti1Y/pVKnIvDxVT8/FnuO8VtVPyXrhNKcyVQ/cpQYk906VD/lP5jTn69TP0c9M/XPJ1M/Fb+ltVqjUj/uuvktLSJSP8UBSdE0pFE/W6aAa18pUT/QxiUgm7FQP7zPG2nWPFA/cJfYKgCWTz+fpyCQDrhOP0hld+22300/3ZpT0dgMTT8ax9hqVD9MP9BqeIcKd0s/NEaXkNyzSj/jojaJrPVJP9HJoQtdPEk/9r8fR9GHSD8VZan97NdHP3oOpIGULEc/97Sgs6yFRj/pzh8AG+NFPwfrWV3FREU/ZCENSZKqRD91bk/GaBREP8YJZlswgkM/e8uhD9HzQj+Nr0BpM2lCPwyHVGtA4kE/meWuk+FeQT/QV9LYAN9AP0bw6KeIYkA/u2qAxcfSPz8X9pS7++Y+PztkS7yEAT4/UWpPLzsiPT9ZN+BV+Eg8P9Uz/0aWdTs/Peep6++nOj9DDh/74N85P+jpLvdFHTk/hNCWKPxfOD9UBWib4ac3P8/beRvV9DY/PyrnMLZGNj/4C5ccZZ01P5j10NTC+DQ/DRncAbFYND+qF6r6Eb0zP2//jMHIJTM/6434ALmSMj9+tE4IxwMyPxFWt8jXeDE/GzcD0tDxMD8kF5pPmG4wP9nR5woq3i8/YkA6mlzmLj85D4wlmPUtP5omuqStCy0/e0RoKW8oLD9pP2HZr0srPxftDOlDdSo/cIv7lQClKT+Oi4YhvNooPzqchstNFig/2M4ezY1XJz8+s5xTVZ4mP5RCbXt+6iU/yXImS+Q7JT9OSKWuYpIkPzM+QHLW7SM/nNgNPh1OIz8KNj+RFbMiP4Jzjr2eHCI/tbTA4piKIT8=\",\"dtype\":\"float64\",\"order\":\"little\",\"shape\":[1000]},\"x\":{\"__ndarray__\":\"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\",\"dtype\":\"float64\",\"order\":\"little\",\"shape\":[1000]}},\"selected\":{\"id\":\"1124\"},\"selection_policy\":{\"id\":\"1123\"}},\"id\":\"1109\",\"type\":\"ColumnDataSource\"},{\"attributes\":{},\"id\":\"1096\",\"type\":\"LinearScale\"},{\"attributes\":{\"line_alpha\":0.2,\"line_color\":\"#ff8888\",\"line_width\":4,\"x\":{\"field\":\"x\"},\"y\":{\"field\":\"pdf\"}},\"id\":\"1113\",\"type\":\"Line\"},{\"attributes\":{\"coordinates\":null,\"data_source\":{\"id\":\"1109\"},\"glyph\":{\"id\":\"1111\"},\"group\":null,\"hover_glyph\":null,\"muted_glyph\":{\"id\":\"1113\"},\"nonselection_glyph\":{\"id\":\"1112\"},\"view\":{\"id\":\"1115\"}},\"id\":\"1114\",\"type\":\"GlyphRenderer\"},{\"attributes\":{\"axis_label\":\"x\",\"coordinates\":null,\"formatter\":{\"id\":\"1121\"},\"group\":null,\"major_label_policy\":{\"id\":\"1122\"},\"ticker\":{\"id\":\"1099\"}},\"id\":\"1098\",\"type\":\"LinearAxis\"},{\"attributes\":{},\"id\":\"1121\",\"type\":\"BasicTickFormatter\"},{\"attributes\":{\"axis\":{\"id\":\"1098\"},\"coordinates\":null,\"grid_line_color\":\"white\",\"group\":null,\"ticker\":null},\"id\":\"1101\",\"type\":\"Grid\"},{\"attributes\":{},\"id\":\"1103\",\"type\":\"BasicTicker\"},{\"attributes\":{},\"id\":\"1118\",\"type\":\"BasicTickFormatter\"},{\"attributes\":{\"axis_label\":\"Pr(x)\",\"coordinates\":null,\"formatter\":{\"id\":\"1118\"},\"group\":null,\"major_label_policy\":{\"id\":\"1119\"},\"ticker\":{\"id\":\"1103\"}},\"id\":\"1102\",\"type\":\"LinearAxis\"},{\"attributes\":{},\"id\":\"1122\",\"type\":\"AllLabels\"},{\"attributes\":{\"callback\":null,\"tooltips\":[[\"Probability\",\"@pdf{0.00000}\"],[\"Sigma\",\"@x{0.00000}\"]]},\"id\":\"1106\",\"type\":\"HoverTool\"},{\"attributes\":{},\"id\":\"1119\",\"type\":\"AllLabels\"},{\"attributes\":{},\"id\":\"1123\",\"type\":\"UnionRenderers\"},{\"attributes\":{\"coordinates\":null,\"group\":null,\"items\":[{\"id\":\"1126\"}],\"location\":\"center_right\"},\"id\":\"1125\",\"type\":\"Legend\"},{\"attributes\":{\"coordinates\":null,\"group\":null,\"text\":\"Normal Distribution (\\u03bc=0, \\u03c3=1)\"},\"id\":\"1088\",\"type\":\"Title\"},{\"attributes\":{},\"id\":\"1124\",\"type\":\"Selection\"},{\"attributes\":{\"axis\":{\"id\":\"1102\"},\"coordinates\":null,\"dimension\":1,\"grid_line_color\":\"white\",\"group\":null,\"ticker\":null},\"id\":\"1105\",\"type\":\"Grid\"},{\"attributes\":{\"label\":{\"value\":\"PDF\"},\"renderers\":[{\"id\":\"1114\"}]},\"id\":\"1126\",\"type\":\"LegendItem\"},{\"attributes\":{},\"id\":\"1094\",\"type\":\"LinearScale\"},{\"attributes\":{},\"id\":\"1090\",\"type\":\"DataRange1d\"},{\"attributes\":{\"start\":0},\"id\":\"1092\",\"type\":\"DataRange1d\"},{\"attributes\":{\"tools\":[{\"id\":\"1106\"}]},\"id\":\"1107\",\"type\":\"Toolbar\"}],\"root_ids\":[\"1087\"]},\"title\":\"Bokeh Application\",\"version\":\"2.4.2\"}};\n  const render_items = [{\"docid\":\"fc683559-5b5d-4f8d-8a81-235bc87f2fae\",\"root_ids\":[\"1087\"],\"roots\":{\"1087\":\"2dc72bf9-b960-4a5d-8ddb-90ef55263a43\"}}];\n  root.Bokeh.embed.embed_items_notebook(docs_json, render_items);\n\n  }\n  if (root.Bokeh !== undefined) {\n    embed_document(root);\n  } else {\n    let attempts = 0;\n    const timer = setInterval(function(root) {\n      if (root.Bokeh !== undefined) {\n        clearInterval(timer);\n        embed_document(root);\n      } else {\n        attempts++;\n        if (attempts > 100) {\n          clearInterval(timer);\n          console.log(\"Bokeh: ERROR: Unable to run BokehJS code because BokehJS library is missing\");\n        }\n      }\n    }, 10, root)\n  }\n})(window);",
      "application/vnd.bokehjs_exec.v0+json": ""
     },
     "metadata": {
      "application/vnd.bokehjs_exec.v0+json": {
       "id": "1087"
      }
     },
     "output_type": "display_data"
    }
   ],
   "source": [
    "import numpy as np\n",
    "from scipy.stats import norm\n",
    "import scipy\n",
    "\n",
    "def density_plot(title, x, pdf):\n",
    "    p = figure(title=title, \n",
    "               tools='hover',\n",
    "               toolbar_location=None,\n",
    "               tooltips=[('Probability','@pdf{0.00000}'),('Sigma','@x{0.00000}')],\n",
    "               plot_width=800, \n",
    "               plot_height=500)\n",
    "    \n",
    "    di = dict(x=x, pdf=pdf)\n",
    "    \n",
    "    p.line('x', 'pdf', line_color=\"#ff8888\", line_width=4, alpha=0.7, legend=\"PDF\", source=ColumnDataSource(di))\n",
    "\n",
    "    p.y_range.start = 0\n",
    "    p.legend.location = \"center_right\"\n",
    "    p.xaxis.axis_label = 'x'\n",
    "    p.yaxis.axis_label = 'Pr(x)'\n",
    "    p.grid.grid_line_color=\"white\"\n",
    "    return p\n",
    "\n",
    "\n",
    "mu, sigma = 0, 1\n",
    "\n",
    "x = np.linspace(-4, 4, 1000)\n",
    "pdf = norm.pdf(x)\n",
    "\n",
    "p = density_plot(f\"Normal Distribution (μ={mu}, σ={sigma})\", x, pdf)\n",
    "\n",
    "show(p)"
   ]
  },
  {
   "cell_type": "markdown",
   "metadata": {},
   "source": [
    "![](assets/3.png)"
   ]
  },
  {
   "cell_type": "markdown",
   "metadata": {},
   "source": [
    "When a measurement follows a standard normal distribution, then the assumptions of a normal distribution can be applied to the data and these assumptions can be completely specified by two parameters, which are the mean and standard deviation. The empirical rule of a standard normal gives us the following:\n",
    "\n",
    "- 68% of data will fall within 1 standard deviation of the mean  \n",
    "- 95% of data will fall within 2 standard deviations of the mean  \n",
    "- 99.7% of data will fall within 3 standard deviations of the mean  \n",
    "\n",
    "Scroll back to the normal curve we plotted above, observe:  \n",
    "- It is perfectly symmetrical   \n",
    "- It is unimodal (has only a single mode)  \n",
    "- Area under curve is 1  \n",
    "\n",
    "One relating idea that gives the normal distribution such significance is known as the **Central limit theorem**: it says that when we have many independent variables generated by all kinds of distributions, the aggregate of those variables will tend toward a normal distribution assuming of course the lack of any extraordinary intervention. This universality is observed across different domains making the normal distribution a core centerpiece in applied statistics and mathematics."
   ]
  },
  {
   "cell_type": "markdown",
   "metadata": {},
   "source": [
    "As an exercise, I’d like you to generate 50 random numbers using `numpy` indicating mean of 0 and standard deviation of 1. Now use the `density()` function I created and create a plot based on the generated 50 random numbers:"
   ]
  },
  {
   "cell_type": "code",
   "execution_count": 29,
   "metadata": {},
   "outputs": [
    {
     "name": "stderr",
     "output_type": "stream",
     "text": [
      "BokehDeprecationWarning: 'legend' keyword is deprecated, use explicit 'legend_label', 'legend_field', or 'legend_group' keywords instead\n"
     ]
    },
    {
     "data": {
      "text/html": [
       "\n",
       "\n",
       "\n",
       "\n",
       "\n",
       "\n",
       "  <div class=\"bk-root\" id=\"e685d696-7050-4a75-9bb2-fba1138e8cc0\" data-root-id=\"1190\"></div>\n"
      ]
     },
     "metadata": {},
     "output_type": "display_data"
    },
    {
     "data": {
      "application/javascript": "(function(root) {\n  function embed_document(root) {\n    \n  const docs_json = {\"24caaed4-fc04-4f8b-8fa5-81e02f145a1c\":{\"defs\":[],\"roots\":{\"references\":[{\"attributes\":{\"below\":[{\"id\":\"1201\"}],\"center\":[{\"id\":\"1204\"},{\"id\":\"1208\"},{\"id\":\"1228\"}],\"height\":500,\"left\":[{\"id\":\"1205\"}],\"renderers\":[{\"id\":\"1217\"}],\"title\":{\"id\":\"1191\"},\"toolbar\":{\"id\":\"1210\"},\"toolbar_location\":null,\"width\":800,\"x_range\":{\"id\":\"1193\"},\"x_scale\":{\"id\":\"1197\"},\"y_range\":{\"id\":\"1195\"},\"y_scale\":{\"id\":\"1199\"}},\"id\":\"1190\",\"subtype\":\"Figure\",\"type\":\"Plot\"},{\"attributes\":{\"data\":{\"pdf\":{\"__ndarray__\":\"1bKkirF5tj9myMsf9L28P/mp/bti47w/+bcMMJpEwT8C39mVJoTDP7yf/9EGhcM/qqWDqw9JxT8Ht7baqb7MP+tq0o/Rq88/GI1D3SKI0D9jzliq5xvSP24TI+q+EdM/k02DMig+0z+v+/IYBkXTP8CtXtoOa9Q/sCE0Y8+41D9t0GwDSyvVP6G5dablWtU/Pbd4VGI01j+z8plcYmTWPwXIKVbGadc/ss5w4w3j1z8XVQyZmfjXPwMWh3oTBtg/8brQU4EK2D80XBAT1wvYP1s9gsm3DNg/MpMxluwM2D/9DcwJXxHYP57RgIIFENg/wV6GRiPY1z8z2w2ucrbXP0QCGxBTIdc/SH0x6PHy1j9SfH0ypObWP+uPiEAM69U/hRT8S2NJ1T9+IkOMqA7VP4axo5Mqo9M/sfBiyTmb0z+vKnw2qr7SP+9I/3E/j9I/OXBu9xdO0j9bFnHR9DnSPyZL/1caE9E/QTREEKKEzj/vWEmQkOTCP+b9KszuNrw/buqbviFatj9Rg5YfCX+TPw==\",\"dtype\":\"float64\",\"order\":\"little\",\"shape\":[50]},\"x\":{\"__ndarray__\":\"E9eWEI7L+78tM0C9K9D4v1DC3931vPi/sNoti1WO9b+Y0GacvMzyvwjoO5+zy/K/SZzC+7Xb8L9oKNU4/Ynmv4n3Y8kvJ+O/CNroe9+X4b9w5XNVJxjcv4vatXuRmde/5O5PyeDC1r9KRQuFc6HWv78Suacxv9C/zeQm1Qgizr+3Q4avgOvIv1yjLyArpMa/5LiMxw0rtr99oGi+eWKwv/v+JLZvr7c/fWLHNoywyz/JOq4B0B7QP4b3B7FxANI/B01G3CjH0j/3hpSgoAnTP3jMeTN1N9M/vlTnd39C0z80cegXzBHbP3DrPrk8bds/9UvkbW5L4T+ZmTPwRpTiP3ouyGUYeuY/mKucQfxm5z8n5WM7SaLnPxwKqCoji+s/1OBZIV2J7T+XCFzfjDLuP+pZ+d9A5fA/Ic2xM2Du8D81kM2+pODxP+3q+xpQEvI/h1DvdWZV8j8DpDqo4WnyP9TEVaCBivM/s0lNYU019T/5zkE/QYv6Pzc5DbXlKv0/fMj+ShYV/z941sVwK4YIQA==\",\"dtype\":\"float64\",\"order\":\"little\",\"shape\":[50]}},\"selected\":{\"id\":\"1227\"},\"selection_policy\":{\"id\":\"1226\"}},\"id\":\"1212\",\"type\":\"ColumnDataSource\"},{\"attributes\":{\"label\":{\"value\":\"PDF\"},\"renderers\":[{\"id\":\"1217\"}]},\"id\":\"1229\",\"type\":\"LegendItem\"},{\"attributes\":{},\"id\":\"1221\",\"type\":\"BasicTickFormatter\"},{\"attributes\":{},\"id\":\"1226\",\"type\":\"UnionRenderers\"},{\"attributes\":{},\"id\":\"1225\",\"type\":\"AllLabels\"},{\"attributes\":{},\"id\":\"1202\",\"type\":\"BasicTicker\"},{\"attributes\":{},\"id\":\"1197\",\"type\":\"LinearScale\"},{\"attributes\":{\"axis_label\":\"x\",\"coordinates\":null,\"formatter\":{\"id\":\"1224\"},\"group\":null,\"major_label_policy\":{\"id\":\"1225\"},\"ticker\":{\"id\":\"1202\"}},\"id\":\"1201\",\"type\":\"LinearAxis\"},{\"attributes\":{\"line_alpha\":0.1,\"line_color\":\"#ff8888\",\"line_width\":4,\"x\":{\"field\":\"x\"},\"y\":{\"field\":\"pdf\"}},\"id\":\"1215\",\"type\":\"Line\"},{\"attributes\":{\"line_alpha\":0.2,\"line_color\":\"#ff8888\",\"line_width\":4,\"x\":{\"field\":\"x\"},\"y\":{\"field\":\"pdf\"}},\"id\":\"1216\",\"type\":\"Line\"},{\"attributes\":{\"line_alpha\":0.7,\"line_color\":\"#ff8888\",\"line_width\":4,\"x\":{\"field\":\"x\"},\"y\":{\"field\":\"pdf\"}},\"id\":\"1214\",\"type\":\"Line\"},{\"attributes\":{},\"id\":\"1199\",\"type\":\"LinearScale\"},{\"attributes\":{\"coordinates\":null,\"group\":null,\"items\":[{\"id\":\"1229\"}],\"location\":\"center_right\"},\"id\":\"1228\",\"type\":\"Legend\"},{\"attributes\":{\"axis\":{\"id\":\"1201\"},\"coordinates\":null,\"grid_line_color\":\"white\",\"group\":null,\"ticker\":null},\"id\":\"1204\",\"type\":\"Grid\"},{\"attributes\":{\"coordinates\":null,\"data_source\":{\"id\":\"1212\"},\"glyph\":{\"id\":\"1214\"},\"group\":null,\"hover_glyph\":null,\"muted_glyph\":{\"id\":\"1216\"},\"nonselection_glyph\":{\"id\":\"1215\"},\"view\":{\"id\":\"1218\"}},\"id\":\"1217\",\"type\":\"GlyphRenderer\"},{\"attributes\":{\"axis\":{\"id\":\"1205\"},\"coordinates\":null,\"dimension\":1,\"grid_line_color\":\"white\",\"group\":null,\"ticker\":null},\"id\":\"1208\",\"type\":\"Grid\"},{\"attributes\":{\"source\":{\"id\":\"1212\"}},\"id\":\"1218\",\"type\":\"CDSView\"},{\"attributes\":{},\"id\":\"1206\",\"type\":\"BasicTicker\"},{\"attributes\":{},\"id\":\"1224\",\"type\":\"BasicTickFormatter\"},{\"attributes\":{},\"id\":\"1227\",\"type\":\"Selection\"},{\"attributes\":{\"axis_label\":\"Pr(x)\",\"coordinates\":null,\"formatter\":{\"id\":\"1221\"},\"group\":null,\"major_label_policy\":{\"id\":\"1222\"},\"ticker\":{\"id\":\"1206\"}},\"id\":\"1205\",\"type\":\"LinearAxis\"},{\"attributes\":{\"callback\":null,\"tooltips\":[[\"Probability\",\"@pdf{0.00000}\"],[\"Sigma\",\"@x{0.00000}\"]]},\"id\":\"1209\",\"type\":\"HoverTool\"},{\"attributes\":{\"coordinates\":null,\"group\":null,\"text\":\"Probability Density Distribution\"},\"id\":\"1191\",\"type\":\"Title\"},{\"attributes\":{},\"id\":\"1193\",\"type\":\"DataRange1d\"},{\"attributes\":{\"tools\":[{\"id\":\"1209\"}]},\"id\":\"1210\",\"type\":\"Toolbar\"},{\"attributes\":{},\"id\":\"1222\",\"type\":\"AllLabels\"},{\"attributes\":{\"start\":0},\"id\":\"1195\",\"type\":\"DataRange1d\"}],\"root_ids\":[\"1190\"]},\"title\":\"Bokeh Application\",\"version\":\"2.4.2\"}};\n  const render_items = [{\"docid\":\"24caaed4-fc04-4f8b-8fa5-81e02f145a1c\",\"root_ids\":[\"1190\"],\"roots\":{\"1190\":\"e685d696-7050-4a75-9bb2-fba1138e8cc0\"}}];\n  root.Bokeh.embed.embed_items_notebook(docs_json, render_items);\n\n  }\n  if (root.Bokeh !== undefined) {\n    embed_document(root);\n  } else {\n    let attempts = 0;\n    const timer = setInterval(function(root) {\n      if (root.Bokeh !== undefined) {\n        clearInterval(timer);\n        embed_document(root);\n      } else {\n        attempts++;\n        if (attempts > 100) {\n          clearInterval(timer);\n          console.log(\"Bokeh: ERROR: Unable to run BokehJS code because BokehJS library is missing\");\n        }\n      }\n    }, 10, root)\n  }\n})(window);",
      "application/vnd.bokehjs_exec.v0+json": ""
     },
     "metadata": {
      "application/vnd.bokehjs_exec.v0+json": {
       "id": "1190"
      }
     },
     "output_type": "display_data"
    }
   ],
   "source": [
    "from scipy import stats\n",
    "\n",
    "# Careful on more than 50,000 samples will exhaust your machine\n",
    "n = 50\n",
    "x = np.random.randn(n)\n",
    "x.sort()\n",
    "\n",
    "# Generate pdf estimation using gaussian kernel\n",
    "pdf = stats.gaussian_kde(x)\n",
    "pd = np.reshape(pdf(x).T, len(x))\n",
    "\n",
    "p = density_plot(\"Probability Density Distribution\", x, pd)\n",
    "\n",
    "show(p)"
   ]
  },
  {
   "cell_type": "markdown",
   "metadata": {},
   "source": [
    "![](assets/4.png)"
   ]
  },
  {
   "cell_type": "markdown",
   "metadata": {},
   "source": [
    "Supposed you were to change 10 to 100, and then to 1000 and even 10,000, what did you observe? The key takeaway here is that as the number of sample approach infinity this plot will eventually converge in distribution to the standard normal."
   ]
  },
  {
   "cell_type": "markdown",
   "metadata": {},
   "source": [
    "# Inferential Statistics"
   ]
  },
  {
   "cell_type": "markdown",
   "metadata": {},
   "source": [
    "## Probability Density Function and Probability Mass Function\n",
    "\n",
    "When we’re thinking about continuous random variables (blood sugar level, height, rainfall amount), it is important to realize that this variable has an uncountable number of possible values, even between two real intervals. The resulting probability distribution of the variable can be described by a probability density, where the probability is found by taking the area under the curve."
   ]
  },
  {
   "cell_type": "markdown",
   "metadata": {},
   "source": [
    "*Add normal distribution pdf here*"
   ]
  },
  {
   "cell_type": "markdown",
   "metadata": {},
   "source": [
    "Discrete random variables (number of player injury, amount of defaulted loans, travel bookings per customer), on the other hand, can be described using a probability mass function, which maps each value of the random variable to a probability:  \n",
    "- p(0 bookings) = 0.28  \n",
    "- p(1 booking) = 0.09  \n",
    "- …  \n",
    "- p(6 bookings) = 0.004  \n",
    "\n",
    "Because they are probabilities, these individual probabilities have to sum up to 1."
   ]
  },
  {
   "cell_type": "markdown",
   "metadata": {},
   "source": [
    "Before going into probability density function and mass function, it is important to understand that the function is estimated by binning the distribution values. In `pandas` DataFrame, we also have `hist()` function to create a quick visual inspection using histogram:"
   ]
  },
  {
   "cell_type": "code",
   "execution_count": 30,
   "metadata": {},
   "outputs": [
    {
     "data": {
      "text/plain": [
       "array([[<AxesSubplot:title={'center':'price'}>]], dtype=object)"
      ]
     },
     "execution_count": 30,
     "metadata": {},
     "output_type": "execute_result"
    },
    {
     "data": {
      "image/png": "[encoded data removed]",
      "text/plain": [
       "<Figure size 432x288 with 1 Axes>"
      ]
     },
     "metadata": {
      "needs_background": "light"
     },
     "output_type": "display_data"
    }
   ],
   "source": [
    "hp[hp.brand_hp == 'apple'].hist(column='price')"
   ]
  },
  {
   "cell_type": "markdown",
   "metadata": {},
   "source": [
    "Other approach to make a prettier histogram is to create one using bokeh:"
   ]
  },
  {
   "cell_type": "code",
   "execution_count": 31,
   "metadata": {},
   "outputs": [],
   "source": [
    "from bokeh.models.formatters import NumeralTickFormatter\n",
    "\n",
    "def histogram_plot(title, hist, edges):\n",
    "    p = figure(title=title, \n",
    "               tools='',\n",
    "               toolbar_location=None,\n",
    "               plot_width=800, \n",
    "               plot_height=500)\n",
    "    \n",
    "    p.quad(top=hist, bottom=0, left=edges[:-1], right=edges[1:],\n",
    "           fill_color=\"navy\", line_color=\"white\", alpha=0.5)\n",
    "\n",
    "    p.y_range.start = 0\n",
    "    p.xaxis.axis_label = 'x'\n",
    "    p.yaxis.axis_label = 'count'\n",
    "    p.grid.grid_line_color=\"white\"\n",
    "    p.xaxis.formatter = NumeralTickFormatter(format=\"0,0\")\n",
    "    \n",
    "    return p"
   ]
  },
  {
   "cell_type": "markdown",
   "metadata": {},
   "source": [
    "Then generate a random numbers and use `np.histogram()` to generate the counts and binning ranges:"
   ]
  },
  {
   "cell_type": "code",
   "execution_count": 32,
   "metadata": {},
   "outputs": [
    {
     "data": {
      "text/html": [
       "\n",
       "\n",
       "\n",
       "\n",
       "\n",
       "\n",
       "  <div class=\"bk-root\" id=\"a91835ac-c0e9-4178-b9fd-501367795d69\" data-root-id=\"1302\"></div>\n"
      ]
     },
     "metadata": {},
     "output_type": "display_data"
    },
    {
     "data": {
      "application/javascript": "(function(root) {\n  function embed_document(root) {\n    \n  const docs_json = {\"1ebf3be7-51dd-4b0b-a487-eb5000cded31\":{\"defs\":[],\"roots\":{\"references\":[{\"attributes\":{\"below\":[{\"id\":\"1313\"}],\"center\":[{\"id\":\"1316\"},{\"id\":\"1320\"}],\"height\":500,\"left\":[{\"id\":\"1317\"}],\"renderers\":[{\"id\":\"1326\"}],\"title\":{\"id\":\"1303\"},\"toolbar\":{\"id\":\"1321\"},\"toolbar_location\":null,\"width\":800,\"x_range\":{\"id\":\"1305\"},\"x_scale\":{\"id\":\"1309\"},\"y_range\":{\"id\":\"1307\"},\"y_scale\":{\"id\":\"1311\"}},\"id\":\"1302\",\"subtype\":\"Figure\",\"type\":\"Plot\"},{\"attributes\":{},\"id\":\"1321\",\"type\":\"Toolbar\"},{\"attributes\":{\"data\":{\"left\":{\"__ndarray__\":\"AAAAAACI00AAAAAAmAk9QQAAAACI4kxBAAAAACKgVUEAAAAAAM9cQQAAAADv/mFBAAAAAF6WZUEAAAAAzS1pQQAAAAA8xWxBAAAAgFUucEE=\",\"dtype\":\"float64\",\"order\":\"little\",\"shape\":[10]},\"right\":{\"__ndarray__\":\"AAAAAJgJPUEAAAAAiOJMQQAAAAAioFVBAAAAAADPXEEAAAAA7/5hQQAAAABelmVBAAAAAM0taUEAAAAAPMVsQQAAAIBVLnBBAAAAAA36cUE=\",\"dtype\":\"float64\",\"order\":\"little\",\"shape\":[10]},\"top\":[52,211,105,33,35,40,37,30,8,8]},\"selected\":{\"id\":\"1364\"},\"selection_policy\":{\"id\":\"1363\"}},\"id\":\"1322\",\"type\":\"ColumnDataSource\"},{\"attributes\":{\"bottom\":{\"value\":0},\"fill_alpha\":{\"value\":0.1},\"fill_color\":{\"value\":\"navy\"},\"hatch_alpha\":{\"value\":0.1},\"left\":{\"field\":\"left\"},\"line_alpha\":{\"value\":0.1},\"line_color\":{\"value\":\"white\"},\"right\":{\"field\":\"right\"},\"top\":{\"field\":\"top\"}},\"id\":\"1324\",\"type\":\"Quad\"},{\"attributes\":{},\"id\":\"1318\",\"type\":\"BasicTicker\"},{\"attributes\":{\"axis_label\":\"count\",\"coordinates\":null,\"formatter\":{\"id\":\"1359\"},\"group\":null,\"major_label_policy\":{\"id\":\"1360\"},\"ticker\":{\"id\":\"1318\"}},\"id\":\"1317\",\"type\":\"LinearAxis\"},{\"attributes\":{},\"id\":\"1364\",\"type\":\"Selection\"},{\"attributes\":{\"axis\":{\"id\":\"1317\"},\"coordinates\":null,\"dimension\":1,\"grid_line_color\":\"white\",\"group\":null,\"ticker\":null},\"id\":\"1320\",\"type\":\"Grid\"},{\"attributes\":{},\"id\":\"1363\",\"type\":\"UnionRenderers\"},{\"attributes\":{},\"id\":\"1360\",\"type\":\"AllLabels\"},{\"attributes\":{},\"id\":\"1362\",\"type\":\"AllLabels\"},{\"attributes\":{},\"id\":\"1359\",\"type\":\"BasicTickFormatter\"},{\"attributes\":{\"coordinates\":null,\"group\":null,\"text\":\"Histogram Plot\"},\"id\":\"1303\",\"type\":\"Title\"},{\"attributes\":{\"bottom\":{\"value\":0},\"fill_alpha\":{\"value\":0.5},\"fill_color\":{\"value\":\"navy\"},\"hatch_alpha\":{\"value\":0.5},\"left\":{\"field\":\"left\"},\"line_alpha\":{\"value\":0.5},\"line_color\":{\"value\":\"white\"},\"right\":{\"field\":\"right\"},\"top\":{\"field\":\"top\"}},\"id\":\"1323\",\"type\":\"Quad\"},{\"attributes\":{\"start\":0},\"id\":\"1307\",\"type\":\"DataRange1d\"},{\"attributes\":{\"axis_label\":\"x\",\"coordinates\":null,\"formatter\":{\"id\":\"1328\"},\"group\":null,\"major_label_policy\":{\"id\":\"1362\"},\"ticker\":{\"id\":\"1314\"}},\"id\":\"1313\",\"type\":\"LinearAxis\"},{\"attributes\":{\"axis\":{\"id\":\"1313\"},\"coordinates\":null,\"grid_line_color\":\"white\",\"group\":null,\"ticker\":null},\"id\":\"1316\",\"type\":\"Grid\"},{\"attributes\":{\"bottom\":{\"value\":0},\"fill_alpha\":{\"value\":0.2},\"fill_color\":{\"value\":\"navy\"},\"hatch_alpha\":{\"value\":0.2},\"left\":{\"field\":\"left\"},\"line_alpha\":{\"value\":0.2},\"line_color\":{\"value\":\"white\"},\"right\":{\"field\":\"right\"},\"top\":{\"field\":\"top\"}},\"id\":\"1325\",\"type\":\"Quad\"},{\"attributes\":{},\"id\":\"1314\",\"type\":\"BasicTicker\"},{\"attributes\":{},\"id\":\"1328\",\"type\":\"NumeralTickFormatter\"},{\"attributes\":{},\"id\":\"1309\",\"type\":\"LinearScale\"},{\"attributes\":{},\"id\":\"1311\",\"type\":\"LinearScale\"},{\"attributes\":{\"source\":{\"id\":\"1322\"}},\"id\":\"1327\",\"type\":\"CDSView\"},{\"attributes\":{},\"id\":\"1305\",\"type\":\"DataRange1d\"},{\"attributes\":{\"coordinates\":null,\"data_source\":{\"id\":\"1322\"},\"glyph\":{\"id\":\"1323\"},\"group\":null,\"hover_glyph\":null,\"muted_glyph\":{\"id\":\"1325\"},\"nonselection_glyph\":{\"id\":\"1324\"},\"view\":{\"id\":\"1327\"}},\"id\":\"1326\",\"type\":\"GlyphRenderer\"}],\"root_ids\":[\"1302\"]},\"title\":\"Bokeh Application\",\"version\":\"2.4.2\"}};\n  const render_items = [{\"docid\":\"1ebf3be7-51dd-4b0b-a487-eb5000cded31\",\"root_ids\":[\"1302\"],\"roots\":{\"1302\":\"a91835ac-c0e9-4178-b9fd-501367795d69\"}}];\n  root.Bokeh.embed.embed_items_notebook(docs_json, render_items);\n\n  }\n  if (root.Bokeh !== undefined) {\n    embed_document(root);\n  } else {\n    let attempts = 0;\n    const timer = setInterval(function(root) {\n      if (root.Bokeh !== undefined) {\n        clearInterval(timer);\n        embed_document(root);\n      } else {\n        attempts++;\n        if (attempts > 100) {\n          clearInterval(timer);\n          console.log(\"Bokeh: ERROR: Unable to run BokehJS code because BokehJS library is missing\");\n        }\n      }\n    }, 10, root)\n  }\n})(window);",
      "application/vnd.bokehjs_exec.v0+json": ""
     },
     "metadata": {
      "application/vnd.bokehjs_exec.v0+json": {
       "id": "1302"
      }
     },
     "output_type": "display_data"
    }
   ],
   "source": [
    "n = 50\n",
    "x = hp[hp.brand_hp == 'apple'].price\n",
    "hist, edges = np.histogram(x, bins=10)\n",
    "\n",
    "p = histogram_plot(\"Histogram Plot\", hist, edges)\n",
    "\n",
    "show(p)"
   ]
  },
  {
   "cell_type": "markdown",
   "metadata": {},
   "source": [
    "![](assets/6.png)"
   ]
  },
  {
   "cell_type": "markdown",
   "metadata": {},
   "source": [
    "**Dive Deeper:**\n",
    "\n",
    "Using our previous `hp` dataset, can you inspect visually, between the top 10 most listed brands, is it safe to assume that each brand has it own market segment? \n",
    "\n",
    "*Tips: A brand that has single market segment will show a unimodal shapes in our histogram*"
   ]
  },
  {
   "cell_type": "code",
   "execution_count": 38,
   "metadata": {},
   "outputs": [
    {
     "data": {
      "text/html": [
       "\n",
       "    <div class=\"bk-root\">\n",
       "        <a href=\"https://bokeh.org\" target=\"_blank\" class=\"bk-logo bk-logo-small bk-logo-notebook\"></a>\n",
       "        <span id=\"4315\">Loading BokehJS ...</span>\n",
       "    </div>"
      ]
     },
     "metadata": {},
     "output_type": "display_data"
    },
    {
     "data": {
      "application/javascript": "\n(function(root) {\n  function now() {\n    return new Date();\n  }\n\n  const force = true;\n\n  if (typeof root._bokeh_onload_callbacks === \"undefined\" || force === true) {\n    root._bokeh_onload_callbacks = [];\n    root._bokeh_is_loading = undefined;\n  }\n\n  const JS_MIME_TYPE = 'application/javascript';\n  const HTML_MIME_TYPE = 'text/html';\n  const EXEC_MIME_TYPE = 'application/vnd.bokehjs_exec.v0+json';\n  const CLASS_NAME = 'output_bokeh rendered_html';\n\n  /**\n   * Render data to the DOM node\n   */\n  function render(props, node) {\n    const script = document.createElement(\"script\");\n    node.appendChild(script);\n  }\n\n  /**\n   * Handle when an output is cleared or removed\n   */\n  function handleClearOutput(event, handle) {\n    const cell = handle.cell;\n\n    const id = cell.output_area._bokeh_element_id;\n    const server_id = cell.output_area._bokeh_server_id;\n    // Clean up Bokeh references\n    if (id != null && id in Bokeh.index) {\n      Bokeh.index[id].model.document.clear();\n      delete Bokeh.index[id];\n    }\n\n    if (server_id !== undefined) {\n      // Clean up Bokeh references\n      const cmd_clean = \"from bokeh.io.state import curstate; print(curstate().uuid_to_server['\" + server_id + \"'].get_sessions()[0].document.roots[0]._id)\";\n      cell.notebook.kernel.execute(cmd_clean, {\n        iopub: {\n          output: function(msg) {\n            const id = msg.content.text.trim();\n            if (id in Bokeh.index) {\n              Bokeh.index[id].model.document.clear();\n              delete Bokeh.index[id];\n            }\n          }\n        }\n      });\n      // Destroy server and session\n      const cmd_destroy = \"import bokeh.io.notebook as ion; ion.destroy_server('\" + server_id + \"')\";\n      cell.notebook.kernel.execute(cmd_destroy);\n    }\n  }\n\n  /**\n   * Handle when a new output is added\n   */\n  function handleAddOutput(event, handle) {\n    const output_area = handle.output_area;\n    const output = handle.output;\n\n    // limit handleAddOutput to display_data with EXEC_MIME_TYPE content only\n    if ((output.output_type != \"display_data\") || (!Object.prototype.hasOwnProperty.call(output.data, EXEC_MIME_TYPE))) {\n      return\n    }\n\n    const toinsert = output_area.element.find(\".\" + CLASS_NAME.split(' ')[0]);\n\n    if (output.metadata[EXEC_MIME_TYPE][\"id\"] !== undefined) {\n      toinsert[toinsert.length - 1].firstChild.textContent = output.data[JS_MIME_TYPE];\n      // store reference to embed id on output_area\n      output_area._bokeh_element_id = output.metadata[EXEC_MIME_TYPE][\"id\"];\n    }\n    if (output.metadata[EXEC_MIME_TYPE][\"server_id\"] !== undefined) {\n      const bk_div = document.createElement(\"div\");\n      bk_div.innerHTML = output.data[HTML_MIME_TYPE];\n      const script_attrs = bk_div.children[0].attributes;\n      for (let i = 0; i < script_attrs.length; i++) {\n        toinsert[toinsert.length - 1].firstChild.setAttribute(script_attrs[i].name, script_attrs[i].value);\n        toinsert[toinsert.length - 1].firstChild.textContent = bk_div.children[0].textContent\n      }\n      // store reference to server id on output_area\n      output_area._bokeh_server_id = output.metadata[EXEC_MIME_TYPE][\"server_id\"];\n    }\n  }\n\n  function register_renderer(events, OutputArea) {\n\n    function append_mime(data, metadata, element) {\n      // create a DOM node to render to\n      const toinsert = this.create_output_subarea(\n        metadata,\n        CLASS_NAME,\n        EXEC_MIME_TYPE\n      );\n      this.keyboard_manager.register_events(toinsert);\n      // Render to node\n      const props = {data: data, metadata: metadata[EXEC_MIME_TYPE]};\n      render(props, toinsert[toinsert.length - 1]);\n      element.append(toinsert);\n      return toinsert\n    }\n\n    /* Handle when an output is cleared or removed */\n    events.on('clear_output.CodeCell', handleClearOutput);\n    events.on('delete.Cell', handleClearOutput);\n\n    /* Handle when a new output is added */\n    events.on('output_added.OutputArea', handleAddOutput);\n\n    /**\n     * Register the mime type and append_mime function with output_area\n     */\n    OutputArea.prototype.register_mime_type(EXEC_MIME_TYPE, append_mime, {\n      /* Is output safe? */\n      safe: true,\n      /* Index of renderer in `output_area.display_order` */\n      index: 0\n    });\n  }\n\n  // register the mime type if in Jupyter Notebook environment and previously unregistered\n  if (root.Jupyter !== undefined) {\n    const events = require('base/js/events');\n    const OutputArea = require('notebook/js/outputarea').OutputArea;\n\n    if (OutputArea.prototype.mime_types().indexOf(EXEC_MIME_TYPE) == -1) {\n      register_renderer(events, OutputArea);\n    }\n  }\n\n  \n  if (typeof (root._bokeh_timeout) === \"undefined\" || force === true) {\n    root._bokeh_timeout = Date.now() + 5000;\n    root._bokeh_failed_load = false;\n  }\n\n  const NB_LOAD_WARNING = {'data': {'text/html':\n     \"<div style='background-color: #fdd'>\\n\"+\n     \"<p>\\n\"+\n     \"BokehJS does not appear to have successfully loaded. If loading BokehJS from CDN, this \\n\"+\n     \"may be due to a slow or bad network connection. Possible fixes:\\n\"+\n     \"</p>\\n\"+\n     \"<ul>\\n\"+\n     \"<li>re-rerun `output_notebook()` to attempt to load from CDN again, or</li>\\n\"+\n     \"<li>use INLINE resources instead, as so:</li>\\n\"+\n     \"</ul>\\n\"+\n     \"<code>\\n\"+\n     \"from bokeh.resources import INLINE\\n\"+\n     \"output_notebook(resources=INLINE)\\n\"+\n     \"</code>\\n\"+\n     \"</div>\"}};\n\n  function display_loaded() {\n    const el = document.getElementById(\"4315\");\n    if (el != null) {\n      el.textContent = \"BokehJS is loading...\";\n    }\n    if (root.Bokeh !== undefined) {\n      if (el != null) {\n        el.textContent = \"BokehJS \" + root.Bokeh.version + \" successfully loaded.\";\n      }\n    } else if (Date.now() < root._bokeh_timeout) {\n      setTimeout(display_loaded, 100)\n    }\n  }\n\n\n  function run_callbacks() {\n    try {\n      root._bokeh_onload_callbacks.forEach(function(callback) {\n        if (callback != null)\n          callback();\n      });\n    } finally {\n      delete root._bokeh_onload_callbacks\n    }\n    console.debug(\"Bokeh: all callbacks have finished\");\n  }\n\n  function load_libs(css_urls, js_urls, callback) {\n    if (css_urls == null) css_urls = [];\n    if (js_urls == null) js_urls = [];\n\n    root._bokeh_onload_callbacks.push(callback);\n    if (root._bokeh_is_loading > 0) {\n      console.debug(\"Bokeh: BokehJS is being loaded, scheduling callback at\", now());\n      return null;\n    }\n    if (js_urls == null || js_urls.length === 0) {\n      run_callbacks();\n      return null;\n    }\n    console.debug(\"Bokeh: BokehJS not loaded, scheduling load and callback at\", now());\n    root._bokeh_is_loading = css_urls.length + js_urls.length;\n\n    function on_load() {\n      root._bokeh_is_loading--;\n      if (root._bokeh_is_loading === 0) {\n        console.debug(\"Bokeh: all BokehJS libraries/stylesheets loaded\");\n        run_callbacks()\n      }\n    }\n\n    function on_error(url) {\n      console.error(\"failed to load \" + url);\n    }\n\n    for (let i = 0; i < css_urls.length; i++) {\n      const url = css_urls[i];\n      const element = document.createElement(\"link\");\n      element.onload = on_load;\n      element.onerror = on_error.bind(null, url);\n      element.rel = \"stylesheet\";\n      element.type = \"text/css\";\n      element.href = url;\n      console.debug(\"Bokeh: injecting link tag for BokehJS stylesheet: \", url);\n      document.body.appendChild(element);\n    }\n\n    for (let i = 0; i < js_urls.length; i++) {\n      const url = js_urls[i];\n      const element = document.createElement('script');\n      element.onload = on_load;\n      element.onerror = on_error.bind(null, url);\n      element.async = false;\n      element.src = url;\n      console.debug(\"Bokeh: injecting script tag for BokehJS library: \", url);\n      document.head.appendChild(element);\n    }\n  };\n\n  function inject_raw_css(css) {\n    const element = document.createElement(\"style\");\n    element.appendChild(document.createTextNode(css));\n    document.body.appendChild(element);\n  }\n\n  \n  const js_urls = [\"https://cdn.bokeh.org/bokeh/release/bokeh-2.4.2.min.js\", \"https://cdn.bokeh.org/bokeh/release/bokeh-gl-2.4.2.min.js\", \"https://cdn.bokeh.org/bokeh/release/bokeh-widgets-2.4.2.min.js\", \"https://cdn.bokeh.org/bokeh/release/bokeh-tables-2.4.2.min.js\", \"https://cdn.bokeh.org/bokeh/release/bokeh-mathjax-2.4.2.min.js\"];\n  const css_urls = [];\n  \n\n  const inline_js = [\n    function(Bokeh) {\n      Bokeh.set_log_level(\"info\");\n    },\n    function(Bokeh) {\n    \n    \n    }\n  ];\n\n  function run_inline_js() {\n    \n    if (root.Bokeh !== undefined || force === true) {\n      \n    for (let i = 0; i < inline_js.length; i++) {\n      inline_js[i].call(root, root.Bokeh);\n    }\n    if (force === true) {\n        display_loaded();\n      }} else if (Date.now() < root._bokeh_timeout) {\n      setTimeout(run_inline_js, 100);\n    } else if (!root._bokeh_failed_load) {\n      console.log(\"Bokeh: BokehJS failed to load within specified timeout.\");\n      root._bokeh_failed_load = true;\n    } else if (force !== true) {\n      const cell = $(document.getElementById(\"4315\")).parents('.cell').data().cell;\n      cell.output_area.append_execute_result(NB_LOAD_WARNING)\n    }\n\n  }\n\n  if (root._bokeh_is_loading === 0) {\n    console.debug(\"Bokeh: BokehJS loaded, going straight to plotting\");\n    run_inline_js();\n  } else {\n    load_libs(css_urls, js_urls, function() {\n      console.debug(\"Bokeh: BokehJS plotting callback run at\", now());\n      run_inline_js();\n    });\n  }\n}(window));",
      "application/vnd.bokehjs_load.v0+json": ""
     },
     "metadata": {},
     "output_type": "display_data"
    },
    {
     "data": {
      "text/html": [
       "\n",
       "\n",
       "\n",
       "\n",
       "\n",
       "\n",
       "  <div class=\"bk-root\" id=\"02d4af0e-8ecd-41dd-9efb-2f6bbe8096bd\" data-root-id=\"4596\"></div>\n"
      ]
     },
     "metadata": {},
     "output_type": "display_data"
    },
    {
     "data": {
      "application/javascript": "(function(root) {\n  function embed_document(root) {\n    \n  const docs_json = {\"5935516c-2243-4a84-bb45-584a9677696c\":{\"defs\":[],\"roots\":{\"references\":[{\"attributes\":{\"children\":[{\"id\":\"4316\"},{\"id\":\"4344\"},{\"id\":\"4372\"},{\"id\":\"4400\"},{\"id\":\"4428\"},{\"id\":\"4456\"},{\"id\":\"4484\"},{\"id\":\"4512\"},{\"id\":\"4540\"},{\"id\":\"4568\"}]},\"id\":\"4596\",\"type\":\"Column\"},{\"attributes\":{},\"id\":\"4543\",\"type\":\"DataRange1d\"},{\"attributes\":{},\"id\":\"4472\",\"type\":\"BasicTicker\"},{\"attributes\":{},\"id\":\"4351\",\"type\":\"LinearScale\"},{\"attributes\":{},\"id\":\"4475\",\"type\":\"Toolbar\"},{\"attributes\":{\"source\":{\"id\":\"4504\"}},\"id\":\"4509\",\"type\":\"CDSView\"},{\"attributes\":{},\"id\":\"4928\",\"type\":\"BasicTickFormatter\"},{\"attributes\":{\"axis_label\":\"count\",\"coordinates\":null,\"formatter\":{\"id\":\"4888\"},\"group\":null,\"major_label_policy\":{\"id\":\"4889\"},\"ticker\":{\"id\":\"4360\"}},\"id\":\"4359\",\"type\":\"LinearAxis\"},{\"attributes\":{},\"id\":\"4929\",\"type\":\"AllLabels\"},{\"attributes\":{\"bottom\":{\"value\":0},\"fill_alpha\":{\"value\":0.1},\"fill_color\":{\"value\":\"navy\"},\"hatch_alpha\":{\"value\":0.1},\"left\":{\"field\":\"left\"},\"line_alpha\":{\"value\":0.1},\"line_color\":{\"value\":\"white\"},\"right\":{\"field\":\"right\"},\"top\":{\"field\":\"top\"}},\"id\":\"4506\",\"type\":\"Quad\"},{\"attributes\":{},\"id\":\"4454\",\"type\":\"NumeralTickFormatter\"},{\"attributes\":{\"axis\":{\"id\":\"4471\"},\"coordinates\":null,\"dimension\":1,\"grid_line_color\":\"white\",\"group\":null,\"ticker\":null},\"id\":\"4474\",\"type\":\"Grid\"},{\"attributes\":{},\"id\":\"4356\",\"type\":\"BasicTicker\"},{\"attributes\":{\"bottom\":{\"value\":0},\"fill_alpha\":{\"value\":0.2},\"fill_color\":{\"value\":\"navy\"},\"hatch_alpha\":{\"value\":0.2},\"left\":{\"field\":\"left\"},\"line_alpha\":{\"value\":0.2},\"line_color\":{\"value\":\"white\"},\"right\":{\"field\":\"right\"},\"top\":{\"field\":\"top\"}},\"id\":\"4507\",\"type\":\"Quad\"},{\"attributes\":{},\"id\":\"4931\",\"type\":\"AllLabels\"},{\"attributes\":{},\"id\":\"4353\",\"type\":\"LinearScale\"},{\"attributes\":{\"coordinates\":null,\"data_source\":{\"id\":\"4504\"},\"glyph\":{\"id\":\"4505\"},\"group\":null,\"hover_glyph\":null,\"muted_glyph\":{\"id\":\"4507\"},\"nonselection_glyph\":{\"id\":\"4506\"},\"view\":{\"id\":\"4509\"}},\"id\":\"4508\",\"type\":\"GlyphRenderer\"},{\"attributes\":{\"axis_label\":\"x\",\"coordinates\":null,\"formatter\":{\"id\":\"4370\"},\"group\":null,\"major_label_policy\":{\"id\":\"4891\"},\"ticker\":{\"id\":\"4356\"}},\"id\":\"4355\",\"type\":\"LinearAxis\"},{\"attributes\":{\"axis\":{\"id\":\"4555\"},\"coordinates\":null,\"dimension\":1,\"grid_line_color\":\"white\",\"group\":null,\"ticker\":null},\"id\":\"4558\",\"type\":\"Grid\"},{\"attributes\":{},\"id\":\"4360\",\"type\":\"BasicTicker\"},{\"attributes\":{\"source\":{\"id\":\"4476\"}},\"id\":\"4481\",\"type\":\"CDSView\"},{\"attributes\":{},\"id\":\"4363\",\"type\":\"Toolbar\"},{\"attributes\":{},\"id\":\"4559\",\"type\":\"Toolbar\"},{\"attributes\":{\"data\":{\"left\":{\"__ndarray__\":\"AAAAAACIs0AAAAAAoFstQQAAAAAYSD1BAAAAADDxRUEAAAAAVD5NQQAAAAC8RVJBAAAAAE7sVUEAAAAA4JJZQQAAAAByOV1BAAAAAAJwYEE=\",\"dtype\":\"float64\",\"order\":\"little\",\"shape\":[10]},\"right\":{\"__ndarray__\":\"AAAAAKBbLUEAAAAAGEg9QQAAAAAw8UVBAAAAAFQ+TUEAAAAAvEVSQQAAAABO7FVBAAAAAOCSWUEAAAAAcjldQQAAAAACcGBBAAAAAEtDYkE=\",\"dtype\":\"float64\",\"order\":\"little\",\"shape\":[10]},\"top\":[78,725,411,65,81,25,12,4,2,1]},\"selected\":{\"id\":\"4933\"},\"selection_policy\":{\"id\":\"4932\"}},\"id\":\"4336\",\"type\":\"ColumnDataSource\"},{\"attributes\":{},\"id\":\"4891\",\"type\":\"AllLabels\"},{\"attributes\":{},\"id\":\"4951\",\"type\":\"Selection\"},{\"attributes\":{\"coordinates\":null,\"group\":null,\"text\":\"Histogram Plot realme\"},\"id\":\"4513\",\"type\":\"Title\"},{\"attributes\":{\"bottom\":{\"value\":0},\"fill_alpha\":{\"value\":0.5},\"fill_color\":{\"value\":\"navy\"},\"hatch_alpha\":{\"value\":0.5},\"left\":{\"field\":\"left\"},\"line_alpha\":{\"value\":0.5},\"line_color\":{\"value\":\"white\"},\"right\":{\"field\":\"right\"},\"top\":{\"field\":\"top\"}},\"id\":\"4589\",\"type\":\"Quad\"},{\"attributes\":{\"axis\":{\"id\":\"4355\"},\"coordinates\":null,\"grid_line_color\":\"white\",\"group\":null,\"ticker\":null},\"id\":\"4358\",\"type\":\"Grid\"},{\"attributes\":{\"coordinates\":null,\"data_source\":{\"id\":\"4476\"},\"glyph\":{\"id\":\"4477\"},\"group\":null,\"hover_glyph\":null,\"muted_glyph\":{\"id\":\"4479\"},\"nonselection_glyph\":{\"id\":\"4478\"},\"view\":{\"id\":\"4481\"}},\"id\":\"4480\",\"type\":\"GlyphRenderer\"},{\"attributes\":{},\"id\":\"4950\",\"type\":\"UnionRenderers\"},{\"attributes\":{\"axis_label\":\"count\",\"coordinates\":null,\"formatter\":{\"id\":\"4918\"},\"group\":null,\"major_label_policy\":{\"id\":\"4919\"},\"ticker\":{\"id\":\"4528\"}},\"id\":\"4527\",\"type\":\"LinearAxis\"},{\"attributes\":{\"bottom\":{\"value\":0},\"fill_alpha\":{\"value\":0.2},\"fill_color\":{\"value\":\"navy\"},\"hatch_alpha\":{\"value\":0.2},\"left\":{\"field\":\"left\"},\"line_alpha\":{\"value\":0.2},\"line_color\":{\"value\":\"white\"},\"right\":{\"field\":\"right\"},\"top\":{\"field\":\"top\"}},\"id\":\"4479\",\"type\":\"Quad\"},{\"attributes\":{\"axis\":{\"id\":\"4359\"},\"coordinates\":null,\"dimension\":1,\"grid_line_color\":\"white\",\"group\":null,\"ticker\":null},\"id\":\"4362\",\"type\":\"Grid\"},{\"attributes\":{\"bottom\":{\"value\":0},\"fill_alpha\":{\"value\":0.2},\"fill_color\":{\"value\":\"navy\"},\"hatch_alpha\":{\"value\":0.2},\"left\":{\"field\":\"left\"},\"line_alpha\":{\"value\":0.2},\"line_color\":{\"value\":\"white\"},\"right\":{\"field\":\"right\"},\"top\":{\"field\":\"top\"}},\"id\":\"4339\",\"type\":\"Quad\"},{\"attributes\":{\"data\":{\"left\":{\"__ndarray__\":\"AAAAAMi6M0EAAAAAtF85QQAAAACgBD9BAAAAAMZUQkEAAAAAPCdFQQAAAACy+UdBAAAAACjMSkEAAAAAnp5NQQAAAACKOFBBAAAAAMWhUUE=\",\"dtype\":\"float64\",\"order\":\"little\",\"shape\":[10]},\"right\":{\"__ndarray__\":\"AAAAALRfOUEAAAAAoAQ/QQAAAADGVEJBAAAAADwnRUEAAAAAsvlHQQAAAAAozEpBAAAAAJ6eTUEAAAAAijhQQQAAAADFoVFBAAAAAAALU0E=\",\"dtype\":\"float64\",\"order\":\"little\",\"shape\":[10]},\"top\":[29,38,24,5,3,7,2,6,0,1]},\"selected\":{\"id\":\"4947\"},\"selection_policy\":{\"id\":\"4946\"}},\"id\":\"4532\",\"type\":\"ColumnDataSource\"},{\"attributes\":{},\"id\":\"4556\",\"type\":\"BasicTicker\"},{\"attributes\":{},\"id\":\"4571\",\"type\":\"DataRange1d\"},{\"attributes\":{},\"id\":\"4332\",\"type\":\"BasicTicker\"},{\"attributes\":{\"bottom\":{\"value\":0},\"fill_alpha\":{\"value\":0.5},\"fill_color\":{\"value\":\"navy\"},\"hatch_alpha\":{\"value\":0.5},\"left\":{\"field\":\"left\"},\"line_alpha\":{\"value\":0.5},\"line_color\":{\"value\":\"white\"},\"right\":{\"field\":\"right\"},\"top\":{\"field\":\"top\"}},\"id\":\"4421\",\"type\":\"Quad\"},{\"attributes\":{\"start\":0},\"id\":\"4517\",\"type\":\"DataRange1d\"},{\"attributes\":{\"source\":{\"id\":\"4364\"}},\"id\":\"4369\",\"type\":\"CDSView\"},{\"attributes\":{},\"id\":\"4923\",\"type\":\"BasicTickFormatter\"},{\"attributes\":{\"bottom\":{\"value\":0},\"fill_alpha\":{\"value\":0.1},\"fill_color\":{\"value\":\"navy\"},\"hatch_alpha\":{\"value\":0.1},\"left\":{\"field\":\"left\"},\"line_alpha\":{\"value\":0.1},\"line_color\":{\"value\":\"white\"},\"right\":{\"field\":\"right\"},\"top\":{\"field\":\"top\"}},\"id\":\"4478\",\"type\":\"Quad\"},{\"attributes\":{},\"id\":\"4924\",\"type\":\"AllLabels\"},{\"attributes\":{},\"id\":\"4933\",\"type\":\"Selection\"},{\"attributes\":{},\"id\":\"4515\",\"type\":\"DataRange1d\"},{\"attributes\":{},\"id\":\"4932\",\"type\":\"UnionRenderers\"},{\"attributes\":{\"bottom\":{\"value\":0},\"fill_alpha\":{\"value\":0.5},\"fill_color\":{\"value\":\"navy\"},\"hatch_alpha\":{\"value\":0.5},\"left\":{\"field\":\"left\"},\"line_alpha\":{\"value\":0.5},\"line_color\":{\"value\":\"white\"},\"right\":{\"field\":\"right\"},\"top\":{\"field\":\"top\"}},\"id\":\"4477\",\"type\":\"Quad\"},{\"attributes\":{},\"id\":\"4524\",\"type\":\"BasicTicker\"},{\"attributes\":{\"bottom\":{\"value\":0},\"fill_alpha\":{\"value\":0.2},\"fill_color\":{\"value\":\"navy\"},\"hatch_alpha\":{\"value\":0.2},\"left\":{\"field\":\"left\"},\"line_alpha\":{\"value\":0.2},\"line_color\":{\"value\":\"white\"},\"right\":{\"field\":\"right\"},\"top\":{\"field\":\"top\"}},\"id\":\"4367\",\"type\":\"Quad\"},{\"attributes\":{},\"id\":\"4926\",\"type\":\"AllLabels\"},{\"attributes\":{\"coordinates\":null,\"data_source\":{\"id\":\"4364\"},\"glyph\":{\"id\":\"4365\"},\"group\":null,\"hover_glyph\":null,\"muted_glyph\":{\"id\":\"4367\"},\"nonselection_glyph\":{\"id\":\"4366\"},\"view\":{\"id\":\"4369\"}},\"id\":\"4368\",\"type\":\"GlyphRenderer\"},{\"attributes\":{},\"id\":\"4519\",\"type\":\"LinearScale\"},{\"attributes\":{},\"id\":\"4510\",\"type\":\"NumeralTickFormatter\"},{\"attributes\":{\"data\":{\"left\":{\"__ndarray__\":\"AAAAAACIw0AAAAAAEBQoQQAAAAAA7TdBAAAAAPznQUEAAAAAeNlHQQAAAAD0yk1BAAAAADjeUUEAAAAA9tZUQQAAAAC0z1dBAAAAAHLIWkE=\",\"dtype\":\"float64\",\"order\":\"little\",\"shape\":[10]},\"right\":{\"__ndarray__\":\"AAAAABAUKEEAAAAAAO03QQAAAAD850FBAAAAAHjZR0EAAAAA9MpNQQAAAAA43lFBAAAAAPbWVEEAAAAAtM9XQQAAAAByyFpBAAAAADDBXUE=\",\"dtype\":\"float64\",\"order\":\"little\",\"shape\":[10]},\"top\":[3,15,148,93,70,80,31,0,0,1]},\"selected\":{\"id\":\"4939\"},\"selection_policy\":{\"id\":\"4938\"}},\"id\":\"4420\",\"type\":\"ColumnDataSource\"},{\"attributes\":{\"coordinates\":null,\"group\":null,\"text\":\"Histogram Plot asus\"},\"id\":\"4485\",\"type\":\"Title\"},{\"attributes\":{},\"id\":\"4521\",\"type\":\"LinearScale\"},{\"attributes\":{},\"id\":\"4370\",\"type\":\"NumeralTickFormatter\"},{\"attributes\":{},\"id\":\"4528\",\"type\":\"BasicTicker\"},{\"attributes\":{\"axis_label\":\"count\",\"coordinates\":null,\"formatter\":{\"id\":\"4913\"},\"group\":null,\"major_label_policy\":{\"id\":\"4914\"},\"ticker\":{\"id\":\"4500\"}},\"id\":\"4499\",\"type\":\"LinearAxis\"},{\"attributes\":{\"axis_label\":\"x\",\"coordinates\":null,\"formatter\":{\"id\":\"4538\"},\"group\":null,\"major_label_policy\":{\"id\":\"4921\"},\"ticker\":{\"id\":\"4524\"}},\"id\":\"4523\",\"type\":\"LinearAxis\"},{\"attributes\":{},\"id\":\"4347\",\"type\":\"DataRange1d\"},{\"attributes\":{\"start\":0},\"id\":\"4349\",\"type\":\"DataRange1d\"},{\"attributes\":{\"axis\":{\"id\":\"4523\"},\"coordinates\":null,\"grid_line_color\":\"white\",\"group\":null,\"ticker\":null},\"id\":\"4526\",\"type\":\"Grid\"},{\"attributes\":{},\"id\":\"4531\",\"type\":\"Toolbar\"},{\"attributes\":{},\"id\":\"4949\",\"type\":\"Selection\"},{\"attributes\":{\"start\":0},\"id\":\"4489\",\"type\":\"DataRange1d\"},{\"attributes\":{},\"id\":\"4948\",\"type\":\"UnionRenderers\"},{\"attributes\":{\"coordinates\":null,\"group\":null,\"text\":\"Histogram Plot samsung\"},\"id\":\"4345\",\"type\":\"Title\"},{\"attributes\":{\"source\":{\"id\":\"4336\"}},\"id\":\"4341\",\"type\":\"CDSView\"},{\"attributes\":{\"axis\":{\"id\":\"4527\"},\"coordinates\":null,\"dimension\":1,\"grid_line_color\":\"white\",\"group\":null,\"ticker\":null},\"id\":\"4530\",\"type\":\"Grid\"},{\"attributes\":{},\"id\":\"4496\",\"type\":\"BasicTicker\"},{\"attributes\":{\"coordinates\":null,\"data_source\":{\"id\":\"4336\"},\"glyph\":{\"id\":\"4337\"},\"group\":null,\"hover_glyph\":null,\"muted_glyph\":{\"id\":\"4339\"},\"nonselection_glyph\":{\"id\":\"4338\"},\"view\":{\"id\":\"4341\"}},\"id\":\"4340\",\"type\":\"GlyphRenderer\"},{\"attributes\":{\"axis_label\":\"x\",\"coordinates\":null,\"formatter\":{\"id\":\"4398\"},\"group\":null,\"major_label_policy\":{\"id\":\"4896\"},\"ticker\":{\"id\":\"4384\"}},\"id\":\"4383\",\"type\":\"LinearAxis\"},{\"attributes\":{},\"id\":\"4491\",\"type\":\"LinearScale\"},{\"attributes\":{\"bottom\":{\"value\":0},\"fill_alpha\":{\"value\":0.1},\"fill_color\":{\"value\":\"navy\"},\"hatch_alpha\":{\"value\":0.1},\"left\":{\"field\":\"left\"},\"line_alpha\":{\"value\":0.1},\"line_color\":{\"value\":\"white\"},\"right\":{\"field\":\"right\"},\"top\":{\"field\":\"top\"}},\"id\":\"4366\",\"type\":\"Quad\"},{\"attributes\":{\"source\":{\"id\":\"4532\"}},\"id\":\"4537\",\"type\":\"CDSView\"},{\"attributes\":{},\"id\":\"4391\",\"type\":\"Toolbar\"},{\"attributes\":{},\"id\":\"4493\",\"type\":\"LinearScale\"},{\"attributes\":{},\"id\":\"4403\",\"type\":\"DataRange1d\"},{\"attributes\":{},\"id\":\"4500\",\"type\":\"BasicTicker\"},{\"attributes\":{},\"id\":\"4379\",\"type\":\"LinearScale\"},{\"attributes\":{\"axis_label\":\"x\",\"coordinates\":null,\"formatter\":{\"id\":\"4510\"},\"group\":null,\"major_label_policy\":{\"id\":\"4916\"},\"ticker\":{\"id\":\"4496\"}},\"id\":\"4495\",\"type\":\"LinearAxis\"},{\"attributes\":{\"axis_label\":\"count\",\"coordinates\":null,\"formatter\":{\"id\":\"4923\"},\"group\":null,\"major_label_policy\":{\"id\":\"4924\"},\"ticker\":{\"id\":\"4556\"}},\"id\":\"4555\",\"type\":\"LinearAxis\"},{\"attributes\":{\"bottom\":{\"value\":0},\"fill_alpha\":{\"value\":0.5},\"fill_color\":{\"value\":\"navy\"},\"hatch_alpha\":{\"value\":0.5},\"left\":{\"field\":\"left\"},\"line_alpha\":{\"value\":0.5},\"line_color\":{\"value\":\"white\"},\"right\":{\"field\":\"right\"},\"top\":{\"field\":\"top\"}},\"id\":\"4561\",\"type\":\"Quad\"},{\"attributes\":{\"below\":[{\"id\":\"4327\"}],\"center\":[{\"id\":\"4330\"},{\"id\":\"4334\"}],\"height\":500,\"left\":[{\"id\":\"4331\"}],\"renderers\":[{\"id\":\"4340\"}],\"title\":{\"id\":\"4317\"},\"toolbar\":{\"id\":\"4335\"},\"toolbar_location\":null,\"width\":800,\"x_range\":{\"id\":\"4319\"},\"x_scale\":{\"id\":\"4323\"},\"y_range\":{\"id\":\"4321\"},\"y_scale\":{\"id\":\"4325\"}},\"id\":\"4316\",\"subtype\":\"Figure\",\"type\":\"Plot\"},{\"attributes\":{\"coordinates\":null,\"data_source\":{\"id\":\"4532\"},\"glyph\":{\"id\":\"4533\"},\"group\":null,\"hover_glyph\":null,\"muted_glyph\":{\"id\":\"4535\"},\"nonselection_glyph\":{\"id\":\"4534\"},\"view\":{\"id\":\"4537\"}},\"id\":\"4536\",\"type\":\"GlyphRenderer\"},{\"attributes\":{},\"id\":\"4381\",\"type\":\"LinearScale\"},{\"attributes\":{\"axis\":{\"id\":\"4495\"},\"coordinates\":null,\"grid_line_color\":\"white\",\"group\":null,\"ticker\":null},\"id\":\"4498\",\"type\":\"Grid\"},{\"attributes\":{\"bottom\":{\"value\":0},\"fill_alpha\":{\"value\":0.1},\"fill_color\":{\"value\":\"navy\"},\"hatch_alpha\":{\"value\":0.1},\"left\":{\"field\":\"left\"},\"line_alpha\":{\"value\":0.1},\"line_color\":{\"value\":\"white\"},\"right\":{\"field\":\"right\"},\"top\":{\"field\":\"top\"}},\"id\":\"4534\",\"type\":\"Quad\"},{\"attributes\":{},\"id\":\"4503\",\"type\":\"Toolbar\"},{\"attributes\":{\"data\":{\"left\":{\"__ndarray__\":\"AAAAAACI00AAAAAAmAk9QQAAAACI4kxBAAAAACKgVUEAAAAAAM9cQQAAAADv/mFBAAAAAF6WZUEAAAAAzS1pQQAAAAA8xWxBAAAAgFUucEE=\",\"dtype\":\"float64\",\"order\":\"little\",\"shape\":[10]},\"right\":{\"__ndarray__\":\"AAAAAJgJPUEAAAAAiOJMQQAAAAAioFVBAAAAAADPXEEAAAAA7/5hQQAAAABelmVBAAAAAM0taUEAAAAAPMVsQQAAAIBVLnBBAAAAAA36cUE=\",\"dtype\":\"float64\",\"order\":\"little\",\"shape\":[10]},\"top\":[52,211,105,33,35,40,37,30,8,8]},\"selected\":{\"id\":\"4937\"},\"selection_policy\":{\"id\":\"4936\"}},\"id\":\"4392\",\"type\":\"ColumnDataSource\"},{\"attributes\":{},\"id\":\"4323\",\"type\":\"LinearScale\"},{\"attributes\":{\"data\":{\"left\":{\"__ndarray__\":\"AAAAAAAUvkAAAAAATMsvQQAAAAA4rT9BAAAAAGW6R0EAAAAALp5PQQAAAID7wFNBAAAAAOCyV0EAAACAxKRbQQAAAACpll9BAAAAwEbEYUE=\",\"dtype\":\"float64\",\"order\":\"little\",\"shape\":[10]},\"right\":{\"__ndarray__\":\"AAAAAEzLL0EAAAAAOK0/QQAAAABlukdBAAAAAC6eT0EAAACA+8BTQQAAAADgsldBAAAAgMSkW0EAAAAAqZZfQQAAAMBGxGFBAAAAADm9Y0E=\",\"dtype\":\"float64\",\"order\":\"little\",\"shape\":[10]},\"top\":[2,10,11,11,6,3,1,1,1,1]},\"selected\":{\"id\":\"4951\"},\"selection_policy\":{\"id\":\"4950\"}},\"id\":\"4588\",\"type\":\"ColumnDataSource\"},{\"attributes\":{\"start\":0},\"id\":\"4377\",\"type\":\"DataRange1d\"},{\"attributes\":{},\"id\":\"4538\",\"type\":\"NumeralTickFormatter\"},{\"attributes\":{},\"id\":\"4319\",\"type\":\"DataRange1d\"},{\"attributes\":{\"axis_label\":\"count\",\"coordinates\":null,\"formatter\":{\"id\":\"4883\"},\"group\":null,\"major_label_policy\":{\"id\":\"4884\"},\"ticker\":{\"id\":\"4332\"}},\"id\":\"4331\",\"type\":\"LinearAxis\"},{\"attributes\":{\"start\":0},\"id\":\"4321\",\"type\":\"DataRange1d\"},{\"attributes\":{\"axis\":{\"id\":\"4499\"},\"coordinates\":null,\"dimension\":1,\"grid_line_color\":\"white\",\"group\":null,\"ticker\":null},\"id\":\"4502\",\"type\":\"Grid\"},{\"attributes\":{},\"id\":\"4398\",\"type\":\"NumeralTickFormatter\"},{\"attributes\":{},\"id\":\"4566\",\"type\":\"NumeralTickFormatter\"},{\"attributes\":{},\"id\":\"4328\",\"type\":\"BasicTicker\"},{\"attributes\":{\"data\":{\"left\":{\"__ndarray__\":\"AAAAAABq6EAAAAAAMFArQQAAAADgjDpBAAAAANS4Q0EAAAAAOCtKQQAAAADOTlBBAAAAAACIU0EAAAAAMsFWQQAAAABk+llBAAAAAJYzXUE=\",\"dtype\":\"float64\",\"order\":\"little\",\"shape\":[10]},\"right\":{\"__ndarray__\":\"AAAAADBQK0EAAAAA4Iw6QQAAAADUuENBAAAAADgrSkEAAAAAzk5QQQAAAAAAiFNBAAAAADLBVkEAAAAAZPpZQQAAAACWM11BAAAAAGQ2YEE=\",\"dtype\":\"float64\",\"order\":\"little\",\"shape\":[10]},\"top\":[52,37,11,1,3,2,0,0,0,1]},\"selected\":{\"id\":\"4949\"},\"selection_policy\":{\"id\":\"4948\"}},\"id\":\"4560\",\"type\":\"ColumnDataSource\"},{\"attributes\":{\"below\":[{\"id\":\"4579\"}],\"center\":[{\"id\":\"4582\"},{\"id\":\"4586\"}],\"height\":500,\"left\":[{\"id\":\"4583\"}],\"renderers\":[{\"id\":\"4592\"}],\"title\":{\"id\":\"4569\"},\"toolbar\":{\"id\":\"4587\"},\"toolbar_location\":null,\"width\":800,\"x_range\":{\"id\":\"4571\"},\"x_scale\":{\"id\":\"4575\"},\"y_range\":{\"id\":\"4573\"},\"y_scale\":{\"id\":\"4577\"}},\"id\":\"4568\",\"subtype\":\"Figure\",\"type\":\"Plot\"},{\"attributes\":{\"coordinates\":null,\"group\":null,\"text\":\"Histogram Plot xiaomi\"},\"id\":\"4317\",\"type\":\"Title\"},{\"attributes\":{\"coordinates\":null,\"group\":null,\"text\":\"Histogram Plot apple\"},\"id\":\"4373\",\"type\":\"Title\"},{\"attributes\":{\"source\":{\"id\":\"4448\"}},\"id\":\"4453\",\"type\":\"CDSView\"},{\"attributes\":{\"below\":[{\"id\":\"4551\"}],\"center\":[{\"id\":\"4554\"},{\"id\":\"4558\"}],\"height\":500,\"left\":[{\"id\":\"4555\"}],\"renderers\":[{\"id\":\"4564\"}],\"title\":{\"id\":\"4541\"},\"toolbar\":{\"id\":\"4559\"},\"toolbar_location\":null,\"width\":800,\"x_range\":{\"id\":\"4543\"},\"x_scale\":{\"id\":\"4547\"},\"y_range\":{\"id\":\"4545\"},\"y_scale\":{\"id\":\"4549\"}},\"id\":\"4540\",\"subtype\":\"Figure\",\"type\":\"Plot\"},{\"attributes\":{},\"id\":\"4325\",\"type\":\"LinearScale\"},{\"attributes\":{\"below\":[{\"id\":\"4439\"}],\"center\":[{\"id\":\"4442\"},{\"id\":\"4446\"}],\"height\":500,\"left\":[{\"id\":\"4443\"}],\"renderers\":[{\"id\":\"4452\"}],\"title\":{\"id\":\"4429\"},\"toolbar\":{\"id\":\"4447\"},\"toolbar_location\":null,\"width\":800,\"x_range\":{\"id\":\"4431\"},\"x_scale\":{\"id\":\"4435\"},\"y_range\":{\"id\":\"4433\"},\"y_scale\":{\"id\":\"4437\"}},\"id\":\"4428\",\"subtype\":\"Figure\",\"type\":\"Plot\"},{\"attributes\":{\"bottom\":{\"value\":0},\"fill_alpha\":{\"value\":0.2},\"fill_color\":{\"value\":\"navy\"},\"hatch_alpha\":{\"value\":0.2},\"left\":{\"field\":\"left\"},\"line_alpha\":{\"value\":0.2},\"line_color\":{\"value\":\"white\"},\"right\":{\"field\":\"right\"},\"top\":{\"field\":\"top\"}},\"id\":\"4535\",\"type\":\"Quad\"},{\"attributes\":{\"axis_label\":\"x\",\"coordinates\":null,\"formatter\":{\"id\":\"4342\"},\"group\":null,\"major_label_policy\":{\"id\":\"4886\"},\"ticker\":{\"id\":\"4328\"}},\"id\":\"4327\",\"type\":\"LinearAxis\"},{\"attributes\":{\"start\":0},\"id\":\"4545\",\"type\":\"DataRange1d\"},{\"attributes\":{\"bottom\":{\"value\":0},\"fill_alpha\":{\"value\":0.5},\"fill_color\":{\"value\":\"navy\"},\"hatch_alpha\":{\"value\":0.5},\"left\":{\"field\":\"left\"},\"line_alpha\":{\"value\":0.5},\"line_color\":{\"value\":\"white\"},\"right\":{\"field\":\"right\"},\"top\":{\"field\":\"top\"}},\"id\":\"4365\",\"type\":\"Quad\"},{\"attributes\":{\"source\":{\"id\":\"4420\"}},\"id\":\"4425\",\"type\":\"CDSView\"},{\"attributes\":{},\"id\":\"4935\",\"type\":\"Selection\"},{\"attributes\":{},\"id\":\"4916\",\"type\":\"AllLabels\"},{\"attributes\":{\"axis_label\":\"count\",\"coordinates\":null,\"formatter\":{\"id\":\"4893\"},\"group\":null,\"major_label_policy\":{\"id\":\"4894\"},\"ticker\":{\"id\":\"4388\"}},\"id\":\"4387\",\"type\":\"LinearAxis\"},{\"attributes\":{\"source\":{\"id\":\"4588\"}},\"id\":\"4593\",\"type\":\"CDSView\"},{\"attributes\":{},\"id\":\"4934\",\"type\":\"UnionRenderers\"},{\"attributes\":{},\"id\":\"4941\",\"type\":\"Selection\"},{\"attributes\":{\"coordinates\":null,\"group\":null,\"text\":\"Histogram Plot sony\"},\"id\":\"4541\",\"type\":\"Title\"},{\"attributes\":{},\"id\":\"4388\",\"type\":\"BasicTicker\"},{\"attributes\":{\"bottom\":{\"value\":0},\"fill_alpha\":{\"value\":0.5},\"fill_color\":{\"value\":\"navy\"},\"hatch_alpha\":{\"value\":0.5},\"left\":{\"field\":\"left\"},\"line_alpha\":{\"value\":0.5},\"line_color\":{\"value\":\"white\"},\"right\":{\"field\":\"right\"},\"top\":{\"field\":\"top\"}},\"id\":\"4533\",\"type\":\"Quad\"},{\"attributes\":{\"coordinates\":null,\"data_source\":{\"id\":\"4420\"},\"glyph\":{\"id\":\"4421\"},\"group\":null,\"hover_glyph\":null,\"muted_glyph\":{\"id\":\"4423\"},\"nonselection_glyph\":{\"id\":\"4422\"},\"view\":{\"id\":\"4425\"}},\"id\":\"4424\",\"type\":\"GlyphRenderer\"},{\"attributes\":{},\"id\":\"4384\",\"type\":\"BasicTicker\"},{\"attributes\":{\"bottom\":{\"value\":0},\"fill_alpha\":{\"value\":0.2},\"fill_color\":{\"value\":\"navy\"},\"hatch_alpha\":{\"value\":0.2},\"left\":{\"field\":\"left\"},\"line_alpha\":{\"value\":0.2},\"line_color\":{\"value\":\"white\"},\"right\":{\"field\":\"right\"},\"top\":{\"field\":\"top\"}},\"id\":\"4423\",\"type\":\"Quad\"},{\"attributes\":{\"bottom\":{\"value\":0},\"fill_alpha\":{\"value\":0.1},\"fill_color\":{\"value\":\"navy\"},\"hatch_alpha\":{\"value\":0.1},\"left\":{\"field\":\"left\"},\"line_alpha\":{\"value\":0.1},\"line_color\":{\"value\":\"white\"},\"right\":{\"field\":\"right\"},\"top\":{\"field\":\"top\"}},\"id\":\"4590\",\"type\":\"Quad\"},{\"attributes\":{\"axis\":{\"id\":\"4383\"},\"coordinates\":null,\"grid_line_color\":\"white\",\"group\":null,\"ticker\":null},\"id\":\"4386\",\"type\":\"Grid\"},{\"attributes\":{},\"id\":\"4459\",\"type\":\"DataRange1d\"},{\"attributes\":{\"bottom\":{\"value\":0},\"fill_alpha\":{\"value\":0.2},\"fill_color\":{\"value\":\"navy\"},\"hatch_alpha\":{\"value\":0.2},\"left\":{\"field\":\"left\"},\"line_alpha\":{\"value\":0.2},\"line_color\":{\"value\":\"white\"},\"right\":{\"field\":\"right\"},\"top\":{\"field\":\"top\"}},\"id\":\"4563\",\"type\":\"Quad\"},{\"attributes\":{\"bottom\":{\"value\":0},\"fill_alpha\":{\"value\":0.2},\"fill_color\":{\"value\":\"navy\"},\"hatch_alpha\":{\"value\":0.2},\"left\":{\"field\":\"left\"},\"line_alpha\":{\"value\":0.2},\"line_color\":{\"value\":\"white\"},\"right\":{\"field\":\"right\"},\"top\":{\"field\":\"top\"}},\"id\":\"4591\",\"type\":\"Quad\"},{\"attributes\":{\"below\":[{\"id\":\"4355\"}],\"center\":[{\"id\":\"4358\"},{\"id\":\"4362\"}],\"height\":500,\"left\":[{\"id\":\"4359\"}],\"renderers\":[{\"id\":\"4368\"}],\"title\":{\"id\":\"4345\"},\"toolbar\":{\"id\":\"4363\"},\"toolbar_location\":null,\"width\":800,\"x_range\":{\"id\":\"4347\"},\"x_scale\":{\"id\":\"4351\"},\"y_range\":{\"id\":\"4349\"},\"y_scale\":{\"id\":\"4353\"}},\"id\":\"4344\",\"subtype\":\"Figure\",\"type\":\"Plot\"},{\"attributes\":{},\"id\":\"4335\",\"type\":\"Toolbar\"},{\"attributes\":{\"coordinates\":null,\"data_source\":{\"id\":\"4588\"},\"glyph\":{\"id\":\"4589\"},\"group\":null,\"hover_glyph\":null,\"muted_glyph\":{\"id\":\"4591\"},\"nonselection_glyph\":{\"id\":\"4590\"},\"view\":{\"id\":\"4593\"}},\"id\":\"4592\",\"type\":\"GlyphRenderer\"},{\"attributes\":{},\"id\":\"4552\",\"type\":\"BasicTicker\"},{\"attributes\":{\"bottom\":{\"value\":0},\"fill_alpha\":{\"value\":0.1},\"fill_color\":{\"value\":\"navy\"},\"hatch_alpha\":{\"value\":0.1},\"left\":{\"field\":\"left\"},\"line_alpha\":{\"value\":0.1},\"line_color\":{\"value\":\"white\"},\"right\":{\"field\":\"right\"},\"top\":{\"field\":\"top\"}},\"id\":\"4422\",\"type\":\"Quad\"},{\"attributes\":{\"start\":0},\"id\":\"4461\",\"type\":\"DataRange1d\"},{\"attributes\":{},\"id\":\"4547\",\"type\":\"LinearScale\"},{\"attributes\":{\"bottom\":{\"value\":0},\"fill_alpha\":{\"value\":0.1},\"fill_color\":{\"value\":\"navy\"},\"hatch_alpha\":{\"value\":0.1},\"left\":{\"field\":\"left\"},\"line_alpha\":{\"value\":0.1},\"line_color\":{\"value\":\"white\"},\"right\":{\"field\":\"right\"},\"top\":{\"field\":\"top\"}},\"id\":\"4338\",\"type\":\"Quad\"},{\"attributes\":{\"axis\":{\"id\":\"4387\"},\"coordinates\":null,\"dimension\":1,\"grid_line_color\":\"white\",\"group\":null,\"ticker\":null},\"id\":\"4390\",\"type\":\"Grid\"},{\"attributes\":{\"data\":{\"left\":{\"__ndarray__\":\"AAAAAAAAAAAAAAAAWIQeQQAAAABYhC5BAAAAAELjNkEAAAAAWIQ+QQAAAAC3EkNBAAAAAELjRkEAAAAAzbNKQQAAAABYhE5BAAAAgHEqUUE=\",\"dtype\":\"float64\",\"order\":\"little\",\"shape\":[10]},\"right\":{\"__ndarray__\":\"AAAAAFiEHkEAAAAAWIQuQQAAAABC4zZBAAAAAFiEPkEAAAAAtxJDQQAAAABC40ZBAAAAAM2zSkEAAAAAWIROQQAAAIBxKlFBAAAAALcSU0E=\",\"dtype\":\"float64\",\"order\":\"little\",\"shape\":[10]},\"top\":[151,6,9,19,9,11,2,0,1,1]},\"selected\":{\"id\":\"4943\"},\"selection_policy\":{\"id\":\"4942\"}},\"id\":\"4476\",\"type\":\"ColumnDataSource\"},{\"attributes\":{},\"id\":\"4549\",\"type\":\"LinearScale\"},{\"attributes\":{\"source\":{\"id\":\"4392\"}},\"id\":\"4397\",\"type\":\"CDSView\"},{\"attributes\":{},\"id\":\"4894\",\"type\":\"AllLabels\"},{\"attributes\":{},\"id\":\"4342\",\"type\":\"NumeralTickFormatter\"},{\"attributes\":{\"data\":{\"left\":{\"__ndarray__\":\"AAAAAACI00AAAAAALL07QQAAAAAclktBAAAAANGmVEEAAAAAlIJbQQAAAIArL2FBAAAAAA2dZEEAAACA7gpoQQAAAADQeGtBAAAAgLHmbkE=\",\"dtype\":\"float64\",\"order\":\"little\",\"shape\":[10]},\"right\":{\"__ndarray__\":\"AAAAACy9O0EAAAAAHJZLQQAAAADRplRBAAAAAJSCW0EAAACAKy9hQQAAAAANnWRBAAAAgO4KaEEAAAAA0HhrQQAAAICx5m5BAAAAgEkqcUE=\",\"dtype\":\"float64\",\"order\":\"little\",\"shape\":[10]},\"top\":[411,411,192,33,10,16,14,7,0,1]},\"selected\":{\"id\":\"4935\"},\"selection_policy\":{\"id\":\"4934\"}},\"id\":\"4364\",\"type\":\"ColumnDataSource\"},{\"attributes\":{\"below\":[{\"id\":\"4383\"}],\"center\":[{\"id\":\"4386\"},{\"id\":\"4390\"}],\"height\":500,\"left\":[{\"id\":\"4387\"}],\"renderers\":[{\"id\":\"4396\"}],\"title\":{\"id\":\"4373\"},\"toolbar\":{\"id\":\"4391\"},\"toolbar_location\":null,\"width\":800,\"x_range\":{\"id\":\"4375\"},\"x_scale\":{\"id\":\"4379\"},\"y_range\":{\"id\":\"4377\"},\"y_scale\":{\"id\":\"4381\"}},\"id\":\"4372\",\"subtype\":\"Figure\",\"type\":\"Plot\"},{\"attributes\":{\"axis_label\":\"x\",\"coordinates\":null,\"formatter\":{\"id\":\"4566\"},\"group\":null,\"major_label_policy\":{\"id\":\"4926\"},\"ticker\":{\"id\":\"4552\"}},\"id\":\"4551\",\"type\":\"LinearAxis\"},{\"attributes\":{},\"id\":\"4884\",\"type\":\"AllLabels\"},{\"attributes\":{},\"id\":\"4945\",\"type\":\"Selection\"},{\"attributes\":{},\"id\":\"4883\",\"type\":\"BasicTickFormatter\"},{\"attributes\":{},\"id\":\"4893\",\"type\":\"BasicTickFormatter\"},{\"attributes\":{\"coordinates\":null,\"group\":null,\"text\":\"Histogram Plot vivo\"},\"id\":\"4429\",\"type\":\"Title\"},{\"attributes\":{},\"id\":\"4898\",\"type\":\"BasicTickFormatter\"},{\"attributes\":{\"bottom\":{\"value\":0},\"fill_alpha\":{\"value\":0.5},\"fill_color\":{\"value\":\"navy\"},\"hatch_alpha\":{\"value\":0.5},\"left\":{\"field\":\"left\"},\"line_alpha\":{\"value\":0.5},\"line_color\":{\"value\":\"white\"},\"right\":{\"field\":\"right\"},\"top\":{\"field\":\"top\"}},\"id\":\"4505\",\"type\":\"Quad\"},{\"attributes\":{},\"id\":\"4944\",\"type\":\"UnionRenderers\"},{\"attributes\":{\"coordinates\":null,\"data_source\":{\"id\":\"4448\"},\"glyph\":{\"id\":\"4449\"},\"group\":null,\"hover_glyph\":null,\"muted_glyph\":{\"id\":\"4451\"},\"nonselection_glyph\":{\"id\":\"4450\"},\"view\":{\"id\":\"4453\"}},\"id\":\"4452\",\"type\":\"GlyphRenderer\"},{\"attributes\":{\"axis\":{\"id\":\"4551\"},\"coordinates\":null,\"grid_line_color\":\"white\",\"group\":null,\"ticker\":null},\"id\":\"4554\",\"type\":\"Grid\"},{\"attributes\":{},\"id\":\"4939\",\"type\":\"Selection\"},{\"attributes\":{\"coordinates\":null,\"data_source\":{\"id\":\"4392\"},\"glyph\":{\"id\":\"4393\"},\"group\":null,\"hover_glyph\":null,\"muted_glyph\":{\"id\":\"4395\"},\"nonselection_glyph\":{\"id\":\"4394\"},\"view\":{\"id\":\"4397\"}},\"id\":\"4396\",\"type\":\"GlyphRenderer\"},{\"attributes\":{\"axis_label\":\"count\",\"coordinates\":null,\"formatter\":{\"id\":\"4903\"},\"group\":null,\"major_label_policy\":{\"id\":\"4904\"},\"ticker\":{\"id\":\"4444\"}},\"id\":\"4443\",\"type\":\"LinearAxis\"},{\"attributes\":{\"bottom\":{\"value\":0},\"fill_alpha\":{\"value\":0.2},\"fill_color\":{\"value\":\"navy\"},\"hatch_alpha\":{\"value\":0.2},\"left\":{\"field\":\"left\"},\"line_alpha\":{\"value\":0.2},\"line_color\":{\"value\":\"white\"},\"right\":{\"field\":\"right\"},\"top\":{\"field\":\"top\"}},\"id\":\"4395\",\"type\":\"Quad\"},{\"attributes\":{\"bottom\":{\"value\":0},\"fill_alpha\":{\"value\":0.1},\"fill_color\":{\"value\":\"navy\"},\"hatch_alpha\":{\"value\":0.1},\"left\":{\"field\":\"left\"},\"line_alpha\":{\"value\":0.1},\"line_color\":{\"value\":\"white\"},\"right\":{\"field\":\"right\"},\"top\":{\"field\":\"top\"}},\"id\":\"4562\",\"type\":\"Quad\"},{\"attributes\":{},\"id\":\"4938\",\"type\":\"UnionRenderers\"},{\"attributes\":{\"coordinates\":null,\"data_source\":{\"id\":\"4560\"},\"glyph\":{\"id\":\"4561\"},\"group\":null,\"hover_glyph\":null,\"muted_glyph\":{\"id\":\"4563\"},\"nonselection_glyph\":{\"id\":\"4562\"},\"view\":{\"id\":\"4565\"}},\"id\":\"4564\",\"type\":\"GlyphRenderer\"},{\"attributes\":{},\"id\":\"4886\",\"type\":\"AllLabels\"},{\"attributes\":{\"data\":{\"left\":{\"__ndarray__\":\"AAAAAADt50AAAAAAfPU1QQAAAADIlUVBAAAAAGkYUEEAAAAA7mVVQQAAAABzs1pBAAAAAHwAYEEAAACAPqdiQQAAAAABTmVBAAAAgMP0Z0E=\",\"dtype\":\"float64\",\"order\":\"little\",\"shape\":[10]},\"right\":{\"__ndarray__\":\"AAAAAHz1NUEAAAAAyJVFQQAAAABpGFBBAAAAAO5lVUEAAAAAc7NaQQAAAAB8AGBBAAAAgD6nYkEAAAAAAU5lQQAAAIDD9GdBAAAAAIabakE=\",\"dtype\":\"float64\",\"order\":\"little\",\"shape\":[10]},\"top\":[30,114,30,0,1,0,0,1,1,1]},\"selected\":{\"id\":\"4945\"},\"selection_policy\":{\"id\":\"4944\"}},\"id\":\"4504\",\"type\":\"ColumnDataSource\"},{\"attributes\":{},\"id\":\"4487\",\"type\":\"DataRange1d\"},{\"attributes\":{},\"id\":\"4899\",\"type\":\"AllLabels\"},{\"attributes\":{\"source\":{\"id\":\"4560\"}},\"id\":\"4565\",\"type\":\"CDSView\"},{\"attributes\":{\"below\":[{\"id\":\"4495\"}],\"center\":[{\"id\":\"4498\"},{\"id\":\"4502\"}],\"height\":500,\"left\":[{\"id\":\"4499\"}],\"renderers\":[{\"id\":\"4508\"}],\"title\":{\"id\":\"4485\"},\"toolbar\":{\"id\":\"4503\"},\"toolbar_location\":null,\"width\":800,\"x_range\":{\"id\":\"4487\"},\"x_scale\":{\"id\":\"4491\"},\"y_range\":{\"id\":\"4489\"},\"y_scale\":{\"id\":\"4493\"}},\"id\":\"4484\",\"subtype\":\"Figure\",\"type\":\"Plot\"},{\"attributes\":{\"axis\":{\"id\":\"4331\"},\"coordinates\":null,\"dimension\":1,\"grid_line_color\":\"white\",\"group\":null,\"ticker\":null},\"id\":\"4334\",\"type\":\"Grid\"},{\"attributes\":{\"start\":0},\"id\":\"4433\",\"type\":\"DataRange1d\"},{\"attributes\":{\"bottom\":{\"value\":0},\"fill_alpha\":{\"value\":0.2},\"fill_color\":{\"value\":\"navy\"},\"hatch_alpha\":{\"value\":0.2},\"left\":{\"field\":\"left\"},\"line_alpha\":{\"value\":0.2},\"line_color\":{\"value\":\"white\"},\"right\":{\"field\":\"right\"},\"top\":{\"field\":\"top\"}},\"id\":\"4451\",\"type\":\"Quad\"},{\"attributes\":{},\"id\":\"4896\",\"type\":\"AllLabels\"},{\"attributes\":{\"bottom\":{\"value\":0},\"fill_alpha\":{\"value\":0.1},\"fill_color\":{\"value\":\"navy\"},\"hatch_alpha\":{\"value\":0.1},\"left\":{\"field\":\"left\"},\"line_alpha\":{\"value\":0.1},\"line_color\":{\"value\":\"white\"},\"right\":{\"field\":\"right\"},\"top\":{\"field\":\"top\"}},\"id\":\"4394\",\"type\":\"Quad\"},{\"attributes\":{\"bottom\":{\"value\":0},\"fill_alpha\":{\"value\":0.1},\"fill_color\":{\"value\":\"navy\"},\"hatch_alpha\":{\"value\":0.1},\"left\":{\"field\":\"left\"},\"line_alpha\":{\"value\":0.1},\"line_color\":{\"value\":\"white\"},\"right\":{\"field\":\"right\"},\"top\":{\"field\":\"top\"}},\"id\":\"4450\",\"type\":\"Quad\"},{\"attributes\":{\"coordinates\":null,\"group\":null,\"text\":\"Histogram Plot huawei\"},\"id\":\"4569\",\"type\":\"Title\"},{\"attributes\":{\"bottom\":{\"value\":0},\"fill_alpha\":{\"value\":0.5},\"fill_color\":{\"value\":\"navy\"},\"hatch_alpha\":{\"value\":0.5},\"left\":{\"field\":\"left\"},\"line_alpha\":{\"value\":0.5},\"line_color\":{\"value\":\"white\"},\"right\":{\"field\":\"right\"},\"top\":{\"field\":\"top\"}},\"id\":\"4393\",\"type\":\"Quad\"},{\"attributes\":{},\"id\":\"4903\",\"type\":\"BasicTickFormatter\"},{\"attributes\":{},\"id\":\"4431\",\"type\":\"DataRange1d\"},{\"attributes\":{},\"id\":\"4904\",\"type\":\"AllLabels\"},{\"attributes\":{},\"id\":\"4440\",\"type\":\"BasicTicker\"},{\"attributes\":{\"axis_label\":\"count\",\"coordinates\":null,\"formatter\":{\"id\":\"4928\"},\"group\":null,\"major_label_policy\":{\"id\":\"4929\"},\"ticker\":{\"id\":\"4584\"}},\"id\":\"4583\",\"type\":\"LinearAxis\"},{\"attributes\":{},\"id\":\"4435\",\"type\":\"LinearScale\"},{\"attributes\":{},\"id\":\"4594\",\"type\":\"NumeralTickFormatter\"},{\"attributes\":{},\"id\":\"4426\",\"type\":\"NumeralTickFormatter\"},{\"attributes\":{},\"id\":\"4901\",\"type\":\"AllLabels\"},{\"attributes\":{},\"id\":\"4437\",\"type\":\"LinearScale\"},{\"attributes\":{},\"id\":\"4888\",\"type\":\"BasicTickFormatter\"},{\"attributes\":{\"coordinates\":null,\"group\":null,\"text\":\"Histogram Plot oppo\"},\"id\":\"4401\",\"type\":\"Title\"},{\"attributes\":{},\"id\":\"4444\",\"type\":\"BasicTicker\"},{\"attributes\":{},\"id\":\"4908\",\"type\":\"BasicTickFormatter\"},{\"attributes\":{\"axis_label\":\"x\",\"coordinates\":null,\"formatter\":{\"id\":\"4454\"},\"group\":null,\"major_label_policy\":{\"id\":\"4906\"},\"ticker\":{\"id\":\"4440\"}},\"id\":\"4439\",\"type\":\"LinearAxis\"},{\"attributes\":{},\"id\":\"4909\",\"type\":\"AllLabels\"},{\"attributes\":{\"axis_label\":\"count\",\"coordinates\":null,\"formatter\":{\"id\":\"4898\"},\"group\":null,\"major_label_policy\":{\"id\":\"4899\"},\"ticker\":{\"id\":\"4416\"}},\"id\":\"4415\",\"type\":\"LinearAxis\"},{\"attributes\":{\"start\":0},\"id\":\"4573\",\"type\":\"DataRange1d\"},{\"attributes\":{\"axis\":{\"id\":\"4439\"},\"coordinates\":null,\"grid_line_color\":\"white\",\"group\":null,\"ticker\":null},\"id\":\"4442\",\"type\":\"Grid\"},{\"attributes\":{\"axis\":{\"id\":\"4443\"},\"coordinates\":null,\"dimension\":1,\"grid_line_color\":\"white\",\"group\":null,\"ticker\":null},\"id\":\"4446\",\"type\":\"Grid\"},{\"attributes\":{},\"id\":\"4906\",\"type\":\"AllLabels\"},{\"attributes\":{},\"id\":\"4943\",\"type\":\"Selection\"},{\"attributes\":{\"below\":[{\"id\":\"4467\"}],\"center\":[{\"id\":\"4470\"},{\"id\":\"4474\"}],\"height\":500,\"left\":[{\"id\":\"4471\"}],\"renderers\":[{\"id\":\"4480\"}],\"title\":{\"id\":\"4457\"},\"toolbar\":{\"id\":\"4475\"},\"toolbar_location\":null,\"width\":800,\"x_range\":{\"id\":\"4459\"},\"x_scale\":{\"id\":\"4463\"},\"y_range\":{\"id\":\"4461\"},\"y_scale\":{\"id\":\"4465\"}},\"id\":\"4456\",\"subtype\":\"Figure\",\"type\":\"Plot\"},{\"attributes\":{},\"id\":\"4375\",\"type\":\"DataRange1d\"},{\"attributes\":{},\"id\":\"4918\",\"type\":\"BasicTickFormatter\"},{\"attributes\":{},\"id\":\"4580\",\"type\":\"BasicTicker\"},{\"attributes\":{},\"id\":\"4942\",\"type\":\"UnionRenderers\"},{\"attributes\":{\"start\":0},\"id\":\"4405\",\"type\":\"DataRange1d\"},{\"attributes\":{},\"id\":\"4919\",\"type\":\"AllLabels\"},{\"attributes\":{},\"id\":\"4937\",\"type\":\"Selection\"},{\"attributes\":{},\"id\":\"4575\",\"type\":\"LinearScale\"},{\"attributes\":{\"bottom\":{\"value\":0},\"fill_alpha\":{\"value\":0.5},\"fill_color\":{\"value\":\"navy\"},\"hatch_alpha\":{\"value\":0.5},\"left\":{\"field\":\"left\"},\"line_alpha\":{\"value\":0.5},\"line_color\":{\"value\":\"white\"},\"right\":{\"field\":\"right\"},\"top\":{\"field\":\"top\"}},\"id\":\"4337\",\"type\":\"Quad\"},{\"attributes\":{\"axis\":{\"id\":\"4327\"},\"coordinates\":null,\"grid_line_color\":\"white\",\"group\":null,\"ticker\":null},\"id\":\"4330\",\"type\":\"Grid\"},{\"attributes\":{},\"id\":\"4482\",\"type\":\"NumeralTickFormatter\"},{\"attributes\":{},\"id\":\"4936\",\"type\":\"UnionRenderers\"},{\"attributes\":{},\"id\":\"4577\",\"type\":\"LinearScale\"},{\"attributes\":{},\"id\":\"4911\",\"type\":\"AllLabels\"},{\"attributes\":{\"coordinates\":null,\"group\":null,\"text\":\"Histogram Plot nokia\"},\"id\":\"4457\",\"type\":\"Title\"},{\"attributes\":{},\"id\":\"4412\",\"type\":\"BasicTicker\"},{\"attributes\":{},\"id\":\"4921\",\"type\":\"AllLabels\"},{\"attributes\":{},\"id\":\"4584\",\"type\":\"BasicTicker\"},{\"attributes\":{\"axis\":{\"id\":\"4467\"},\"coordinates\":null,\"grid_line_color\":\"white\",\"group\":null,\"ticker\":null},\"id\":\"4470\",\"type\":\"Grid\"},{\"attributes\":{\"axis_label\":\"x\",\"coordinates\":null,\"formatter\":{\"id\":\"4594\"},\"group\":null,\"major_label_policy\":{\"id\":\"4931\"},\"ticker\":{\"id\":\"4580\"}},\"id\":\"4579\",\"type\":\"LinearAxis\"},{\"attributes\":{},\"id\":\"4407\",\"type\":\"LinearScale\"},{\"attributes\":{\"below\":[{\"id\":\"4523\"}],\"center\":[{\"id\":\"4526\"},{\"id\":\"4530\"}],\"height\":500,\"left\":[{\"id\":\"4527\"}],\"renderers\":[{\"id\":\"4536\"}],\"title\":{\"id\":\"4513\"},\"toolbar\":{\"id\":\"4531\"},\"toolbar_location\":null,\"width\":800,\"x_range\":{\"id\":\"4515\"},\"x_scale\":{\"id\":\"4519\"},\"y_range\":{\"id\":\"4517\"},\"y_scale\":{\"id\":\"4521\"}},\"id\":\"4512\",\"subtype\":\"Figure\",\"type\":\"Plot\"},{\"attributes\":{},\"id\":\"4409\",\"type\":\"LinearScale\"},{\"attributes\":{\"axis\":{\"id\":\"4579\"},\"coordinates\":null,\"grid_line_color\":\"white\",\"group\":null,\"ticker\":null},\"id\":\"4582\",\"type\":\"Grid\"},{\"attributes\":{},\"id\":\"4587\",\"type\":\"Toolbar\"},{\"attributes\":{},\"id\":\"4416\",\"type\":\"BasicTicker\"},{\"attributes\":{\"axis_label\":\"x\",\"coordinates\":null,\"formatter\":{\"id\":\"4426\"},\"group\":null,\"major_label_policy\":{\"id\":\"4901\"},\"ticker\":{\"id\":\"4412\"}},\"id\":\"4411\",\"type\":\"LinearAxis\"},{\"attributes\":{\"axis\":{\"id\":\"4411\"},\"coordinates\":null,\"grid_line_color\":\"white\",\"group\":null,\"ticker\":null},\"id\":\"4414\",\"type\":\"Grid\"},{\"attributes\":{},\"id\":\"4419\",\"type\":\"Toolbar\"},{\"attributes\":{\"axis\":{\"id\":\"4583\"},\"coordinates\":null,\"dimension\":1,\"grid_line_color\":\"white\",\"group\":null,\"ticker\":null},\"id\":\"4586\",\"type\":\"Grid\"},{\"attributes\":{\"data\":{\"left\":{\"__ndarray__\":\"AAAAAABEtkAAAAAAtDUhQQAAAABwHzFBAAAAAAakOUEAAAAAThRBQQAAAACZVkVBAAAAAOSYSUEAAAAAL9tNQQAAAAC9DlFBAAAAgOIvU0E=\",\"dtype\":\"float64\",\"order\":\"little\",\"shape\":[10]},\"right\":{\"__ndarray__\":\"AAAAALQ1IUEAAAAAcB8xQQAAAAAGpDlBAAAAAE4UQUEAAAAAmVZFQQAAAADkmElBAAAAAC/bTUEAAAAAvQ5RQQAAAIDiL1NBAAAAAAhRVUE=\",\"dtype\":\"float64\",\"order\":\"little\",\"shape\":[10]},\"top\":[1,1,13,74,26,23,31,64,5,5]},\"selected\":{\"id\":\"4941\"},\"selection_policy\":{\"id\":\"4940\"}},\"id\":\"4448\",\"type\":\"ColumnDataSource\"},{\"attributes\":{},\"id\":\"4468\",\"type\":\"BasicTicker\"},{\"attributes\":{\"below\":[{\"id\":\"4411\"}],\"center\":[{\"id\":\"4414\"},{\"id\":\"4418\"}],\"height\":500,\"left\":[{\"id\":\"4415\"}],\"renderers\":[{\"id\":\"4424\"}],\"title\":{\"id\":\"4401\"},\"toolbar\":{\"id\":\"4419\"},\"toolbar_location\":null,\"width\":800,\"x_range\":{\"id\":\"4403\"},\"x_scale\":{\"id\":\"4407\"},\"y_range\":{\"id\":\"4405\"},\"y_scale\":{\"id\":\"4409\"}},\"id\":\"4400\",\"subtype\":\"Figure\",\"type\":\"Plot\"},{\"attributes\":{},\"id\":\"4447\",\"type\":\"Toolbar\"},{\"attributes\":{},\"id\":\"4463\",\"type\":\"LinearScale\"},{\"attributes\":{},\"id\":\"4947\",\"type\":\"Selection\"},{\"attributes\":{},\"id\":\"4465\",\"type\":\"LinearScale\"},{\"attributes\":{},\"id\":\"4889\",\"type\":\"AllLabels\"},{\"attributes\":{},\"id\":\"4913\",\"type\":\"BasicTickFormatter\"},{\"attributes\":{},\"id\":\"4946\",\"type\":\"UnionRenderers\"},{\"attributes\":{\"axis\":{\"id\":\"4415\"},\"coordinates\":null,\"dimension\":1,\"grid_line_color\":\"white\",\"group\":null,\"ticker\":null},\"id\":\"4418\",\"type\":\"Grid\"},{\"attributes\":{\"axis_label\":\"count\",\"coordinates\":null,\"formatter\":{\"id\":\"4908\"},\"group\":null,\"major_label_policy\":{\"id\":\"4909\"},\"ticker\":{\"id\":\"4472\"}},\"id\":\"4471\",\"type\":\"LinearAxis\"},{\"attributes\":{\"bottom\":{\"value\":0},\"fill_alpha\":{\"value\":0.5},\"fill_color\":{\"value\":\"navy\"},\"hatch_alpha\":{\"value\":0.5},\"left\":{\"field\":\"left\"},\"line_alpha\":{\"value\":0.5},\"line_color\":{\"value\":\"white\"},\"right\":{\"field\":\"right\"},\"top\":{\"field\":\"top\"}},\"id\":\"4449\",\"type\":\"Quad\"},{\"attributes\":{},\"id\":\"4914\",\"type\":\"AllLabels\"},{\"attributes\":{\"axis_label\":\"x\",\"coordinates\":null,\"formatter\":{\"id\":\"4482\"},\"group\":null,\"major_label_policy\":{\"id\":\"4911\"},\"ticker\":{\"id\":\"4468\"}},\"id\":\"4467\",\"type\":\"LinearAxis\"},{\"attributes\":{},\"id\":\"4940\",\"type\":\"UnionRenderers\"}],\"root_ids\":[\"4596\"]},\"title\":\"Bokeh Application\",\"version\":\"2.4.2\"}};\n  const render_items = [{\"docid\":\"5935516c-2243-4a84-bb45-584a9677696c\",\"root_ids\":[\"4596\"],\"roots\":{\"4596\":\"02d4af0e-8ecd-41dd-9efb-2f6bbe8096bd\"}}];\n  root.Bokeh.embed.embed_items_notebook(docs_json, render_items);\n\n  }\n  if (root.Bokeh !== undefined) {\n    embed_document(root);\n  } else {\n    let attempts = 0;\n    const timer = setInterval(function(root) {\n      if (root.Bokeh !== undefined) {\n        clearInterval(timer);\n        embed_document(root);\n      } else {\n        attempts++;\n        if (attempts > 100) {\n          clearInterval(timer);\n          console.log(\"Bokeh: ERROR: Unable to run BokehJS code because BokehJS library is missing\");\n        }\n      }\n    }, 10, root)\n  }\n})(window);",
      "application/vnd.bokehjs_exec.v0+json": ""
     },
     "metadata": {
      "application/vnd.bokehjs_exec.v0+json": {
       "id": "4596"
      }
     },
     "output_type": "display_data"
    }
   ],
   "source": [
    "# Your code here\n",
    "from bokeh.layouts import column\n",
    "from bokeh.io import output_notebook\n",
    "\n",
    "output_notebook()\n",
    "\n",
    "hp_brand = hp[~hp.brand_hp.isin(['lain-lain'])].brand_hp.value_counts().head(10).index.tolist()\n",
    "\n",
    "multi_plots=[]\n",
    "for brand in hp_brand:\n",
    "    x = hp[hp.brand_hp == brand].price\n",
    "    hist, edges = np.histogram(x, bins=10)\n",
    "    p = histogram_plot(\"Histogram Plot {}\".format(brand), hist, edges)\n",
    "\n",
    "    multi_plots.append(p)\n",
    "\n",
    "show(column(multi_plots))"
   ]
  },
  {
   "cell_type": "markdown",
   "metadata": {},
   "source": [
    "## Fundamentals of Hypothesis Testing\n",
    "\n",
    "Going back to the standard normal distribution - you may be asking by now how any of what you’re learning in the past few chapters are useful. To answer the question, I feel it is only appropriate we solidify these intuition with a few concrete examples. Consider the following scenario:\n",
    "\n",
    "The height of men in Indonesia is normally distributed with a mean of 160cm and a standard deviation of 7cm. What is the probability of a randomly selected man being taller than 175cm?"
   ]
  },
  {
   "cell_type": "code",
   "execution_count": 39,
   "metadata": {},
   "outputs": [
    {
     "name": "stdout",
     "output_type": "stream",
     "text": [
      "0.016062285603828275\n"
     ]
    }
   ],
   "source": [
    "import scipy.stats as st\n",
    "\n",
    "Z = (175-160)/7\n",
    "p = st.norm.cdf(Z)\n",
    "print(1-p)"
   ]
  },
  {
   "cell_type": "markdown",
   "metadata": {},
   "source": [
    "The solution: 175cm is 15cm above the mean, and dividing that by the standard deviation of 7cm, we get 2.143. We refer to this as the **z-score**. The probability of an Indonesian men being taller than 175cm is P(Z > 2.143) = 0.161."
   ]
  },
  {
   "cell_type": "markdown",
   "metadata": {},
   "source": [
    "**Discussion:**\n",
    "\n",
    "Supposed we have a population mean of 180cm and standard deviation of 8cm, what is the probability that a randomly picked person being shorter than 174cm?"
   ]
  },
  {
   "cell_type": "code",
   "execution_count": 41,
   "metadata": {},
   "outputs": [
    {
     "name": "stdout",
     "output_type": "stream",
     "text": [
      "0.7733726476231317\n"
     ]
    }
   ],
   "source": [
    "# Your answer here\n",
    "\n",
    "Z = (174-180)/8\n",
    "p = st.norm.cdf(Z)\n",
    "print(1-p)"
   ]
  },
  {
   "cell_type": "markdown",
   "metadata": {},
   "source": [
    "The Z-scores we used above is useful when relating different measurement distributions to each acting as a common denominator. Essentially, a z-score gives us a “standardized” unit that measure how many standard deviations is a particular statistic away from the mean. This property, as we’ll see, is paramount to many statistical hypothesis tests, performance evaluation (more of that when we get to the Machine Learning courses), and in the construction of confidence or prediction intervals."
   ]
  },
  {
   "cell_type": "markdown",
   "metadata": {},
   "source": [
    "### Standard Error and Confidence Intervals\n",
    "\n",
    "Standard error can be thought as a related concept to standard deviation. It is a measure that estimates how close a calculated mean (sample) is likely to be to the true mean of that population; It is calculated by dividing the standard deviation of the sample data by the square root of the number of observations:"
   ]
  },
  {
   "cell_type": "code",
   "execution_count": 42,
   "metadata": {},
   "outputs": [
    {
     "data": {
      "text/plain": [
       "34487.19271046868"
      ]
     },
     "execution_count": 42,
     "metadata": {},
     "output_type": "execute_result"
    }
   ],
   "source": [
    "import math\n",
    "\n",
    "(hp.price.std())/ math.sqrt(hp.price.size)"
   ]
  },
  {
   "cell_type": "code",
   "execution_count": 43,
   "metadata": {},
   "outputs": [
    {
     "data": {
      "text/plain": [
       "34487.19271046868"
      ]
     },
     "execution_count": 43,
     "metadata": {},
     "output_type": "execute_result"
    }
   ],
   "source": [
    "from scipy import stats\n",
    "\n",
    "stats.sem(hp.price)"
   ]
  },
  {
   "cell_type": "markdown",
   "metadata": {},
   "source": [
    "On a normal distribution (we’ll get to this in a moment), 67% of the time the true population mean will lie within the range of +- 1 SE. In other words, if we can establish a normal distribution, we can theorize about the true value of the population mean with a range. Because of the formula:\n",
    "\n",
    "$SE = \\frac{\\sigma}{\\sqrt{}n}$\n",
    "\n",
    "The larger our sample size n gets, the smaller SE will be: and hence we are less uncertain about our estimation of the true population mean."
   ]
  },
  {
   "cell_type": "markdown",
   "metadata": {},
   "source": [
    "We often begin our estimation with a point estimate, using for example the sample mean $\\bar{x}$ as a point estimate of the population mean $\\mu$. We can then construct confidence intervals around our point estimates so we have an interval that may contain the true value of the parameter. When statisticians say a “95% confidence interval”, what they mean is that if we create 100 confidence intervals of the same size from a given population, we expect to find the true parameter (let’s say the population’s net savings per household) in 95 of them.\n",
    "\n",
    "We construct a confidence interval by taking the point estimate +/- margin of error, where margin of error is computed as:  \n",
    "\n",
    "$E=Z_{a/2} \\times SE$\n",
    "\n",
    "Because confidence intervals are two-sided the level of significance we chose (alpha) has to be divided into halves. When we compute by finding the z-score associated with a value of 2.5% (0.025) on each end, we end up looking at the middle 95% of the area under the curve. We can use `ppf()` from `scipy` package to help us find the z-score associated with a 95% confidence interval):"
   ]
  },
  {
   "cell_type": "code",
   "execution_count": 44,
   "metadata": {},
   "outputs": [
    {
     "data": {
      "text/plain": [
       "1.959963984540054"
      ]
     },
     "execution_count": 44,
     "metadata": {},
     "output_type": "execute_result"
    }
   ],
   "source": [
    "from scipy.stats import norm\n",
    "\n",
    "norm.ppf(.975)"
   ]
  },
  {
   "cell_type": "markdown",
   "metadata": {},
   "source": [
    "Again, let’s put together a scenario to make all of this more concrete. Say we want to know the average annual dividend payout in a particular industry, and had known through an earlier study that this figure resembles a normal distribution with a population standard deviation of 2.4%. We looked at the public books of these 81 companies in said industry and attain a sample mean of 11.8% (that is, the average company from this group of 81 companies pay 11.8% of profit to their shareholders annually). We want to construct a 95% confidence interval for the $\\mu$, the mean dividend payout."
   ]
  },
  {
   "cell_type": "code",
   "execution_count": 49,
   "metadata": {},
   "outputs": [
    {
     "name": "stdout",
     "output_type": "stream",
     "text": [
      "1.959963984540054 0.26666666666666666 0.5226570625440145\n"
     ]
    }
   ],
   "source": [
    "# Your code here\n",
    "Z =  norm.ppf(.975)\n",
    "SE = 2.4 / math.sqrt(81)\n",
    "E = Z*SE\n",
    "print(Z, SE, E)"
   ]
  },
  {
   "cell_type": "markdown",
   "metadata": {},
   "source": [
    "Solution: \n",
    "- Z-score associated with a 95% confidence interval is 1.96  \n",
    "- The standard error of the mean (SE) is $\\frac{2.4}{\\sqrt{81}} = 0.267$   \n",
    "- The margin of error (E) is $1.96 \\times SE = 0.524$  \n",
    "- The confidence interval is 11.8% +- 0.524%  \n",
    "\n",
    "And so we can say that the 95% confidence interval for the mean dividend payout in this industry is (11.28%, 12.32%). We can be 95% confident that this interval will contain the mean dividend payout for this particular industry."
   ]
  },
  {
   "cell_type": "markdown",
   "metadata": {},
   "source": [
    "### p-value\n",
    "\n",
    "In your day to day data science work, you will often be required to explain the model’s reliability and uncertainty, and the formal process of such is specified as something called the **test of significance**. Statistical significance often reference the **p-value**, a measure of the probability of obtaining a result equal to or more extreme than what was actually observed, assuming the null hypothesis is true.\n",
    "\n",
    "Imagine a scenario where you’re assigned to consult on Quicker, a startup that simplify and automate government grants application for newly incorporated startups. Through public announcements and official records, you find that the average duration for a newly incorporated startup to get its first government grant or financial funding is 215 days (with a population standard variance of 24 days, again through official records). Of the 35 entrepreneurs using Quicker platform, the average time is 178 days.\n",
    "\n",
    "**Discussion:**\n",
    "Does this observation (178 days) deviate away from the population enough for it to be statistically significant? Use a 95% confidence interval\n",
    "\n",
    "$H_0: \\mu = \\mu_0$  \n",
    "$H_A: \\mu < \\mu_0$\n",
    "\n",
    "The null hypothesis is that our new mean equals to the original mean, whereas the alternative hypothesis states that the mean of Quicker customers **is lower** than the original mean."
   ]
  },
  {
   "cell_type": "code",
   "execution_count": null,
   "metadata": {},
   "outputs": [],
   "source": [
    "# Your code here\n"
   ]
  },
  {
   "cell_type": "markdown",
   "metadata": {},
   "source": [
    "Solution:\n",
    "\n",
    "Recall what we’ve learned about the z-score, we can compute the p-value as follow:"
   ]
  },
  {
   "cell_type": "code",
   "execution_count": 50,
   "metadata": {},
   "outputs": [
    {
     "data": {
      "text/plain": [
       "'0.0616'"
      ]
     },
     "execution_count": 50,
     "metadata": {},
     "output_type": "execute_result"
    }
   ],
   "source": [
    "Z = (178-215)/24\n",
    "p = st.norm.cdf(Z)\n",
    "\n",
    "'{:,.4f}'.format(p)"
   ]
  },
  {
   "cell_type": "markdown",
   "metadata": {},
   "source": [
    "While we can reject the null hypothesis at the 95% confidence level if our p-value is <= alpha (0.05), this is not the case here as our p-value is actually 0.0616. In this scenario, we fail to reject the null hypothesis and fail to proof that the Quicker platform did in fact led to a statistically significant reduction in government funding time."
   ]
  },
  {
   "cell_type": "markdown",
   "metadata": {},
   "source": [
    "### T-Test\n",
    "\n",
    "Generally, z-tests are used when we have a large enough sample size (rule of thumb is n >= 30) and when the population standard deviation is known. If the above conditions aren’t met, we can instead use a statistical measurement known as the Student’s t-test. Say grant automation platform has 10 users so far and that the population standard deviation (sigma) is not known."
   ]
  },
  {
   "cell_type": "code",
   "execution_count": 51,
   "metadata": {},
   "outputs": [],
   "source": [
    "times = [184, 181, 230, 169, 158, 204, 220, 197, 219, 223]"
   ]
  },
  {
   "cell_type": "markdown",
   "metadata": {},
   "source": [
    "\n",
    "To perform a t-test we can use groups of t-test functions from `scipy.stats`. Here we’re interested in finding out whether we can reject the null hypothesis (that says there is no difference in government funding time for Quicker startups and other startups) in favor of the alternative hypothesis (that Quicker startup spend less time on average to acquire their first grant):"
   ]
  },
  {
   "cell_type": "code",
   "execution_count": 52,
   "metadata": {},
   "outputs": [
    {
     "data": {
      "text/plain": [
       "Ttest_1sampResult(statistic=-2.104098191307367, pvalue=0.06468659586101468)"
      ]
     },
     "execution_count": 52,
     "metadata": {},
     "output_type": "execute_result"
    }
   ],
   "source": [
    "from scipy import stats\n",
    "\n",
    "stats.ttest_1samp(times, 215)"
   ]
  },
  {
   "cell_type": "markdown",
   "metadata": {},
   "source": [
    "Since we use `ttest_1samp()`, it calculates the p-value to proof that the expected value (mean) of a sample of independent observations a is equal to the given population mean. The p-value is not smaller than 0.05 means we fail to reject the null hypothesis that the 2 population is equal.\n",
    "\n",
    "There are multiple variation of the t-test function in scipy, namely a common one:  \n",
    "- `ttest_ind()`: Used two samples for the null hypothesis that 2 independent samples have identical average (expected) values  \n",
    "- `ttest_ind_from_stats()`: Used two samples mean, standard deviation, and number of observation for the null hypothesis that two independent samples have identical average (expected) values.  \n",
    "- `ttest_rel()`: Used 2 repeated samples that the samples have identical average (expected) values  \n"
   ]
  },
  {
   "cell_type": "markdown",
   "metadata": {},
   "source": [
    "**Dive Deeper:**\n",
    "\n",
    "Recall our `hp` dataset, can you proof that Samsung phones that are sold in Batam are indeed significantly cheaper than the one sold in other cities?"
   ]
  },
  {
   "cell_type": "code",
   "execution_count": 70,
   "metadata": {},
   "outputs": [
    {
     "data": {
      "text/plain": [
       "product_title      object\n",
       "location           object\n",
       "account_seller     object\n",
       "price             float64\n",
       "review              int64\n",
       "installment       float64\n",
       "rating            float64\n",
       "brand_hp           object\n",
       "dtype: object"
      ]
     },
     "execution_count": 70,
     "metadata": {},
     "output_type": "execute_result"
    }
   ],
   "source": [
    "# Your code here\n",
    "hp.dtypes\n",
    "# hp.location.value_counts().sort_index().head(15)"
   ]
  },
  {
   "cell_type": "code",
   "execution_count": 71,
   "metadata": {},
   "outputs": [
    {
     "data": {
      "text/plain": [
       "Ttest_indResult(statistic=11.454526229630828, pvalue=5.34291363316303e-30)"
      ]
     },
     "execution_count": 71,
     "metadata": {},
     "output_type": "execute_result"
    }
   ],
   "source": [
    "batam_price = hp[hp.location == 'Batam'].price\n",
    "# print(batam_price_mean)\n",
    "not_batam_price = hp[hp.location!= 'Batam'].price\n",
    "# len(not_batam_price)\n",
    "stats.ttest_ind_from_stats(batam_price.mean(), batam_price.std(), len(batam_price), not_batam_price.mean(), not_batam_price.std(), len(not_batam_price))"
   ]
  },
  {
   "cell_type": "markdown",
   "metadata": {},
   "source": [
    "### Power Analysis\n",
    "\n",
    "In designing a hypothesis testing, or popularly known as A/B testing, one of its critical part is: determining the size of your sample. While significance test is widely used in the industry, namely a few:  \n",
    "- Testing new features that creates more engagement  \n",
    "- Selecting effective marketing strategy to generate more conversion  \n",
    "- Finding promotion best practice to increase revenue  \n",
    "\n",
    "The cost of evaluating these experiments is expensive for both time and resource. The role of data scientist, is to make sure the proposed design of an A/B testing has considered this resource constraint and also generate a conclusive result.\n",
    "\n",
    "In some cases, drawing conclusion can lead to a fatal error due to wrong choice of sampling decision. Now let me introduce you to **2 types of error**:  \n",
    "- Type 1 error  \n",
    "- Type 2 error  \n",
    "\n",
    "In hypothesis test context, type 1 error occur when we reject a true null hypothesis while type 2 error occur when we fail to reject a false null hypothesis (a similar concept later on machine learning course!). Now what do we do with this information? Well a **higher statistical power** will result in a lower probability of failing to reject a false null hypothesis. In practice, a lower power will lead to wrong conclusion as stated in the following formula:  \n",
    "\n",
    "$Power = P(reject H_0 | H_A True)$  \n",
    "$Power = 1 - P(Error_2)$"
   ]
  },
  {
   "cell_type": "markdown",
   "metadata": {},
   "source": [
    "Other related concept is **effect size**, that measure how strong a relationship between two variables. A somehow similar concept that we have learned is correlation. It is in fact not that much of a difference. In statistics analysis, the effect size is usually measured in three ways: (1) standardized mean difference, (2) odd ratio, (3) correlation coefficient.\n",
    "\n",
    "Since we have learned about correlation coefficient, we can try to understand the idea of how does an effect size should be estimated."
   ]
  },
  {
   "cell_type": "markdown",
   "metadata": {},
   "source": [
    "Consider this:\n",
    "\n",
    "You are designing an experiment for Tokopedia new homepage, you'd like to see if a certain promotional banner is placed in the second slot would lead to an ineffective campaign. In this case, say we accept the probability of type 2 error to be 15% and a significance level of 5%. The expected effect size is set to be 60%, means that you expect that the difference of redeemed promotion when put in the second slot would lead to 60% effect size. Try the below code and see what is the required sample size:"
   ]
  },
  {
   "cell_type": "code",
   "execution_count": 75,
   "metadata": {},
   "outputs": [
    {
     "data": {
      "text/plain": [
       "25"
      ]
     },
     "execution_count": 75,
     "metadata": {},
     "output_type": "execute_result"
    }
   ],
   "source": [
    "from statsmodels.stats.power import TTestIndPower\n",
    "\n",
    "effect_size = 0.8\n",
    "alpha = 0.05\n",
    "power = 0.8\n",
    "\n",
    "power_analysis = TTestIndPower()\n",
    "sample_size = power_analysis.solve_power(effect_size = effect_size, \n",
    "                                         power = power, \n",
    "                                         alpha = alpha)\n",
    "\n",
    "int(sample_size)"
   ]
  },
  {
   "cell_type": "markdown",
   "metadata": {},
   "source": [
    "Most times, you would generate a visualization to analyze the trade-off in selecting the parameters. Let's take a look at the following plot: "
   ]
  },
  {
   "cell_type": "code",
   "execution_count": 76,
   "metadata": {},
   "outputs": [],
   "source": [
    "nobs = [10, 25, 50, 100, 1000]\n",
    "alpha = 0.05\n",
    "effect_size = np.linspace(0.01, 1, 1000)"
   ]
  },
  {
   "cell_type": "code",
   "execution_count": 77,
   "metadata": {
    "scrolled": true
   },
   "outputs": [
    {
     "name": "stderr",
     "output_type": "stream",
     "text": [
      "BokehDeprecationWarning: 'legend' keyword is deprecated, use explicit 'legend_label', 'legend_field', or 'legend_group' keywords instead\n",
      "BokehDeprecationWarning: 'legend' keyword is deprecated, use explicit 'legend_label', 'legend_field', or 'legend_group' keywords instead\n",
      "BokehDeprecationWarning: 'legend' keyword is deprecated, use explicit 'legend_label', 'legend_field', or 'legend_group' keywords instead\n",
      "BokehDeprecationWarning: 'legend' keyword is deprecated, use explicit 'legend_label', 'legend_field', or 'legend_group' keywords instead\n",
      "BokehDeprecationWarning: 'legend' keyword is deprecated, use explicit 'legend_label', 'legend_field', or 'legend_group' keywords instead\n"
     ]
    },
    {
     "data": {
      "text/html": [
       "\n",
       "\n",
       "\n",
       "\n",
       "\n",
       "\n",
       "  <div class=\"bk-root\" id=\"92089309-4562-4ef4-8ff1-1962c67f6da5\" data-root-id=\"5352\"></div>\n"
      ]
     },
     "metadata": {},
     "output_type": "display_data"
    },
    {
     "data": {
      "application/javascript": "(function(root) {\n  function embed_document(root) {\n    \n  const docs_json = {\"19695964-61f3-4e35-b547-e177b257df8c\":{\"defs\":[],\"roots\":{\"references\":[{\"attributes\":{\"below\":[{\"id\":\"5363\"}],\"center\":[{\"id\":\"5366\"},{\"id\":\"5370\"},{\"id\":\"5401\"}],\"height\":400,\"left\":[{\"id\":\"5367\"}],\"renderers\":[{\"id\":\"5389\"},{\"id\":\"5407\"},{\"id\":\"5426\"},{\"id\":\"5447\"},{\"id\":\"5470\"}],\"title\":{\"id\":\"5353\"},\"toolbar\":{\"id\":\"5378\"},\"width\":700,\"x_range\":{\"id\":\"5355\"},\"x_scale\":{\"id\":\"5359\"},\"y_range\":{\"id\":\"5357\"},\"y_scale\":{\"id\":\"5361\"}},\"id\":\"5352\",\"subtype\":\"Figure\",\"type\":\"Plot\"},{\"attributes\":{\"coordinates\":null,\"group\":null,\"text\":\"Power Analysis\"},\"id\":\"5353\",\"type\":\"Title\"},{\"attributes\":{\"line_color\":\"#fb9a99\",\"x\":{\"field\":\"x\"},\"y\":{\"field\":\"y\"}},\"id\":\"5467\",\"type\":\"Line\"},{\"attributes\":{\"label\":{\"value\":\"10\"},\"renderers\":[{\"id\":\"5389\"}]},\"id\":\"5402\",\"type\":\"LegendItem\"},{\"attributes\":{\"data\":{\"x\":{\"__ndarray__\":\"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\",\"dtype\":\"float64\",\"order\":\"little\",\"shape\":[1000]},\"y\":[0.050567415926614456,0.050685498422569635,0.05081474974997404,0.050955175132639884,0.05110678023352968,0.05126957115190282,0.05144355442023892,0.05162873700093858,0.05182512628280206,0.052032730077507625,0.05225155661530924,0.052481614540476604,0.052722912908099884,0.05297546117854986,0.05323926921288899,0.05351434726783081,0.053800705990484414,0.054098356412888876,0.05440730994633754,0.054727578375492705,0.05505917385229499,0.05540210888966489,0.05575639635500232,0.05612204946348266,0.056499081771152364,0.05688750716782658,0.057287339869788186,0.057698594412292706,0.05812128564187945,0.058555428708491467,0.05900103905740543,0.05945813242097501,0.05992672481429336,0.06040683251785279,0.060898472066252984,0.06140166025894256,0.061916414133644515,0.06244275096185273,0.06298068823933306,0.06353024367645549,0.06409143518836077,0.06466428088496393,0.06524879906079663,0.06584500818469266,0.0664529268893167,0.06707257396054199,0.06770396832667766,0.06834712904754894,0.06900207530343444,0.06966882638386172,0.07034740167626448,0.07103782065450581,0.07174010286726823,0.07245426792631604,0.0731803354946308,0.07391832527442488,0.07466825699503526,0.07543015041641088,0.0762040252574513,0.07698990126799529,0.07778779816267226,0.07859773566565985,0.07941973332902104,0.08025381076078504,0.08109998745877264,0.08195828283422851,0.08282871619871492,0.08371130675092377,0.08460607356341246,0.08551303556926487,0.08643221154868305,0.0873636201155127,0.08830727970370561,0.0892632085537237,0.0902314246988886,0.09121194595167931,0.09220478988998308,0.09320997384330326,0.09422751487892692,0.09525742978805735,0.0962997350719155,0.09735444692781227,0.09842158123519895,0.0995011535416962,0.10059317909096226,0.10169767264866549,0.10281464871864245,0.10394412138141196,0.10508610431567918,0.10624061078433288,0.10740765362045318,0.10858724539043639,0.10977939770108165,0.11098412216438558,0.11220142975521187,0.11343133094900318,0.11467383570793417,0.11592895346710376,0.11719669312076862,0.11847706300862375,0.11977007090213315,0.12107572399091523,0.12239402886918753,0.12372499152227322,0.125068617313176,0.12642491096922512,0.12779387656879615,0.12917551752811135,0.130569836588123,0.13197683580148395,0.1333965165196113,0.1348288793798437,0.1362739243834234,0.13773165053347525,0.13920205632814495,0.14068513942233057,0.1421808966942453,0.14368932423323566,0.14521041732772386,0.14674417045327715,0.14829057726080963,0.14984963102731166,0.1514213228598053,0.15300564427165853,0.1546025855009654,0.15621213590438737,0.15783428394623206,0.1594690171876916,0.16111632227624278,0.16277618493521245,0.1644485899535123,0.16613352117554683,0.1678309614912973,0.16954089282658572,0.1712632961335215,0.1729981513811359,0.17474543754620445,0.1765051326042652,0.17827721364868201,0.18006165638772592,0.18185843585420214,0.18366752593308316,0.18548889946622316,0.18732252824460163,0.189168383000784,0.19102643340159828,0.1928966480410339,0.19477899443336372,0.19667343900649142,0.1985799470955285,0.20049848293660288,0.20242901065936358,0.20437149041139188,0.20632588398591506,0.20829215116746924,0.2102702506143577,0.21226013985391295,0.214261775278006,0.21627511213880773,0.21830010454480275,0.22033670545705775,0.2223848666857475,0.2244445388869393,0.22651567171317769,0.2285982132155641,0.23069211070795326,0.2327973102032934,0.23491375654831137,0.2370413934218841,0.2391801633336817,0.24133000762308257,0.24349086645835813,0.24566267883613274,0.24784538258111777,0.25003891434611936,0.25224320961232394,0.25445820268985947,0.25668382671863454,0.2589200136694559,0.26116669434542417,0.26342379838360797,0.2656912562182363,0.26796899145849956,0.27025693202016476,0.2725550029007955,0.2748631279447002,0.27718122984630367,0.2795092301537987,0.28184704945773226,0.2841946066779081,0.2865518201141985,0.2889186067722321,0.291294882533893,0.29368056216265426,0.2960755593091875,0.2984797865172536,0.3008931552298666,0.3033155757957344,0.30574695747597497,0.30818720845110475,0.3106362358282998,0.3130939456489277,0.31556024289634943,0.3180350315039898,0.32051821436367406,0.3230096933342287,0.3255093692503477,0.3280171419317184,0.3305329101924083,0.33305657485680834,0.3355880270590995,0.33812716537786436,0.34067388490915324,0.3432280792087013,0.34578964145432123,0.3483584637087911,0.3509344371137792,0.35351745190149614,0.3561073974065816,0.35870416207823,0.3613076334925466,0.3639176983651337,0.366534242563906,0.36915715112212527,0.37178630825166253,0.37442159735647135,0.37706290104628093,0.37971010115049786,0.38236307873231634,0.38502171410303415,0.38768588683656874,0.3903554757841706,0.393030359089333,0.3957104142028885,0.3983955180851895,0.4010855464937783,0.40378037506304054,0.4064798832295642,0.4091839364636855,0.4118924125784251,0.41460518461782997,0.4173221250607842,0.42004310583767046,0.422767998347183,0.425496673473287,0.42822900160232447,0.43096485264025647,0.4337040960300421,0.4364466007691463,0.439192235427177,0.4419408681636397,0.44469236674581103,0.44744659856672636,0.45020343066327234,0.45296272973438556,0.45572436215934636,0.45848819419574716,0.4612540912980701,0.4640219191602765,0.46679154306795645,0.4695628280798505,0.4723356390466412,0.4751098406298052,0.47788530323815936,0.4806618799327013,0.48343944033155056,0.4862178485331339,0.48899696854206526,0.49177666428831085,0.494556799646385,0.4973372384545732,0.5001178445341781,0.5028984817087814,0.5056790138235193,0.5084593047643656,0.5112392184774143,0.5140186189881703,0.5167973704207947,0.5195753370174095,0.5223523831573147,0.5251283733762151,0.5279031723854195,0.5306766450909978,0.5334486566129112,0.5362190723040936,0.5389877577694898,0.5417545788850374,0.5445194083665064,0.5472821001848646,0.5500425276442535,0.5528005569505007,0.5555560560757586,0.5583088929222427,0.5610589357945862,0.5638060534182661,0.5665501149579331,0.5692909900356461,0.5720285487490038,0.5747626616891687,0.5774931999587833,0.5802200351897661,0.5829430395609936,0.5856620858158511,0.5883770472796637,0.5910877978769852,0.5937942121487582,0.5964961652693281,0.5991935330633151,0.6018861920223342,0.6045740193215632,0.607256892836156,0.6099346916579337,0.6126072941557525,0.6152745897383808,0.6179364422618749,0.6205927415079374,0.6232433698922842,0.6258882106411511,0.6285271478063355,0.6311600662800517,0.6337868518095922,0.6364073910117951,0.6390215713873131,0.641629281334677,0.6442304101641578,0.6468248481114223,0.6494124863509712,0.6519932170093717,0.6545669331782672,0.6571335289271713,0.6596928993160367,0.6622449404076041,0.6647895497577682,0.6673266245576189,0.6698560643888424,0.6723777694445056,0.6748916409787623,0.677397581317802,0.6798955051910812,0.6823852954179235,0.6848668680429342,0.6873401297908798,0.6898049885100662,0.6922613531818477,0.694709133929875,0.6971482420290979,0.699578589914516,0.702000091189671,0.7044126606348856,0.7068162142152438,0.709210669088318,0.7115959436116288,0.7139719573498549,0.7163386310817726,0.7186958868069401,0.7210436477521174,0.7233818383774216,0.7257103843822225,0.7280292226283454,0.7303382630879655,0.732637442866231,0.734926693398847,0.7372059466662682,0.7394751359183964,0.7417341956786477,0.7439830617477495,0.7462216712072787,0.7484499624229324,0.7506678750475384,0.7528753500237991,0.7550723295867776,0.75725875726612,0.759434577888012,0.7615997375768832,0.7637541837568448,0.7658978651528711,0.7680307317917229,0.7701527350026124,0.7722638274176121,0.7743639637016979,0.7764530976951988,0.7785311866114825,0.7805982006632425,0.7826540752623088,0.7846987822929385,0.7867322835035472,0.7887545419400239,0.7907655219439217,0.7927651891503983,0.7947535104859265,0.7967304541657612,0.7986959896911701,0.800650087846439,0.8025927206956355,0.8045238615791518,0.8064434851100004,0.8083515671699254,0.810248084905245,0.8121330167225008,0.8140063422838794,0.8158680425024172,0.8177180995369971,0.8195565083824038,0.821383232384144,0.8231982662839143,0.8250015980689398,0.8267932160508594,0.8285731097531609,0.8303412699047772,0.8320976884334781,0.8338423584590884,0.8355752742865046,0.8372964313985433,0.8390058264485901,0.840703457253094,0.8423893227838668,0.8440634231602223,0.8457257596409427,0.8473763346160827,0.8490151515986061,0.8506422152158678,0.852257531200934,0.8538611063837597,0.8554529496369945,0.8570330681254476,0.8586014868976496,0.8601581899912378,0.8617032026560634,0.8632365381161282,0.8647582106269084,0.8662682354654406,0.8677666289202799,0.8692534082813448,0.8707285918296431,0.872192198826883,0.8736442495049779,0.875084765055444,0.8765137676186894,0.8779312802732137,0.879337327024703,0.8807319327950331,0.8821151234111864,0.8834869255940747,0.8848473799565026,0.8861964899762513,0.8875342970523348,0.888860831373452,0.8901761239655549,0.8914802066802489,0.8927731121831325,0.8940548739420769,0.8953255262154507,0.8965851040402967,0.8978336432204497,0.8990711803146151,0.9002977526244118,0.9015133981823557,0.9027181557398289,0.903912064755006,0.9050951653807455,0.9062674984524657,0.9074291054759868,0.908580028615363,0.9097203116861519,0.9108499962009716,0.9119691271571986,0.913077764600006,0.9141759242395313,0.9152636662115501,0.9163410369521836,0.9174080834584232,0.9184648532759366,0.9195113944868779,0.9205477556977036,0.9215739860270213,0.9225901350934316,0.9235962530034176,0.9245923903392449,0.9255785981468794,0.9265549279239488,0.9275214316077371,0.9284781615631912,0.9294251715622326,0.9303625128845414,0.9312902400259487,0.9322084218565382,0.933117084007938,0.9340162950247004,0.9349061099394993,0.9357865841187397,0.9366577732510244,0.9375197333356673,0.9383725206712638,0.9392161918443254,0.9400508037179873,0.9408764134207709,0.9416930783354216,0.9425008560878088,0.9432998045359122,0.944089981758861,0.944871446046073,0.9456442568864146,0.9464084710351277,0.9471641482761981,0.9479113476334077,0.9486501442265591,0.94938056670075,0.9501026893490363,0.9508165717675306,0.9515222736688398,0.952219854872054,0.9529093752928259,0.9535908949335588,0.9542644738736807,0.9549301722600165,0.955588050297257,0.9562381682385328,0.9568805863760875,0.9575153650320405,0.958142564549268,0.9587622463129531,0.95937446869834,0.9599792930142029,0.9605767795976419,0.9611670049550674,0.9617499981861711,0.962325834607594,0.962894574418446,0.9634562777615766,0.9640110047155367,0.9645588152866558,0.965099769401219,0.9656339268977686,0.9661613475195077,0.9666820909068242,0.9671962165899167,0.9677037839815527,0.9682048523699223,0.9686994819185688,0.9691877297081962,0.9696696555475174,0.9701453181576722,0.9706147761012662,0.9710781045739,0.9715353294415237,0.9719865244017066,0.9724317473252398,0.9728710558935786,0.973304507593024,0.973732159708941,0.9741540693201444,0.9745702932933724,0.9749808882778771,0.9753859107001377,0.9757854167586845,0.9761794624190201,0.9765681044124136,0.9769513962917922,0.9773293942278402,0.9777021532059528,0.9780697279548721,0.9784321895014987,0.9787895601395963,0.9791419092356684,0.9794892904545869,0.9798317571840367,0.9801693625306923,0.9805021593164792,0.9808302000749679,0.9811535370478496,0.9814722222683839,0.981786307331175,0.9820958435529276,0.9824008819752966,0.9827014737553439,0.9829976684053461,0.9832895165215052,0.9835770678969491,0.9838603720059886,0.9841394780016341,0.9844144525631909,0.984685309838884,0.9849521146191421,0.9852149147359335,0.9854737577081863,0.9857286907209809,0.9859797606237056,0.9862270139283623,0.9864704968079238,0.9867102550948058,0.9869463342793977,0.9871787795127503,0.9874076355850514,0.9876329469649384,0.9878547577578681,0.9880731117253392,0.9882880681671655,0.9884996395185712,0.988707883310902,0.9889128419101495,0.9891145573306678,0.9893130712346577,0.9895084249316768,0.989700659378291,0.989889815177713,0.9900759325795999,0.9902590514798544,0.990439211420536,0.9906164515898305,0.9907908108220758,0.9909623275978585,0.9911310400442043,0.9912969859347837,0.9914602026902062,0.9916207273783982,0.9917785967149912,0.9919338660649083,0.9920865347907301,0.9922366562949098,0.9923842658951627,0.9925293985602336,0.992672088910635,0.9928123712195147,0.9929502794135089,0.9930858470736745,0.9932191074364705,0.9933500933947939,0.9934788374990414,0.9936053719582417,0.9937297286412093,0.9938519390777778,0.9939720344600356,0.9940900631629587,0.9942060219124036,0.9943199572547424,0.9944318990498617,0.9945418768271165,0.994649919786824,0.9947560568018178,0.9948603164190137,0.994962726861021,0.9950633160277962,0.9951621114983125,0.9952591405322785,0.9953544300718539,0.9954480067434226,0.9955398968594017,0.9956301264200386,0.9957187211152786,0.9958057063266189,0.9958911071290106,0.9959749684455301,0.9960572758524258,0.9961380723498324,0.9962173818119028,0.9962952278163829,0.9963716336466838,0.9964466222939029,0.9965202164588967,0.996592438554405,0.9966633107071078,0.996732854759775,0.996801092273392,0.9968680445292991,0.996933732531342,0.9969981770080653,0.9970614163376699,0.9971234361166366,0.9971842730100142,0.9972439466723079,0.997302476493998,0.9973598816037953,0.9974161808708674,0.9974713929071027,0.997525536069348,0.9975786284616961,0.9976306879377164,0.9976817321027285,0.9977317783160826,0.9977808436934202,0.9978289451089495,0.9978760991977073,0.9979223223578398,0.9979676307528712,0.998012040313957,0.9980555879421148,0.9980982481798734,0.998140056102812,0.9981810267414113,0.9982211749054368,0.9982605151862463,0.9982990619590036,0.9983368293850011,0.9983738314138445,0.9984100817857433,0.9984455940337245,0.9984803814859071,0.998514457267656,0.9985478343038672,0.9985805253211301,0.9986125622705303,0.9986439199922209,0.9986746287958153,0.9987047006422276,0.9987341473053011,0.9987629803740066,0.9987912112545544,0.9988188511725768,0.9988459111752289,0.9988724021333568,0.9988983347435634,0.9989237195303234,0.9989485668480755,0.9989728868832877,0.9989966896565156,0.9990199850244693,0.9990427826820011,0.9990650921641685,0.9990869448826942,0.9991083075004181,0.9991292097078142,0.9991496604267305,0.999169668429414,0.9991892423404848,0.9992083906388709,0.999227121659707,0.9992454435962431,0.9992633645017633,0.9992808922913944,0.999298034744033,0.9993147995041183,0.9993311940835049,0.9993472258632485,0.9993629228316675,0.9993782520600851,0.9993932399577525,0.9994078934059973,0.9994222191644931,0.9994362238729585,0.9994499140528432,0.999463296109045,0.9994763763315837,0.9994891608972363,0.9995016558711864,0.9995138672086515,0.9995258007564843,0.9995374622547649,0.9995488573383594,0.9995600113032651,0.9995708913988586,0.9995815214565871,0.9995919067113004,0.9996020523005332,0.9996119632660222,0.9996216445551649,0.9996311010224227,0.9996403374308108,0.9996493584533004,0.9996581686741786,0.9996667725904643,0.9996751746132911,0.9996833790691858,0.9996913902014769,0.9996992121715459,0.9997068490601746,0.9997143266226913,0.9997216067482804,0.9997287136589769,0.9997356511315245,0.999742422868595,0.9997490325000181,0.9997554835839635,0.9997617796081195,0.9997679239908833,0.9997739200824739,0.9997797711660804,0.9997854804589705,0.9997910511136195,0.9997964862187403,0.9998017888004038,0.9998069830535065,0.9998120308553692,0.9998169549389636,0.9998217580957199,0.9998264430598446,0.9998310125093189,0.9998354690668353,0.9998398153007875,0.9998440537262165,0.9998481868057532,0.9998522169504878,0.9998561465209471,0.9998599778279186,0.9998637131333626,0.999867354651243,0.9998709045484256,0.9998743649454517,0.9998777617843727,0.9998810509601039,0.9998842568298564,0.9998873813432472,0.9998904264078683,0.9998933938901087,0.9998962856158795,0.9998991033713616,0.9999018489037452,0.9999045239219211,0.9999071300972164,0.9999096690640409,0.9999121424206254,0.9999145517296413,0.9999169208263453,0.9999192080826015,0.9999214358679908,0.9999236056152127,0.9999257187249193,0.9999277765663072,0.9999297804777119,0.9999317317671919,0.9999336317131388,0.9999354815648109,0.9999372825429013,0.9999390358400903,1.0,1.0,1.0,1.0,1.0,1.0,1.0,1.0,1.0,1.0,1.0,1.0,1.0,1.0,1.0,1.0,1.0,1.0,1.0,1.0,1.0,1.0,1.0,1.0,1.0,1.0,1.0,1.0,1.0,1.0,1.0,1.0,1.0,1.0,1.0,1.0,1.0,1.0,1.0,1.0,1.0,1.0,1.0,1.0,1.0,1.0,1.0,1.0,1.0,1.0,1.0,1.0,1.0,1.0,1.0,1.0,1.0,1.0,1.0,1.0,1.0,1.0,1.0,1.0,1.0,1.0,1.0,1.0,1.0,1.0,1.0,1.0,1.0,1.0,1.0,1.0,1.0,1.0,1.0,1.0,1.0,1.0,1.0,1.0,1.0,1.0,1.0,1.0,1.0,1.0,1.0,1.0,1.0,1.0,1.0,1.0,1.0,1.0,1.0,1.0,1.0,1.0,1.0,1.0,1.0,1.0,1.0,1.0,1.0,1.0,1.0,1.0,1.0,1.0,1.0,1.0,1.0,1.0,1.0,1.0,1.0,1.0,1.0,1.0,1.0,1.0,1.0,1.0,1.0,1.0,1.0,1.0,1.0,1.0,1.0,1.0,1.0,1.0,1.0,1.0,1.0,1.0,1.0,1.0,1.0,1.0,1.0,1.0,1.0,1.0,1.0,1.0,1.0,1.0,1.0,1.0,1.0,1.0,1.0,1.0,1.0,1.0,1.0,1.0,1.0,1.0,1.0,1.0,1.0,1.0,1.0,1.0,1.0,1.0,1.0,1.0,1.0]},\"selected\":{\"id\":\"5463\"},\"selection_policy\":{\"id\":\"5462\"}},\"id\":\"5443\",\"type\":\"ColumnDataSource\"},{\"attributes\":{\"line_alpha\":0.2,\"line_color\":\"#fb9a99\",\"x\":{\"field\":\"x\"},\"y\":{\"field\":\"y\"}},\"id\":\"5469\",\"type\":\"Line\"},{\"attributes\":{},\"id\":\"5375\",\"type\":\"ResetTool\"},{\"attributes\":{\"label\":{\"value\":\"25\"},\"renderers\":[{\"id\":\"5407\"}]},\"id\":\"5421\",\"type\":\"LegendItem\"},{\"attributes\":{\"coordinates\":null,\"data_source\":{\"id\":\"5466\"},\"glyph\":{\"id\":\"5467\"},\"group\":null,\"hover_glyph\":null,\"muted_glyph\":{\"id\":\"5469\"},\"nonselection_glyph\":{\"id\":\"5468\"},\"view\":{\"id\":\"5471\"}},\"id\":\"5470\",\"type\":\"GlyphRenderer\"},{\"attributes\":{\"source\":{\"id\":\"5403\"}},\"id\":\"5408\",\"type\":\"CDSView\"},{\"attributes\":{\"line_alpha\":0.1,\"line_color\":\"#33a02c\",\"x\":{\"field\":\"x\"},\"y\":{\"field\":\"y\"}},\"id\":\"5445\",\"type\":\"Line\"},{\"attributes\":{},\"id\":\"5372\",\"type\":\"WheelZoomTool\"},{\"attributes\":{\"line_alpha\":0.2,\"line_color\":\"#a6cee3\",\"x\":{\"field\":\"x\"},\"y\":{\"field\":\"y\"}},\"id\":\"5388\",\"type\":\"Line\"},{\"attributes\":{\"source\":{\"id\":\"5466\"}},\"id\":\"5471\",\"type\":\"CDSView\"},{\"attributes\":{\"overlay\":{\"id\":\"5377\"}},\"id\":\"5373\",\"type\":\"BoxZoomTool\"},{\"attributes\":{\"label\":{\"value\":\"50\"},\"renderers\":[{\"id\":\"5426\"}]},\"id\":\"5442\",\"type\":\"LegendItem\"},{\"attributes\":{},\"id\":\"5419\",\"type\":\"Selection\"},{\"attributes\":{\"source\":{\"id\":\"5385\"}},\"id\":\"5390\",\"type\":\"CDSView\"},{\"attributes\":{},\"id\":\"5374\",\"type\":\"SaveTool\"},{\"attributes\":{\"line_color\":\"#a6cee3\",\"x\":{\"field\":\"x\"},\"y\":{\"field\":\"y\"}},\"id\":\"5386\",\"type\":\"Line\"},{\"attributes\":{},\"id\":\"5364\",\"type\":\"BasicTicker\"},{\"attributes\":{\"label\":{\"value\":\"1000\"},\"renderers\":[{\"id\":\"5470\"}]},\"id\":\"5490\",\"type\":\"LegendItem\"},{\"attributes\":{\"source\":{\"id\":\"5422\"}},\"id\":\"5427\",\"type\":\"CDSView\"},{\"attributes\":{\"line_alpha\":0.1,\"line_color\":\"#fb9a99\",\"x\":{\"field\":\"x\"},\"y\":{\"field\":\"y\"}},\"id\":\"5468\",\"type\":\"Line\"},{\"attributes\":{},\"id\":\"5396\",\"type\":\"BasicTickFormatter\"},{\"attributes\":{},\"id\":\"5359\",\"type\":\"LinearScale\"},{\"attributes\":{},\"id\":\"5488\",\"type\":\"Selection\"},{\"attributes\":{\"line_alpha\":0.1,\"line_color\":\"#a6cee3\",\"x\":{\"field\":\"x\"},\"y\":{\"field\":\"y\"}},\"id\":\"5387\",\"type\":\"Line\"},{\"attributes\":{},\"id\":\"5371\",\"type\":\"PanTool\"},{\"attributes\":{},\"id\":\"5376\",\"type\":\"HelpTool\"},{\"attributes\":{},\"id\":\"5361\",\"type\":\"LinearScale\"},{\"attributes\":{\"coordinates\":null,\"data_source\":{\"id\":\"5443\"},\"glyph\":{\"id\":\"5444\"},\"group\":null,\"hover_glyph\":null,\"muted_glyph\":{\"id\":\"5446\"},\"nonselection_glyph\":{\"id\":\"5445\"},\"view\":{\"id\":\"5448\"}},\"id\":\"5447\",\"type\":\"GlyphRenderer\"},{\"attributes\":{\"coordinates\":null,\"data_source\":{\"id\":\"5385\"},\"glyph\":{\"id\":\"5386\"},\"group\":null,\"hover_glyph\":null,\"muted_glyph\":{\"id\":\"5388\"},\"nonselection_glyph\":{\"id\":\"5387\"},\"view\":{\"id\":\"5390\"}},\"id\":\"5389\",\"type\":\"GlyphRenderer\"},{\"attributes\":{\"data\":{\"x\":{\"__ndarray__\":\"exSuR+F6hD/BAdvWcYKGPwfvB2YCiog/TNw09ZKRij+SyWGEI5mMP9i2jhO0oI4/D9JdUSJUkD+ySPSY6leRP1W/iuCyW5I/+DUhKHtfkz+brLdvQ2OUPz4jTrcLZ5U/4Jnk/tNqlj+EEHtGnG6XPyaHEY5kcpg/yv2n1Sx2mT9sdD4d9XmaPxDr1GS9fZs/smFrrIWBnD9W2AH0TYWdP/hOmDsWiZ4/nMUug96Mnz8fnmJlU0igP3HZLYk3yqA/whT5rBtMoT8TUMTQ/82hP2WLj/TjT6I/tsZaGMjRoj8IAiY8rFOjP1k98V+Q1aM/q3i8g3RXpD/8s4enWNmkP07vUss8W6U/nyoe7yDdpT/xZekSBV+mP0KhtDbp4KY/lNx/Ws1ipz/lF0t+seSnPzdTFqKVZqg/iI7hxXnoqD/ayazpXWqpPysFeA1C7Kk/fUBDMSZuqj/Oew5VCvCqPyC32Xjucas/cfKknNLzqz/DLXDAtnWsPxRpO+Sa96w/ZaQGCH95rT+339ErY/utPwgbnU9Hfa4/WlZocyv/rj+rkTOXD4GvP35mf915AbA/JwRl72tCsD/QoUoBXoOwP3g/MBNQxLA/Id0VJUIFsT/Kevs2NEaxP3MY4Ugmh7E/G7bGWhjIsT/EU6xsCgmyP23xkX78SbI/Fo93kO6Ksj++LF2i4MuyP2fKQrTSDLM/D2goxsRNsz+4BQ7Yto6zP2Gj8+moz7M/CkHZ+5oQtD+y3r4NjVG0P1t8pB9/krQ/BBqKMXHTtD+tt29DYxS1P1VVVVVVVbU//vI6Z0eWtT+nkCB5Ode1P1AuBosrGLY/+MvrnB1Ztj+hadGuD5q2P0oHt8AB27Y/8qSc0vMbtz+bQoLk5Vy3P0TgZ/bXnbc/7X1NCMretz+VGzMavB+4Pz65GCyuYLg/51b+PaChuD+Q9ONPkuK4PziSyWGEI7k/4S+vc3ZkuT+KzZSFaKW5PzNrepda5rk/2whgqUwnuj+EpkW7Pmi6Py1EK80wqbo/1eEQ3yLquj9+f/bwFCu7Pycd3AIHbLs/0LrBFPmsuz94WKcm6+27PyH2jDjdLrw/ypNySs9vvD9zMVhcwbC8PxvPPW6z8bw/xGwjgKUyvT9tCgmSl3O9Pxao7qOJtL0/vkXUtXv1vT9n47nHbTa+PxCBn9lfd74/uR6F61G4vj9hvGr9Q/m+PwpaUA82Or8/s/c1ISh7vz9blRszGry/PwQzAUUM/b8/V2hzK/8ewD8rN2Y0eD/AP/8FWT3xX8A/1NRLRmqAwD+ooz5P46DAP31yMVhcwcA/UUEkYdXhwD8lEBdqTgLBP/reCXPHIsE/zq38e0BDwT+jfO+EuWPBP3dL4o0yhME/SxrVlqukwT8g6cefJMXBP/S3uqid5cE/yIatsRYGwj+dVaC6jybCP3Ekk8MIR8I/RvOFzIFnwj8awnjV+ofCP+6Qa95zqMI/w19e5+zIwj+XLlHwZenCP2v9Q/neCcM/QMw2Algqwz8UmykL0UrDP+lpHBRKa8M/vTgPHcOLwz+RBwImPKzDP2bW9C61zMM/OqXnNy7twz8OdNpApw3EP+NCzUkgLsQ/txHAUplOxD+L4LJbEm/EP2CvpWSLj8Q/NH6YbQSwxD8JTYt2fdDEP90bfn/28MQ/sepwiG8RxT+GuWOR6DHFP1qIVpphUsU/LldJo9pyxT8DJjysU5PFP9f0LrXMs8U/q8MhvkXUxT+AkhTHvvTFP1RhB9A3FcY/KTD62LA1xj/9/uzhKVbGP9HN3+qidsY/ppzS8xuXxj96a8X8lLfGP046uAUO2MY/IwmrDof4xj/3150XABnHP8ymkCB5Occ/oHWDKfJZxz90RHYya3rHP0kTaTvkmsc/HeJbRF27xz/xsE5N1tvHP8Z/QVZP/Mc/mk40X8gcyD9uHSdoQT3IP0PsGXG6Xcg/F7sMejN+yD/sif+CrJ7IP8BY8oslv8g/lCfllJ7fyD9p9tedFwDJPz3FyqaQIMk/EZS9rwlByT/mYrC4gmHJP7oxo8H7gck/jgCWynSiyT9jz4jT7cLJPzeee9xm48k/DG1u5d8Dyj/gO2HuWCTKP7QKVPfRRMo/idlGAEtlyj9dqDkJxIXKPzF3LBI9pso/BkYfG7bGyj/aFBIkL+fKP6/jBC2oB8s/g7L3NSEoyz9Xgeo+mkjLPyxQ3UcTacs/AB/QUIyJyz/U7cJZBarLP6m8tWJ+yss/fYuoa/fqyz9RWpt0cAvMPyYpjn3pK8w/+veAhmJMzD/PxnOP22zMP6OVZphUjcw/d2RZoc2tzD9MM0yqRs7MPyACP7O/7sw/9NAxvDgPzT/JnyTFsS/NP51uF84qUM0/cj0K16NwzT9GDP3fHJHNPxrb7+iVsc0/76ni8Q7SzT/DeNX6h/LNP5dHyAMBE84/bBa7DHozzj9A5a0V81POPxS0oB5sdM4/6YKTJ+WUzj+9UYYwXrXOP5IgeTnX1c4/Zu9rQlD2zj86vl5LyRbPPw+NUVRCN88/41tEXbtXzz+3KjdmNHjPP4z5KW+tmM8/YMgceCa5zz80lw+Bn9nPPwlmAooY+s8/bpp6yUgN0D/ZAfRNhR3QP0NpbdLBLdA/rdDmVv490D8XOGDbOk7QP4Gf2V93XtA/6wZT5LNu0D9Wbsxo8H7QP8DVRe0sj9A/Kj2/cWmf0D+UpDj2pa/QP/8Lsnriv9A/aXMr/x7Q0D/T2qSDW+DQPz1CHgiY8NA/p6mXjNQA0T8SERERERHRP3x4ipVNIdE/5t8DGoox0T9QR32exkHRP7qu9iIDUtE/JBZwpz9i0T+PfekrfHLRP/nkYrC4gtE/Y0zcNPWS0T/Ns1W5MaPRPzcbzz1us9E/ooJIwqrD0T8M6sFG59PRP3ZRO8sj5NE/4Li0T2D00T9KIC7UnATSP7SHp1jZFNI/H+8g3RUl0j+JVpphUjXSP/O9E+aORdI/XSWNastV0j/HjAbvB2bSPzL0f3NEdtI/nFv594CG0j8Gw3J8vZbSP3Aq7AD6ptI/2pFlhTa30j9F+d4Jc8fSP69gWI6v19I/GcjREuzn0j+DL0uXKPjSP+2WxBtlCNM/V/49oKEY0z/CZbck3ijTPyzNMKkaOdM/ljSqLVdJ0z8AnCOyk1nTP2oDnTbQadM/1WoWuwx60z8/0o8/SYrTP6k5CcSFmtM/E6GCSMKq0z99CPzM/rrTP+dvdVE7y9M/Utfu1Xfb0z+8PmhatOvTPyam4d7w+9M/kA1bYy0M1D/6dNTnaRzUP2XcTWymLNQ/z0PH8OI81D85q0B1H03UP6MSuvlbXdQ/DXozfpht1D934awC1X3UP+JIJocRjtQ/TLCfC06e1D+2FxmQiq7UPyB/khTHvtQ/iuYLmQPP1D/1TYUdQN/UP1+1/qF879Q/yRx4Jrn/1D8zhPGq9Q/VP53rai8yINU/B1Pks24w1T9yul04q0DVP9wh17znUNU/RolQQSRh1T+w8MnFYHHVPxpYQ0qdgdU/hb+8ztmR1T/vJjZTFqLVP1mOr9dSstU/w/UoXI/C1T8tXaLgy9LVP5jEG2UI49U/AiyV6UTz1T9skw5ugQPWP9b6h/K9E9Y/QGIBd/oj1j+qyXr7NjTWPxUx9H9zRNY/f5htBLBU1j/p/+aI7GTWP1NnYA0pddY/vc7ZkWWF1j8oNlMWopXWP5KdzJrepdY//ARGHxu21j9mbL+jV8bWP9DTOCiU1tY/OjuyrNDm1j+loisxDffWPw8KpbVJB9c/eXEeOoYX1z/j2Je+wifXP01AEUP/N9c/uKeKxztI1z8iDwRMeFjXP4x2fdC0aNc/9t32VPF41z9gRXDZLYnXP8qs6V1qmdc/NRRj4qap1z+fe9xm47nXPwnjVesfytc/c0rPb1za1z/dsUj0mOrXP0gZwnjV+tc/soA7/REL2D8c6LSBThvYP4ZPLgaLK9g/8Lanisc72D9aHiEPBEzYP8WFmpNAXNg/L+0TGH1s2D+ZVI2cuXzYPwO8BiH2jNg/bSOApTKd2D/Yivkpb63YP0Lycq6rvdg/rFnsMujN2D8WwWW3JN7YP4Ao3zth7tg/6o9YwJ3+2D9V99FE2g7ZP79eS8kWH9k/KcbETVMv2T+TLT7Sjz/ZP/2Ut1bMT9k/aPww2whg2T/SY6pfRXDZPzzLI+SBgNk/pjKdaL6Q2T8Qmhbt+qDZP3sBkHE3sdk/5WgJ9nPB2T9P0IJ6sNHZP7k3/P7s4dk/I591gyny2T+NBu8HZgLaP/htaIyiEto/YtXhEN8i2j/MPFuVGzPaPzak1BlYQ9o/oAtOnpRT2j8Lc8ci0WPaP3XaQKcNdNo/30G6K0qE2j9JqTOwhpTaP7MQrTTDpNo/HXgmuf+02j+I3589PMXaP/JGGcJ41do/XK6SRrXl2j/GFQzL8fXaPzB9hU8uBts/m+T+02oW2z8FTHhYpybbP2+z8dzjNts/2RprYSBH2z9DguTlXFfbP63pXWqZZ9s/GFHX7tV32z+CuFBzEojbP+wfyvdOmNs/VodDfIuo2z/A7rwAyLjbPytWNoUEyds/lb2vCUHZ2z//JCmOfenbP2mMohK6+ds/0/Mbl/YJ3D89W5UbMxrcP6jCDqBvKtw/EiqIJKw63D98kQGp6ErcP+b4ei0lW9w/UGD0sWFr3D+7x202nnvcPyUv57rai9w/j5ZgPxec3D/5/dnDU6zcP2NlU0iQvNw/zszMzMzM3D84NEZRCd3cP6Kbv9VF7dw/DAM5WoL93D92arLevg3dP+DRK2P7Hd0/Szml5zcu3T+1oB5sdD7dPx8ImPCwTt0/iW8Rde1e3T/z1or5KW/dP14+BH5mf90/yKV9AqOP3T8yDfeG35/dP5x0cAscsN0/Btzpj1jA3T9wQ2MUldDdP9uq3JjR4N0/RRJWHQ7x3T+vec+hSgHePxnhSCaHEd4/g0jCqsMh3j/urzsvADLeP1gXtbM8Qt4/wn4uOHlS3j8s5qe8tWLeP5ZNIUHyct4/ALWaxS6D3j9rHBRKa5PeP9WDjc6no94/P+sGU+Sz3j+pUoDXIMTePxO6+Vtd1N4/fiFz4Jnk3j/oiOxk1vTeP1LwZekSBd8/vFffbU8V3z8mv1jyiyXfP5Am0nbINd8/+41L+wRG3z9l9cR/QVbfP89cPgR+Zt8/OcS3iLp23z+jKzEN94bfPw6TqpEzl98/ePojFnCn3z/iYZ2arLffP0zJFh/px98/tjCQoyXY3z8hmAkoYujfP4v/gqye+N8/ejN+mG0E4D8v57raiwzgP+Sa9xyqFOA/mU40X8gc4D9PAnGh5iTgPwS2reMELeA/uWnqJSM14D9uHSdoQT3gPyPRY6pfReA/2ISg7H1N4D+NON0unFXgP0LsGXG6XeA/+J9Ws9hl4D+tU5P19m3gP2IH0DcVduA/F7sMejN+4D/Mbkm8UYbgP4Eihv5vjuA/NtbCQI6W4D/rif+CrJ7gP6A9PMXKpuA/VfF4B+mu4D8KpbVJB7fgP8BY8oslv+A/dQwvzkPH4D8qwGsQYs/gP99zqFKA1+A/lCfllJ7f4D9J2yHXvOfgP/6OXhnb7+A/s0KbW/n34D9o9tedFwDhPx2qFOA1COE/0l1RIlQQ4T+IEY5kchjhPz3FyqaQIOE/8ngH6a4o4T+nLEQrzTDhP1zggG3rOOE/EZS9rwlB4T/GR/rxJ0nhP3v7NjRGUeE/MK9zdmRZ4T/lYrC4gmHhP5oW7fqgaeE/UMopPb9x4T8FfmZ/3XnhP7oxo8H7geE/b+XfAxqK4T8kmRxGOJLhP9lMWYhWmuE/jgCWynSi4T9DtNIMk6rhP/hnD0+xsuE/rRtMkc+64T9iz4jT7cLhPxiDxRUMy+E/zTYCWCrT4T+C6j6aSNvhPzeee9xm4+E/7FG4HoXr4T+hBfVgo/PhP1a5MaPB++E/C21u5d8D4j/AIKsn/gviP3XU52kcFOI/KogkrDoc4j/gO2HuWCTiP5XvnTB3LOI/SqPacpU04j//Vhe1szziP7QKVPfRROI/ab6QOfBM4j8ecs17DlXiP9MlCr4sXeI/iNlGAEtl4j89jYNCaW3iP/NAwISHdeI/qPT8xqV94j9dqDkJxIXiPxJcdkvijeI/xw+zjQCW4j98w+/PHp7iPzF3LBI9puI/5ippVFuu4j+b3qWWebbiP1CS4tiXvuI/BUYfG7bG4j+7+Vtd1M7iP3CtmJ/y1uI/JWHV4RDf4j/aFBIkL+fiP4/ITmZN7+I/RHyLqGv34j/5L8jqif/iP67jBC2oB+M/Y5dBb8YP4z8YS36x5BfjP83+uvMCIOM/g7L3NSEo4z84ZjR4PzDjP+0ZcbpdOOM/os2t/HtA4z9Xgeo+mkjjPww1J4G4UOM/wehjw9ZY4z92nKAF9WDjPytQ3UcTaeM/4AMaijFx4z+Vt1bMT3njP0trkw5ugeM/AB/QUIyJ4z+10gyTqpHjP2qGSdXImeM/HzqGF+eh4z/U7cJZBarjP4mh/5sjsuM/PlU83kG64z/zCHkgYMLjP6i8tWJ+yuM/XXDypJzS4z8TJC/nutrjP8jXaynZ4uM/fYuoa/fq4z8yP+WtFfPjP+fyIfAz++M/nKZeMlID5D9RWpt0cAvkPwYO2LaOE+Q/u8EU+awb5D9wdVE7yyPkPyUpjn3pK+Q/29zKvwc05D+QkAcCJjzkP0VEREREROQ/+veAhmJM5D+vq73IgFTkP2Rf+gqfXOQ/GRM3Tb1k5D/OxnOP22zkP4N6sNH5dOQ/OC7tExh95D/t4SlWNoXkP6OVZphUjeQ/WEmj2nKV5D8N/d8ckZ3kP8KwHF+vpeQ/d2RZoc2t5D8sGJbj67XkP+HL0iUKvuQ/ln8PaCjG5D9LM0yqRs7kPwDniOxk1uQ/tZrFLoPe5D9rTgJxoebkPyACP7O/7uQ/1bV79d325D+Kabg3/P7kPz8d9XkaB+U/9NAxvDgP5T+phG7+VhflP144q0B1H+U/E+zngpMn5T/InyTFsS/lP31TYQfQN+U/MweeSe4/5T/outqLDEjlP51uF84qUOU/UiJUEElY5T8H1pBSZ2DlP7yJzZSFaOU/cT0K16Nw5T8m8UYZwnjlP9ukg1vggOU/kFjAnf6I5T9GDP3fHJHlP/u/OSI7meU/sHN2ZFmh5T9lJ7Omd6nlPxrb7+iVseU/z44sK7S55T+EQmlt0sHlPzn2pa/wyeU/7qni8Q7S5T+jXR80LdrlP1gRXHZL4uU/DsWYuGnq5T/DeNX6h/LlP3gsEj2m+uU/LeBOf8QC5j/ik4vB4grmP5dHyAMBE+Y/TPsERh8b5j8Br0GIPSPmP7ZifspbK+Y/axa7DHoz5j8gyvdOmDvmP9Z9NJG2Q+Y/izFx09RL5j9A5a0V81PmP/WY6lcRXOY/qkwnmi9k5j9fAGTcTWzmPxS0oB5sdOY/yWfdYIp85j9+GxqjqITmPzPPVuXGjOY/6IKTJ+WU5j+eNtBpA53mP1PqDKwhpeY/CJ5J7j+t5j+9UYYwXrXmP3IFw3J8veY/J7n/tJrF5j/cbDz3uM3mP5EgeTnX1eY/RtS1e/Xd5j/7h/K9E+bmP7A7LwAy7uY/Zu9rQlD25j8bo6iEbv7mP9BW5caMBuc/hQoiCasO5z86vl5LyRbnP+9xm43nHuc/pCXYzwUn5z9Z2RQSJC/nPw6NUVRCN+c/w0COlmA/5z949MrYfkfnPy6oBxudT+c/41tEXbtX5z+YD4Gf2V/nP03DveH3Z+c/Anf6IxZw5z+3KjdmNHjnP2zec6hSgOc/IZKw6nCI5z/WRe0sj5DnP4v5KW+tmOc/QK1mscug5z/2YKPz6ajnP6sU4DUIsec/YMgceCa55z8VfFm6RMHnP8ovlvxiyec/f+PSPoHR5z80lw+Bn9nnP+lKTMO94ec/nv6IBdzp5z9TssVH+vHnPwhmAooY+uc/vhk/zDYC6D9zzXsOVQroPyiBuFBzEug/3TT1kpEa6D+S6DHVryLoP0ecbhfOKug//E+rWewy6D+xA+ibCjvoP2a3JN4oQ+g/G2thIEdL6D/QHp5iZVPoP4bS2qSDW+g/O4YX56Fj6D/wOVQpwGvoP6XtkGvec+g/WqHNrfx76D8PVQrwGoToP8QIRzI5jOg/ebyDdFeU6D8ucMC2dZzoP+Mj/fiTpOg/mNc5O7Ks6D9Oi3Z90LToPwM/s7/uvOg/uPLvAQ3F6D9tpixEK83oPyJaaYZJ1eg/1w2myGfd6D+MweIKhuXoP0F1H02k7eg/9ihcj8L16D+r3JjR4P3oP2GQ1RP/Bek/FkQSVh0O6T/L906YOxbpP4Cri9pZHuk/NV/IHHgm6T/qEgVfli7pP5/GQaG0Nuk/VHp+49I+6T8JLrsl8UbpP77h92cPT+k/c5U0qi1X6T8pSXHsS1/pP978rS5qZ+k/k7DqcIhv6T9IZCezpnfpP/0XZPXEf+k/ssugN+OH6T9nf915AZDpPxwzGrwfmOk/0eZW/j2g6T+GmpNAXKjpPztO0IJ6sOk/8QENxZi46T+mtUkHt8DpP1tphknVyOk/EB3Di/PQ6T/F0P/NEdnpP3qEPBAw4ek/Lzh5Uk7p6T/k67WUbPHpP5mf8taK+ek/TlMvGakB6j8DB2xbxwnqP7m6qJ3lEeo/bm7l3wMa6j8jIiIiIiLqP9jVXmRAKuo/jYmbpl4y6j9CPdjofDrqP/fwFCubQuo/rKRRbblK6j9hWI6v11LqPxYMy/H1Wuo/y78HNBRj6j+Bc0R2MmvqPzYngbhQc+o/69q9+m576j+gjvo8jYPqP1VCN3+ri+o/CvZzwcmT6j+/qbAD6JvqP3Rd7UUGpOo/KREqiCSs6j/exGbKQrTqP5N4owxhvOo/SSzgTn/E6j/+3xyRnczqP7OTWdO71Oo/aEeWFdrc6j8d+9JX+OTqP9KuD5oW7eo/h2JM3DT16j88FokeU/3qP/HJxWBxBes/pn0Co48N6z9bMT/lrRXrPxHleyfMHes/xpi4aeol6z97TPWrCC7rPzAAMu4mNus/5bNuMEU+6z+aZ6tyY0brP08b6LSBTus/BM8k959W6z+5gmE5vl7rP242nnvcZus/I+ravfpu6z/ZnRcAGXfrP45RVEI3f+s/QwWRhFWH6z/4uM3Gc4/rP61sCgmSl+s/YiBHS7Cf6z8X1IONzqfrP8yHwM/sr+s/gTv9EQu46z827zlUKcDrP+uidpZHyOs/oVaz2GXQ6z9WCvAahNjrPwu+LF2i4Os/wHFpn8Do6z91Jabh3vDrPyrZ4iP9+Os/34wfZhsB7D+UQFyoOQnsP0n0mOpXEew//qfVLHYZ7D+0WxJvlCHsP2kPT7GyKew/HsOL89Ax7D/Tdsg17znsP4gqBXgNQuw/Pd5BuitK7D/ykX78SVLsP6dFuz5oWuw/XPn3gIZi7D8RrTTDpGrsP8ZgcQXDcuw/fBSuR+F67D8xyOqJ/4LsP+Z7J8wdi+w/my9kDjyT7D9Q46BQWpvsPwWX3ZJ4o+w/ukoa1Zar7D9v/lYXtbPsPySyk1nTu+w/2WXQm/HD7D+OGQ3eD8zsP0TNSSAu1Ow/+YCGYkzc7D+uNMOkauTsP2Po/+aI7Ow/GJw8Kaf07D/NT3lrxfzsP4IDtq3jBO0/N7fy7wEN7T/sai8yIBXtP6EebHQ+He0/VtKotlwl7T8MhuX4ei3tP8E5IjuZNe0/du1efbc97T8roZu/1UXtP+BU2AH0Te0/lQgVRBJW7T9KvFGGMF7tP/9vjshOZu0/tCPLCm1u7T9p1wdNi3btPx6LRI+pfu0/1D6B0ceG7T+J8r0T5o7tPz6m+lUEl+0/81k3mCKf7T+oDXTaQKftP13BsBxfr+0/EnXtXn237T/HKCqhm7/tP3zcZuO5x+0/MZCjJdjP7T/mQ+Bn9tftP5z3HKoU4O0/UatZ7DLo7T8GX5YuUfDtP7sS03Bv+O0/cMYPs40A7j8lekz1qwjuP9otiTfKEO4/j+HFeegY7j9ElQK8BiHuP/lIP/4kKe4/rvx7QEMx7j9ksLiCYTnuPxlk9cR/Qe4/zhcyB55J7j+Dy25JvFHuPzh/q4vaWe4/7TLozfhh7j+i5iQQF2ruP1eaYVI1cu4/DE6elFN67j/BAdvWcYLuP3a1FxmQiu4/LGlUW66S7j/hHJGdzJruP5bQzd/qou4/S4QKIgmr7j8AOEdkJ7PuP7Xrg6ZFu+4/ap/A6GPD7j8fU/0qgsvuP9QGOm2g0+4/ibp2r77b7j8+brPx3OPuP/Qh8DP76+4/qdUsdhn07j9eiWm4N/zuPxM9pvpVBO8/yPDiPHQM7z99pB9/khTvPzJYXMGwHO8/5wuZA88k7z+cv9VF7SzvP1FzEogLNe8/BydPyik97z+82osMSEXvP3GOyE5mTe8/JkIFkYRV7z/b9UHTol3vP5CpfhXBZe8/RV27V99t7z/6EPiZ/XXvP6/ENNwbfu8/ZHhxHjqG7z8ZLK5gWI7vP8/f6qJ2lu8/hJMn5ZSe7z85R2Qns6bvP+76oGnRru8/o67dq++27z9YYhruDb/vPw0WVzAsx+8/wsmTckrP7z93fdC0aNfvPywxDfeG3+8/4eRJOaXn7z+XmIZ7w+/vP0xMw73h9+8/AAAAAAAA8D8=\",\"dtype\":\"float64\",\"order\":\"little\",\"shape\":[1000]},\"y\":[0.05005145798247053,0.0500621626111693,0.05007387813495773,0.05008660459644958,0.05010034204192859,0.05011509052133951,0.050130850088294904,0.05014762080006668,0.050165402717585246,0.050184195905437,0.050204000431860504,0.050224816368744055,0.05024664379162193,0.05026948277967121,0.050293333415707825,0.050318195786183226,0.0503440699811798,0.05037095609440722,0.05039885422319787,0.05042776446850246,0.05045768693488522,0.050488621730519226,0.05052056896718135,0.05055352876024721,0.050587501228685765,0.05062248649505348,0.05065848468548959,0.05069549592970929,0.05073352036099808,0.050772558116205915,0.05081260933574053,0.050853674163560986,0.05089575274717103,0.05093884523761237,0.05098295178945781,0.0510280725608036,0.05107420771326266,0.051121357411956544,0.05116952182550849,0.051218701126034744,0.05126889548913745,0.051320105093895854,0.05137233012285817,0.05142557076203334,0.05147982720088194,0.05153509963230779,0.05159138825264872,0.05164869326166756,0.051707014862542776,0.051766353261859174,0.05182670866980116,0.05188808129962647,0.05195047136777828,0.05201387909459026,0.0520783047035321,0.05214374842141963,0.052210210478404476,0.05227769110796264,0.0523461905468846,0.05241570903526311,0.052486246816483006,0.052557804137208966,0.05263038124737461,0.052703978400170305,0.05277859585203164,0.05285423386262718,0.05293089269484638,0.053008572614787065,0.053087273891743225,0.0531669967981921,0.05324774160978167,0.053329508605317,0.053412298066748014,0.053496110279155414,0.05358094553073785,0.0536668041127977,0.053753686319728114,0.0538415924489981,0.05393052280113922,0.05402047767973126,0.05411145739138744,0.05420346224574024,0.054296492555426776,0.054390548636073614,0.05448563080628194,0.054581739387612634,0.05467887470457078,0.054777037084589975,0.054876226858017026,0.05497644435809625,0.05507768992095349,0.0551799638855799,0.055283266593815744,0.0553875983903344,0.05549295962262549,0.05559935064097831,0.05570677179846515,0.05581522345092418,0.055924705956942405,0.056035219677838546,0.05614676497764538,0.05625934222309249,0.056372951783588386,0.0564875940312027,0.056603269340648354,0.0567199780892632,0.05683772065699176,0.05695649742636737,0.05707630878249258,0.05719715511302145,0.05731903680814028,0.05744195426054852,0.057565907865439754,0.05769089802048269,0.05781692512580114,0.05794398958395529,0.058072091799921045,0.058201232181071164,0.0583314111371546,0.05846262908027666,0.05859488642795205,0.05872818359108259,0.05886252099152726,0.05899789905061497,0.05913431819192802,0.05927177884694324,0.05941028143288809,0.05954982638516253,0.059690414136157235,0.0598320451204104,0.059974719774587,0.06011843853745687,0.06026320184987263,0.0604090101547477,0.06055586389703435,0.06070376352370143,0.06085270948371212,0.06100270222800107,0.061153742209452015,0.06130582988287503,0.06145896570498345,0.061613150134371256,0.061768383631489274,0.06192466665862266,0.062081999679867036,0.06224038316110493,0.06239981756998246,0.06256030337588533,0.06272184104991495,0.06288443106486469,0.06304807389519523,0.06321277001701076,0.06337851990803461,0.06354532404758415,0.06371318291654698,0.06388209699735595,0.06405206677396375,0.06422309273181873,0.06439517535783919,0.06456831514038867,0.06474251256925041,0.06491776813560174,0.06509408233198873,0.06527145565230061,0.06544988859174361,0.0656293816468155,0.06580993531527961,0.06599155009613795,0.0661742264896062,0.0663579649970862,0.0665427661211401,0.06672863036546411,0.06691555823486081,0.06710355023521355,0.0672926068734588,0.06748272865755936,0.0676739160964772,0.06786616970014667,0.06805948997944655,0.06825387744617309,0.06844933261301239,0.06864585599351279,0.06884344810205713,0.06904210945383485,0.0692418405648142,0.06944264195171423,0.0696445141319767,0.06984745762373742,0.07005147294579887,0.07025656061760063,0.07046272115919185,0.07066995509120204,0.07087826293481281,0.07108764521172874,0.07129810244414841,0.07150963515473607,0.0717222438665914,0.07193592910322193,0.07215069138851227,0.07236653124669534,0.07258344920232362,0.07280144579477588,0.07302052152104667,0.07324067692009605,0.07346191251745883,0.07368422883884068,0.07390762641008772,0.07413210575715674,0.07435766740608522,0.07458431188296069,0.07481203971389058,0.07504085142497223,0.07527074757965196,0.07550172863153863,0.07573379514164397,0.07596694763572609,0.07620118663938023,0.07643651267800763,0.07667292627678488,0.07691042796063262,0.07714901825418527,0.07738869768175867,0.07762946676732002,0.07787132603445615,0.07811427600634198,0.07835831720570953,0.0786034501548163,0.0788496753754134,0.07909699338871456,0.07934540471536382,0.07959490987540414,0.07984550938824578,0.08009720377263371,0.08034999354661655,0.08060387922751394,0.08085886133188461,0.08111494037549463,0.0813721168732843,0.08163039133933742,0.08188976428684722,0.0821502362280853,0.08241180767436887,0.08267447913602796,0.08293825112237302,0.08320312414166273,0.0834690987010707,0.0837361753066533,0.08400435446331692,0.08427363667478441,0.0845440224435636,0.08481551227091293,0.08508810665680949,0.08536180609991546,0.08563661109754576,0.08591252214563422,0.08618953973870068,0.08646766436981795,0.08674689653057865,0.08702723671106151,0.08730868539979861,0.08759124308374164,0.0878749102482287,0.08815968737695072,0.08844557495191802,0.08873257345342692,0.0890206833600263,0.08930990514848369,0.08960023929375154,0.08989168626893419,0.09018424654525382,0.09047792059201666,0.09077270887657904,0.09106861186431439,0.09136563001857846,0.09166376380067626,0.0919630136698277,0.09226338008313387,0.09256486349554313,0.09286746435981713,0.09317118312649682,0.09347602024386853,0.09378197615792978,0.09408905131235547,0.0943972461484634,0.09470656110518068,0.0950169966190094,0.0953285531626767,0.09564123109242278,0.09595503087399657,0.09626995293386319,0.09658599769589193,0.09690316558132268,0.09722145700873097,0.09754087239399387,0.09786141215025629,0.09818307668789618,0.0985058664144904,0.09882978173478094,0.09915482305063933,0.09948099076103417,0.0998082852619952,0.10013670694658006,0.1004662562048396,0.10079693342378358,0.10112873898734631,0.10146167327635235,0.10179573681645648,0.10213092969371257,0.1024672524202381,0.1028047053640914,0.10314328889004998,0.10348300335957666,0.10382384913078485,0.10416582655840463,0.10450893599374858,0.10485317778467697,0.10519855227556407,0.1055450598072637,0.10589270071707518,0.10624147533870862,0.10659138400225115,0.10694242703413294,0.10729460475709234,0.1076479174901423,0.10800236554853607,0.10835794924373283,0.108714668883364,0.10907252477119896,0.10943151720711075,0.1097916464870425,0.1101529129029729,0.11051531674288259,0.11087885829071994,0.11124353782636742,0.11160935562560703,0.1119763119600871,0.11234440709728806,0.11271364130048855,0.11308401482873177,0.11345552793679152,0.1138281808751388,0.1142019738899074,0.11457690722286099,0.11495298111135886,0.11533019578832282,0.11570855148220285,0.11608804841694442,0.11646868681195424,0.11685046688206753,0.11723338883751369,0.11761745288388364,0.11800265922209603,0.11838900804836436,0.11877649955416293,0.1191651339261947,0.11955491134635698,0.11994583199170904,0.12033789603443887,0.12073110364183,0.1211254549762284,0.12152095019500993,0.12191758945054704,0.12231537289017605,0.1227143006561646,0.12311437288567834,0.12351558971074895,0.12391795125824098,0.12432145764981939,0.12472610900191727,0.12513190542570288,0.1255388470270477,0.1259469339064941,0.12635616623511056,0.126766543954365,0.12717806722119604,0.12759073611451238,0.12800455070773248,0.12841951106875324,0.12883561725991782,0.1292528693379836,0.12967126735409049,0.13009081135372955,0.13051150137671114,0.13093333745713323,0.13135631962335015,0.13178044789794102,0.1322057222976785,0.13263214283349722,0.13305970951046336,0.13348842232774238,0.133918281278569,0.1343492863502159,0.13478143752396232,0.1352147347750643,0.13564917807272267,0.1360847673800537,0.13652150265405769,0.13695938384558834,0.1373984108993232,0.13783858375373287,0.13827990234105028,0.1387223669867235,0.13916597682864593,0.13961073216314315,0.14005663289722478,0.1405036789315145,0.14095187016022032,0.1414012064711043,0.14185168774545392,0.14230331385805256,0.14275608467714956,0.14321000006443196,0.1436650598749944,0.14412126395731067,0.14457861215320522,0.14503710429782324,0.1454967402196026,0.14595751974024565,0.14641944267468976,0.14688250883107956,0.14734671801073823,0.14781207000814,0.1482785646108809,0.14874620159965224,0.1492149807482108,0.1496849018233533,0.1501559645848867,0.15062816878560212,0.15110151417124643,0.15157600048049524,0.1520516274449259,0.15252839478898989,0.1530063022299864,0.15348534947803488,0.15396553623604853,0.15444686219970752,0.15492932705743295,0.15541293049035923,0.15589767217230938,0.1563835517697676,0.1568705689418533,0.15735872334029583,0.15784801460940823,0.15833844238606143,0.15883000629965874,0.1593227059721107,0.15981654101780904,0.16031151104360203,0.16080761564876966,0.1613048544249977,0.1618032269563535,0.16230273281926172,0.16280337158247885,0.1633051428070691,0.16380804604638027,0.164312080958412,0.1648172468608151,0.16532354339161814,0.16583097007306857,0.1663395264195779,0.16684921193769822,0.1673600261260988,0.16787196847554287,0.1683850384688645,0.16889923558094566,0.16941455927869334,0.1699310090210172,0.1704485842588062,0.17096728443490708,0.1714871089841019,0.17200805733308558,0.1725301289004438,0.1730533230966323,0.17357763932395345,0.17410307697653635,0.17462963544031448,0.1751573140930045,0.17568611230408582,0.17621602943477863,0.17674706483802397,0.17727921785846276,0.17781248783241524,0.17834687408786068,0.17888237594441697,0.17941899271332087,0.1799567236974081,0.1804955681910936,0.18103552548035123,0.18157659484269595,0.1821187755471626,0.18266206685428837,0.1832064680160926,0.1837519782760591,0.1842985968691167,0.1848463230216209,0.185395155951336,0.18594509574917134,0.18649613988572422,0.18704828840224996,0.18760154048200653,0.18815589529957213,0.18871135202082806,0.18926790980294175,0.1898255677943494,0.19038432513473916,0.1909441809550351,0.19150513437737976,0.1920671845151188,0.19263033047278375,0.193194571346077,0.1937599062218555,0.19432633417811507,0.19489385428397496,0.19546246559966288,0.19603216717649918,0.19660295805688288,0.19717483727427534,0.19774780385318752,0.1983218568091637,0.19889699514876868,0.19947321786957262,0.20005052396013806,0.20062891240000527,0.2012083821596789,0.20178893220061522,0.20237056147520815,0.20295326892677662,0.20353705348955148,0.2041219140886627,0.20470784964012767,0.2052948590508376,0.20588294121854644,0.20647209503185854,0.20706231937021682,0.20765361310389088,0.20824597509396653,0.20883940433880735,0.20943389939366294,0.21002945923315372,0.21062608268152333,0.2112237685537772,0.2118225156556714,0.21242232278370335,0.2130231887251016,0.2136251122578159,0.21422809215050792,0.2148321271625414,0.21543721604397353,0.21604335753554563,0.21665055036867464,0.21725879326544403,0.21786808493859566,0.21847842409152135,0.21908980941825523,0.21970223960346566,0.22031571332244715,0.22093022924111352,0.22154578601599043,0.22216238229420815,0.22278001671349446,0.22339868790216844,0.22401839447913366,0.224639135053872,0.22526090822643727,0.22588371258744944,0.22650754671808884,0.22713240919009117,0.22775829856574106,0.22838521339786771,0.22901315222983987,0.2296421135955609,0.23027209601946413,0.23090309801650882,0.23153511809217536,0.23216815474246244,0.23280220645388183,0.23343727170345607,0.23407334895871426,0.23471043667768937,0.2353485333089148,0.2359876372914222,0.23662774705473827,0.23726886101888292,0.23791097759436658,0.2385540951821885,0.23919821217383502,0.23984332695127766,0.24048943788697247,0.2411365449325609,0.24178464331928567,0.24243373292633005,0.2430838120881315,0.24373487912960906,0.24438693236616346,0.24503997010367676,0.2456939906385135,0.2463489922575201,0.24700497323802642,0.24766193184784563,0.2483198663452769,0.2489787749791049,0.24963865598860263,0.2502995076035322,0.2509613280441475,0.2516241155211958,0.2522878682359201,0.252952584380062,0.25361826213586386,0.2542848996760724,0.254952495163941,0.2556210467532344,0.2562905525882302,0.25696101080372447,0.2576324195250351,0.2583047770383179,0.2589780811153447,0.25965233001751453,0.2603275218322815,0.26100365463764513,0.26168072650215435,0.26235873548491384,0.2630376796355889,0.26371755699441174,0.26439836559218727,0.2650801034502998,0.26576276858071823,0.2664463589860046,0.26713087265931895,0.26781630758442754,0.2685026617357104,0.2691899330781674,0.26987811956742735,0.27056721914975485,0.27125722976205924,0.2719481493319021,0.27263997577750626,0.27333270700776435,0.2740263409222476,0.27472087541121537,0.2754163083556233,0.27611263762713434,0.27680986108812805,0.2775079765917096,0.2782069819817211,0.27890687509275114,0.2796076537501462,0.28030931577001994,0.28101185895926567,0.2817152811155673,0.28241958002740963,0.283124753474091,0.28383079922573456,0.28453771504330067,0.28524549867859844,0.2859541478742991,0.28666366036394764,0.28737403387197596,0.28808526611371593,0.2887973547954131,0.28951029761423897,0.29022409225830575,0.29093873640667905,0.2916542277293933,0.2923705638874645,0.2930877425329063,0.29380576130874286,0.2945246178490251,0.2952443097788447,0.2959648347143505,0.29668619026276233,0.29740837402238884,0.29813138358264085,0.2988552165240494,0.29957987041828105,0.30030534282815446,0.3010316313076575,0.3017587334019631,0.3024866466474473,0.30321537115877717,0.30394489936426017,0.3046752312799885,0.30540636440739677,0.30613829623921157,0.3068710242594713,0.3076045459435442,0.308338858758146,0.3090739601613603,0.30980984760265684,0.3105465186991155,0.31128397053657364,0.3120222007092245,0.3127612066322836,0.3135009857124508,0.3142415353479313,0.31498285292845607,0.31572493583530176,0.3164677814413129,0.31721138711092095,0.3179557502001676,0.31870086805672454,0.3194467380199166,0.3201933574207422,0.3209407235818961,0.3216888338177913,0.3224376854345819,0.32318727573018513,0.3239376019943044,0.32468866150845177,0.32544045154597256,0.3261929693720664,0.32694621224381304,0.3277001774101945,0.3284548621121196,0.32921026358244837,0.3299663790460156,0.33072320571965536,0.33148074081222634,0.3322389815246368,0.3329979250498679,0.33375756857300126,0.33451790927124203,0.33527894431394706,0.336040670862648,0.33680308607107934,0.3375661870852029,0.3383299710432357,0.33909443507567494,0.33985957630532593,0.3406253918473281,0.34139187880918265,0.3421590342907791,0.34292685538442336,0.34369533917486456,0.3444644827393235,0.34523428314752025,0.3460047374617019,0.3467758427366719,0.3475475960198167,0.3483199943511367,0.3490930347632725,0.34986671428153665,0.35064102992393986,0.3514159787012229,0.35219155761688437,0.3529677636672109,0.3537445938413069,0.35452204512112534,0.35530011448149634,0.3560787988901591,0.35685809530779133,0.3576380006880402,0.35841851197755353,0.35919962611601003,0.359981340036152,0.36076365066381383,0.3615465549179569,0.3623300497106986,0.36311413194734576,0.36389879852642554,0.36468404633971796,0.3654698724487837,0.3662562733847471,0.3670432461902814,0.36783078773050815,0.3686188948639651,0.3694075644426391,0.37019679724195403,0.3709865823606083,0.3717769204449093,0.37256780832106834,0.3733592428089151,0.37415122072193296,0.37494373886729376,0.3757367940458901,0.37653038305237224,0.3773245026751809,0.378119149696583,0.3789143208927067,0.37971001303357593,0.3805062228831466,0.3813029471993409,0.3821001827340834,0.3828979262333371,0.3836961744371386,0.384494924079635,0.38529417188911863,0.3860939145880649,0.3868941488931675,0.38769487151537574,0.38849607915993073,0.3892977685264028,0.39009993630872736,0.39090257919524407,0.39170569386873133,0.3925092770064461,0.39331332528016,0.39411783535619754,0.39492280389547413,0.3957282275535329,0.39653410298058367,0.39734042682154136,0.39814719571606383,0.39895440629858975,0.3997620551983784,0.40057013903954747,0.401378654441112,0.40218759801702386,0.40299696637621,0.40380675612261213,0.4046169638552264,0.4054275861681418,0.40623861965058056,0.40705006088693757,0.40786190645681974,0.40867415293508713,0.4094867968918913,0.4102998348927173,0.4111132634984216,0.4119270792652753,0.41274127874500194,0.41355585848482,0.4143708150274824,0.41518614491131844,0.41600184467027324,0.4168179108339502,0.41763433992765125,0.41845112847241894,0.4192682729850765,0.42008576997827124,0.4209036161274132,0.42172180760837846,0.4225403410833309,0.42335921304862983,0.4241784199966664,0.4249979584159062,0.4258178247909299,0.42663801560247766,0.4274585273274894,0.42827935643914894,0.4291004994069257,0.4299219526966172,0.4307437127703928,0.4315657760868349,0.4323881391009835,0.43321079826437825,0.43403375002510197,0.43485699082782264,0.4356805171138394,0.43650432532112315,0.43732841188436095,0.43815277323500007,0.43897741131168133,0.4398023116784187,0.44062747611227315,0.44145290103227985,0.4422785828544562,0.4431045179918457,0.44393070285455954,0.4447571338498238,0.44558380738202247,0.44641071985274194,0.44723786766081497,0.4480652472023662,0.4488928548708554,0.4497206870571236,0.45054874014943674,0.4513770105335309,0.4522054945926569,0.4530341887076256,0.453863089256852,0.4546921926164019,0.45552149516003543,0.45635099325925266,0.4571806832833395,0.45801056159941245,0.4588406245724634,0.45967086856540607,0.46050128993912104,0.46133188505250083,0.4621626502624965,0.4629935819241622,0.46382467639070146,0.4646559300135127,0.4654873391422354,0.46631890012479454,0.46715060930744895,0.46798246303483504,0.4688144576500135,0.46964658949451554,0.4704788549083884,0.4713112502302426,0.4721437717972965,0.4729764159454235,0.4738091790091984,0.4746420573219421,0.4754750472157699,0.47630814502163743,0.4771413470693855,0.47797464968778897,0.4788080492046,0.4796415419465978,0.4804751242396329,0.4813087924086745,0.48214254277785673,0.48297637167052604,0.48381027540928606,0.4846442503160465,0.48547829271206805,0.48631239891800937,0.4871465652539751,0.48798078803955997,0.4888150635938982,0.48964938823570936,0.49048375828334456,0.4913181700548326,0.49215261986792974,0.4929871040401632,0.49382161888887993,0.49465616073129276,0.4954907258845267,0.4963253106656684,0.49715991139180865,0.4979945243800938,0.4988291459477691,0.49966377805284806,0.5004984058906808,0.5013330312649599,0.5021676504939097,0.5030022598960903,0.5038368557904466,0.5046714344963558,0.5055059923336714,0.5063405260694335,0.5071750311442897,0.5080095043138158,0.5088439419002574,0.5096783402265753,0.5105126956164885,0.5113470043945246,0.5121812628860644,0.5130154674173896,0.5138496143157294,0.5146836999093086,0.5155177205273925,0.5163516725003351,0.5171855521596258,0.5180193558379357,0.5188530798691646,0.5196867205884883,0.520520274332404,0.5213537374387793,0.5221871062468967,0.5230203770975005,0.5238535463328459,0.524686610296742,0.525519565334601,0.526352407793484,0.5271851340221478,0.5280177403710906,0.5288502231925994,0.5296825788407962,0.5305148036716836,0.5313468940431934,0.5321788463152299,0.5330106568497192,0.5338423220106524,0.5346738381641349,0.5355052016784306,0.5363364089240088,0.53716745627359,0.5379983401021927,0.5388290567871776,0.539659602708296,0.5404899742477345,0.5413201677901605,0.5421501797227682,0.5429800064353261,0.5438096443202194,0.5446390897724995,0.545468339189926,0.5462973889730153,0.5471262355250845,0.5479548752522968,0.5487833045637084,0.5496115198713116,0.5504395175900817,0.5512672941380224,0.5520948459362094,0.5529221694088373,0.5537492609832642,0.554576117090055,0.5554027341630287,0.5562291086393022,0.557055236959335,0.5578811155669738,0.5587067409094981,0.5595321094376632,0.560357217605746,0.5611820618715891,0.5620066386966456]},\"selected\":{\"id\":\"5399\"},\"selection_policy\":{\"id\":\"5398\"}},\"id\":\"5385\",\"type\":\"ColumnDataSource\"},{\"attributes\":{},\"id\":\"5487\",\"type\":\"UnionRenderers\"},{\"attributes\":{\"axis_label\":\"Effect Size\",\"coordinates\":null,\"formatter\":{\"id\":\"5396\"},\"group\":null,\"major_label_policy\":{\"id\":\"5397\"},\"ticker\":{\"id\":\"5364\"}},\"id\":\"5363\",\"type\":\"LinearAxis\"},{\"attributes\":{\"source\":{\"id\":\"5443\"}},\"id\":\"5448\",\"type\":\"CDSView\"},{\"attributes\":{},\"id\":\"5393\",\"type\":\"BasicTickFormatter\"},{\"attributes\":{\"line_alpha\":0.2,\"line_color\":\"#33a02c\",\"x\":{\"field\":\"x\"},\"y\":{\"field\":\"y\"}},\"id\":\"5446\",\"type\":\"Line\"},{\"attributes\":{\"axis\":{\"id\":\"5363\"},\"coordinates\":null,\"group\":null,\"ticker\":null},\"id\":\"5366\",\"type\":\"Grid\"},{\"attributes\":{},\"id\":\"5394\",\"type\":\"AllLabels\"},{\"attributes\":{\"line_alpha\":0.1,\"line_color\":\"#b2df8a\",\"x\":{\"field\":\"x\"},\"y\":{\"field\":\"y\"}},\"id\":\"5424\",\"type\":\"Line\"},{\"attributes\":{},\"id\":\"5368\",\"type\":\"BasicTicker\"},{\"attributes\":{},\"id\":\"5397\",\"type\":\"AllLabels\"},{\"attributes\":{\"axis_label\":\"Power\",\"coordinates\":null,\"formatter\":{\"id\":\"5393\"},\"group\":null,\"major_label_policy\":{\"id\":\"5394\"},\"ticker\":{\"id\":\"5368\"}},\"id\":\"5367\",\"type\":\"LinearAxis\"},{\"attributes\":{\"data\":{\"x\":{\"__ndarray__\":\"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\",\"dtype\":\"float64\",\"order\":\"little\",\"shape\":[1000]},\"y\":[0.05574170869892556,0.056940939665424656,0.05825526799895196,0.059685171371850164,0.061231157232617225,0.0628937600400877,0.06467353835600352,0.06657107171814029,0.06858695736642083,0.07072180680585663,0.07297624221942525,0.0753508927404638,0.07784639062182175,0.08046336723575573,0.08320244889135985,0.08606425285384389,0.08904938293334651,0.09215842517692341,0.0953919434637498,0.09875047505101034,0.10223452613291475,0.10584456715954452,0.10958102871980274,0.11344429625202083,0.11743470641263326,0.12155254209760818,0.12579802812624225,0.13017132686725383,0.1346725339352311,0.139301674082876,0.14405869668988744,0.14894347227152863,0.1539557888769577,0.15909534630148411,0.1643617553263472,0.16975453255189252,0.1752730975262575,0.18091676980322974,0.18668476555434793,0.19257619556300665,0.19859006234633028,0.2047252590649192,0.21098056376176508,0.21735464271995042,0.22384604581930395,0.23045320618619475,0.23717443858384601,0.24400793954722705,0.25095178642136595,0.2580039373210983,0.2651622312526143,0.27242439097012255,0.2797880148285007,0.28725059014728455,0.2948094862037409,0.3024619586074318,0.3102051504926865,0.31803609480190254,0.32595171669628525,0.33394883624210375,0.34202417543412694,0.3501743466245429,0.3583958764709245,0.3666851969848143,0.3750386524767705,0.3834525037666811,0.3919229326174628,0.4004460463815122,0.40901788763610475,0.41763442172137455,0.42629156625592735,0.4349851814153835,0.44371107901106904,0.4524650281628576,0.46124276127126385,0.47003997927791336,0.47885235855159525,0.48767556369036363,0.49650522700958244,0.5053369920657214,0.5141664965725817,0.5229893841133866,0.5318013103683438,0.5405979493256937,0.5493750062696625,0.5581281993750732,0.5668532987298859,0.5755461133509553,0.5842025004014971,0.5928183714043527,0.6013896978994457,0.6099125169632483,0.618382945853355,0.6267971529203995,0.6351514106493319,0.6434420704482902,0.651665574388102,0.6598184596413318,0.6678973631699177,0.675899023997156,0.6838203007356518,0.6916581314551143,0.6994095964537258,0.7070718841709885,0.7146423027168168,0.7221182823672522,0.7294973777933889,0.7367772826992932,0.743955784423327,0.7510308315193094,0.7580004933635163,0.764862970865225,0.7716165970807045,0.778259838300235,0.7847913040749708,0.7912097036969296,0.7975139097587214,0.8037029163067424,0.8097758478106206,0.8157319580103356,0.8215706395097176,0.8272913823967184,0.8328938259082767,0.8383777259127733,0.8437429576971702,0.8489895144100792,0.8541175044830844,0.8591271498721736,0.8640187953838496,0.8687928514409683,0.8734498713615741,0.8779904960885689,0.8824154632824446,0.8867256038012022,0.8909218538715277,0.8950051924636842,0.8989767206784078,0.9028376055345083,0.9065890885388758,0.9102324817861304,0.9137691651616289,0.9172005956027255,0.9205282439339193,0.9237536792243785,0.9268785076771532,0.9299043825123593,0.9328330011995514,0.9356661143248777,0.9384054645731088,0.9410528684518621,0.943610157229402,0.9460791866980774,0.9484618347610072,0.9507600105115287,0.9529755942098359,0.9551105187502749,0.9571667115194636,0.9591461045980453,0.9610506329382205,0.9628822441384046,0.9646428383085279,0.966334351367902,0.9679586967261242,0.9695177763580135,0.9710134797146551,0.9724476945698062,0.9738222456167466,0.975138981536503,0.9763997153455217,0.9776062377032981,0.9787603115048148,0.9798636943119418,0.9809180641857168,0.9819251176177219,0.9828865063698741,0.9838038508169089,0.9846787385486484,0.9855127454953607,0.9863073585503238,0.9870640814354259,0.9877843673068905,0.9884696341963646,0.9891212821264591,0.9897406272858149,0.9903289947781042,0.9908876597320827,0.991417861273398,0.9919208025674062,0.9923976703615136,0.9928495621147356,0.9932775898125502,0.9936828146854922,0.9940662631660571,0.9944289449611543,0.9947717869991578,0.9950957281940205,0.9954016602643957,0.9956904424981948,0.9959629023274841,0.9962198562380266,0.9964620340039541,0.9966901877549393,0.9969050239759891,0.9971072205612543,0.9972974465957195,0.9974762912721655,0.9976443665174364,0.9978022431674365,0.9979504670878299,0.9980895599089588,0.998220042274857,0.9983423497980117,0.9984569542064082,0.9985642877484541,0.9986647621170804,0.9987587909357674,0.9988467084621134,0.9989288867758253,0.9990056626181468,0.999077355680675,0.9991442692667692,0.9992067172510696,0.999264925526531,0.9993191736240593,0.9993697058811666,0.9994167745723948,0.9994605606071663,0.9995012876063551,0.9995391504573022,0.9995743330159457,0.9996070299306111,0.9996373667910635,0.9996655148127165,0.9996916188568371,0.9997158151609148,0.999738253454014,0.9997590155886503,0.9997782322124199,0.9997960093794078,0.9998124465211525,0.9998276591153344,0.999841694830616,0.9998546535801937,0.9998666118478172,0.9998776411172683,0.9998878313696093,0.9998972037354359,0.9999058353841472,0.9999137806537521,0.9999210901679467,0.9999278354574912,0.9999340170444984,0.9999396957253657,0.9999449095285873,1.0,1.0,1.0,1.0,1.0,1.0,1.0,1.0,1.0,1.0,1.0,1.0,1.0,1.0,1.0,1.0,1.0,1.0,1.0,1.0,1.0,1.0,1.0,1.0,1.0,1.0,1.0,1.0,1.0,1.0,1.0,1.0,1.0,1.0,1.0,1.0,1.0,1.0,1.0,1.0,1.0,1.0,1.0,1.0,1.0,1.0,1.0,1.0,1.0,1.0,1.0,1.0,1.0,1.0,1.0,1.0,1.0,1.0,1.0,1.0,1.0,1.0,1.0,1.0,1.0,1.0,1.0,1.0,1.0,1.0,1.0,1.0,1.0,1.0,1.0,1.0,1.0,1.0,1.0,1.0,1.0,1.0,1.0,1.0,1.0,1.0,1.0,1.0,1.0,1.0,1.0,1.0,1.0,1.0,1.0,1.0,1.0,1.0,1.0,1.0,1.0,1.0,1.0,1.0,1.0,1.0,1.0,1.0,1.0,1.0,1.0,1.0,1.0,1.0,1.0,1.0,1.0,1.0,1.0,1.0,1.0,1.0,1.0,1.0,1.0,1.0,1.0,1.0,1.0,1.0,1.0,1.0,1.0,1.0,1.0,1.0,1.0,1.0,1.0,1.0,1.0,1.0,1.0,1.0,1.0,1.0,1.0,1.0,1.0,1.0,1.0,1.0,1.0,1.0,1.0,1.0,1.0,1.0,1.0,1.0,1.0,1.0,1.0,1.0,1.0,1.0,1.0,1.0,1.0,1.0,1.0,1.0,1.0,1.0,1.0,1.0,1.0,1.0,1.0,1.0,1.0,1.0,1.0,1.0,1.0,1.0,1.0,1.0,1.0,1.0,1.0,1.0,1.0,1.0,1.0,1.0,1.0,1.0,1.0,1.0,1.0,1.0,1.0,1.0,1.0,1.0,1.0,1.0,1.0,1.0,1.0,1.0,1.0,1.0,1.0,1.0,1.0,1.0,1.0,1.0,1.0,1.0,1.0,1.0,1.0,1.0,1.0,1.0,1.0,1.0,1.0,1.0,1.0,1.0,1.0,1.0,1.0,1.0,1.0,1.0,1.0,1.0,1.0,1.0,1.0,1.0,1.0,1.0,1.0,1.0,1.0,1.0,1.0,1.0,1.0,1.0,1.0,1.0,1.0,1.0,1.0,1.0,1.0,1.0,1.0,1.0,1.0,1.0,1.0,1.0,1.0,1.0,1.0,1.0,1.0,1.0,1.0,1.0,1.0,1.0,1.0,1.0,1.0,1.0,1.0,1.0,1.0,1.0,1.0,1.0,1.0,1.0,1.0,1.0,1.0,1.0,1.0,1.0,1.0,1.0,1.0,1.0,1.0,1.0,1.0,1.0,1.0,1.0,1.0,1.0,1.0,1.0,1.0,1.0,1.0,1.0,1.0,1.0,1.0,1.0,1.0,1.0,1.0,1.0,1.0,1.0,1.0,1.0,1.0,1.0,1.0,1.0,1.0,1.0,1.0,1.0,1.0,1.0,1.0,1.0,1.0,1.0,1.0,1.0,1.0,1.0,1.0,1.0,1.0,1.0,1.0,1.0,1.0,1.0,1.0,1.0,1.0,1.0,1.0,1.0,1.0,1.0,1.0,1.0,1.0,1.0,1.0,1.0,1.0,1.0,1.0,1.0,1.0,1.0,1.0,1.0,1.0,1.0,1.0,1.0,1.0,1.0,1.0,1.0,1.0,1.0,1.0,1.0,1.0,1.0,1.0,1.0,1.0,1.0,1.0,1.0,1.0,1.0,1.0,1.0,1.0,1.0,1.0,1.0,1.0,1.0,1.0,1.0,1.0,1.0,1.0,1.0,1.0,1.0,1.0,1.0,1.0,1.0,1.0,1.0,1.0,1.0,1.0,1.0,1.0,1.0,1.0,1.0,1.0,1.0,1.0,1.0,1.0,1.0,1.0,1.0,1.0,1.0,1.0,1.0,1.0,1.0,1.0,1.0,1.0,1.0,1.0,1.0,1.0,1.0,1.0,1.0,1.0,1.0,1.0,1.0,1.0,1.0,1.0,1.0,1.0,1.0,1.0,1.0,1.0,1.0,1.0,1.0,1.0,1.0,1.0,1.0,1.0,1.0,1.0,1.0,1.0,1.0,1.0,1.0,1.0,1.0,1.0,1.0,1.0,1.0,1.0,1.0,1.0,1.0,1.0,1.0,1.0,1.0,1.0,1.0,1.0,1.0,1.0,1.0,1.0,1.0,1.0,1.0,1.0,1.0,1.0,1.0,1.0,1.0,1.0,1.0,1.0,1.0,1.0,1.0,1.0,1.0,1.0,1.0,1.0,1.0,1.0,1.0,1.0,1.0,1.0,1.0,1.0,1.0,1.0,1.0,1.0,1.0,1.0,1.0,1.0,1.0,1.0,1.0,1.0,1.0,1.0,1.0,1.0,1.0,1.0,1.0,1.0,1.0,1.0,1.0,1.0,1.0,1.0,1.0,1.0,1.0,1.0,1.0,1.0,1.0,1.0,1.0,1.0,1.0,1.0,1.0,1.0,1.0,1.0,1.0,1.0,1.0,1.0,1.0,1.0,1.0,1.0,1.0,1.0,1.0,1.0,1.0,1.0,1.0,1.0,1.0,1.0,1.0,1.0,1.0,1.0,1.0,1.0,1.0,1.0,1.0,1.0,1.0,1.0,1.0,1.0,1.0,1.0,1.0,1.0,1.0,1.0,1.0,1.0,1.0,1.0,1.0,1.0,1.0,1.0,1.0,1.0,1.0,1.0,1.0,1.0,1.0,1.0,1.0,1.0,1.0,1.0,1.0,1.0,1.0,1.0,1.0,1.0,1.0,1.0,1.0,1.0,1.0,1.0,1.0,1.0,1.0,1.0,1.0,1.0,1.0,1.0,1.0,1.0,1.0,1.0,1.0,1.0,1.0,1.0,1.0,1.0,1.0,1.0,1.0,1.0,1.0,1.0,1.0,1.0,1.0,1.0,1.0,1.0,1.0,1.0,1.0,1.0,1.0,1.0,1.0,1.0,1.0,1.0,1.0,1.0,1.0,1.0,1.0,1.0,1.0,1.0,1.0,1.0,1.0,1.0,1.0,1.0,1.0,1.0,1.0,1.0,1.0,1.0,1.0,1.0,1.0,1.0,1.0,1.0,1.0,1.0,1.0,1.0,1.0,1.0,1.0,1.0,1.0,1.0,1.0,1.0,1.0,1.0,1.0,1.0,1.0,1.0,1.0,1.0,1.0,1.0,1.0,1.0,1.0,1.0,1.0,1.0,1.0,1.0,1.0,1.0,1.0,1.0,1.0,1.0,1.0,1.0,1.0]},\"selected\":{\"id\":\"5488\"},\"selection_policy\":{\"id\":\"5487\"}},\"id\":\"5466\",\"type\":\"ColumnDataSource\"},{\"attributes\":{\"bottom_units\":\"screen\",\"coordinates\":null,\"fill_alpha\":0.5,\"fill_color\":\"lightgrey\",\"group\":null,\"left_units\":\"screen\",\"level\":\"overlay\",\"line_alpha\":1.0,\"line_color\":\"black\",\"line_dash\":[4,4],\"line_width\":2,\"right_units\":\"screen\",\"syncable\":false,\"top_units\":\"screen\"},\"id\":\"5377\",\"type\":\"BoxAnnotation\"},{\"attributes\":{\"line_alpha\":0.2,\"line_color\":\"#b2df8a\",\"x\":{\"field\":\"x\"},\"y\":{\"field\":\"y\"}},\"id\":\"5425\",\"type\":\"Line\"},{\"attributes\":{\"label\":{\"value\":\"100\"},\"renderers\":[{\"id\":\"5447\"}]},\"id\":\"5465\",\"type\":\"LegendItem\"},{\"attributes\":{},\"id\":\"5398\",\"type\":\"UnionRenderers\"},{\"attributes\":{},\"id\":\"5462\",\"type\":\"UnionRenderers\"},{\"attributes\":{},\"id\":\"5463\",\"type\":\"Selection\"},{\"attributes\":{\"line_color\":\"#b2df8a\",\"x\":{\"field\":\"x\"},\"y\":{\"field\":\"y\"}},\"id\":\"5423\",\"type\":\"Line\"},{\"attributes\":{},\"id\":\"5399\",\"type\":\"Selection\"},{\"attributes\":{},\"id\":\"5418\",\"type\":\"UnionRenderers\"},{\"attributes\":{\"axis\":{\"id\":\"5367\"},\"coordinates\":null,\"dimension\":1,\"group\":null,\"ticker\":null},\"id\":\"5370\",\"type\":\"Grid\"},{\"attributes\":{\"coordinates\":null,\"data_source\":{\"id\":\"5422\"},\"glyph\":{\"id\":\"5423\"},\"group\":null,\"hover_glyph\":null,\"muted_glyph\":{\"id\":\"5425\"},\"nonselection_glyph\":{\"id\":\"5424\"},\"view\":{\"id\":\"5427\"}},\"id\":\"5426\",\"type\":\"GlyphRenderer\"},{\"attributes\":{\"line_alpha\":0.1,\"line_color\":\"#1f78b4\",\"x\":{\"field\":\"x\"},\"y\":{\"field\":\"y\"}},\"id\":\"5405\",\"type\":\"Line\"},{\"attributes\":{\"coordinates\":null,\"group\":null,\"items\":[{\"id\":\"5402\"},{\"id\":\"5421\"},{\"id\":\"5442\"},{\"id\":\"5465\"},{\"id\":\"5490\"}],\"location\":\"bottom_right\"},\"id\":\"5401\",\"type\":\"Legend\"},{\"attributes\":{\"line_alpha\":0.2,\"line_color\":\"#1f78b4\",\"x\":{\"field\":\"x\"},\"y\":{\"field\":\"y\"}},\"id\":\"5406\",\"type\":\"Line\"},{\"attributes\":{},\"id\":\"5440\",\"type\":\"Selection\"},{\"attributes\":{},\"id\":\"5355\",\"type\":\"DataRange1d\"},{\"attributes\":{\"line_color\":\"#1f78b4\",\"x\":{\"field\":\"x\"},\"y\":{\"field\":\"y\"}},\"id\":\"5404\",\"type\":\"Line\"},{\"attributes\":{\"tools\":[{\"id\":\"5371\"},{\"id\":\"5372\"},{\"id\":\"5373\"},{\"id\":\"5374\"},{\"id\":\"5375\"},{\"id\":\"5376\"}]},\"id\":\"5378\",\"type\":\"Toolbar\"},{\"attributes\":{\"data\":{\"x\":{\"__ndarray__\":\"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\",\"dtype\":\"float64\",\"order\":\"little\",\"shape\":[1000]},\"y\":[0.050280860510775544,0.050339296883727236,0.05040325562438392,0.05047273801981031,0.050547745466710536,0.05062827947108042,0.050714341647833866,0.050805933720399474,0.05090305752029249,0.051005714986657374,0.0511139081657849,0.05122763921060078,0.051346910380127696,0.05147172403892082,0.05160208265647552,0.0517379888066085,0.05187944516681238,0.05202645451781098,0.05217901974240262,0.05233714382457054,0.05250082984979139,0.052670081003348676,0.05284490056977562,0.053025291932026,0.05321125857061772,0.053402804062750484,0.053599932081399446,0.053802646394380635,0.05401095086339297,0.05422484944303352,0.05444434617978809,0.05466944521099655,0.05490015076379267,0.055136467154019854,0.055378398785121276,0.05562595014700601,0.055879125814890004,0.0561379304481134,0.056402368788933205,0.05667244566129199,0.056948165969562696,0.057229534697269956,0.057516556905787,0.05780923773301046,0.05810758239201071,0.058411596169659664,0.05872128442523569,0.05903665258900548,0.05935770616078351,0.05968445071222912,0.0600168918711476,0.06035503534680525,0.060698886890643414,0.06104845233330114,0.06140373756047186,0.061764748516709184,0.06213149120381341,0.06250397167919831,0.06288219605423652,0.06326617049258544,0.06365590120849238,0.06405139446508054,0.06445265657261456,0.06485969388674717,0.06527251280674672,0.06569111977370534,0.06611552126872901,0.06654572381110807,0.06698173395647089,0.06742355829491885,0.06787120344914255,0.0683246760725228,0.0687839828472123,0.06924913048220084,0.06972012571136482,0.07019697529149857,0.0706796860003309,0.0711682646345243,0.0716627180076601,0.07216305294820614,0.07266927629747133,0.07318139490754376,0.07369941563921453,0.07422334535988803,0.07475319094147674,0.07528895927446615,0.07583065720353388,0.07637829161540204,0.07693186937874426,0.07749139735602296,0.07805688244322755,0.07862833140619349,0.07920575111217076,0.07978914837693618,0.08037852999903544,0.08097390275754537,0.08157527340982283,0.08218264868924627,0.08279603530294549,0.0834154399295224,0.08404086921676303,0.08467232977933938,0.08530982819650407,0.08595337100977539,0.08660296472061554,0.0872586157880998,0.08792033062657972,0.08858811560333858,0.08926197703623986,0.08994192119137,0.09062795428067488,0.09132008245959025,0.09201831182466702,0.09272264841119168,0.09343309819080171,0.09414966706909625,0.0948723608832438,0.09560118539958494,0.09633614631123275,0.09707724923566884,0.09782449971233848,0.09857790320024129,0.09933746507552209,0.10010319067103193,0.10087508511113845,0.10165315354637346,0.10243740099738763,0.10322783238991153,0.10402445255234088,0.10482726621332214,0.10563627799933879,0.10645149243229861,0.1072729140880175,0.1081005469688885,0.10893439541287098,0.10977446349967461,0.11062075519241629,0.11147327433522308,0.11233202465083751,0.11319700973822865,0.11406823307020608,0.11494569799103908,0.11582940771408134,0.1167193653194,0.11761557375141093,0.11851803581652096,0.11942675418077482,0.12034173136751032,0.12126296975502017,0.12219047157422105,0.12312423890633105,0.12406427368055506,0.12501057767177884,0.12596315249827128,0.12692199961939737,0.12788712033333954,0.12885851577482907,0.12983618691288895,0.13082013454858546,0.1318103593127927,0.1328068616639672,0.13380964188593492,0.1348187001714266,0.13583403628583127,0.13685565005362751,0.1378835410383067,0.13891770861785668,0.13995815198262554,0.14100487013320073,0.1420578618783018,0.1431171258326881,0.14418266041508154,0.1452544638461052,0.14633253414623681,0.14741686913377902,0.14850746687244193,0.14960432391495904,0.15070743787070404,0.15181680572965145,0.15293242426973064,0.1540542900548996,0.15518239943323994,0.15631674853506833,0.15745733327106812,0.1586041493304403,0.1597571921790741,0.16091645705773733,0.1620819389802872,0.1632536327319016,0.1644315328673323,0.16561563370917723,0.16680592934617652,0.16800241363152907,0.1692050801812315,0.17041392237243946,0.17162893334185225,0.17285010598411887,0.174077432950269,0.17531090664616703,0.17655051935501123,0.17779626275127608,0.17904812860978345,0.18030610834083297,0.18157019310219555,0.18284037379771478,0.18411664107593312,0.18539898532874402,0.18668739669006967,0.1879818650345659,0.189282379976352,0.19058893086776799,0.19190150679815923,0.19322009659268718,0.19454468881116815,0.19587527174693997,0.19721183342575516,0.19855436160470305,0.19990284377116108,0.20125726816318906,0.20261761977097553,0.20398388620716842,0.20535605387090242,0.20673410888681973,0.208118037104195,0.20950782409609217,0.21090345515855108,0.2123049153098026,0.21371218928951607,0.21512526155807662,0.21654411629589207,0.2179687374027326,0.2193991084971003,0.22083521291562935,0.2222770337125195,0.2237245536589985,0.22517775540024684,0.2266366208386961,0.228101132038786,0.22957127063521265,0.23104701797750293,0.23252835512967024,0.23401526286990257,0.23550772169028455,0.23700571179655047,0.23850921310787143,0.24001820525667422,0.24153266758849418,0.2430525791618607,0.2445779187482162,0.24610866483186764,0.2476447956099728,0.24918628899255768,0.2507331226025702,0.2522852737759657,0.2538427195618263,0.2554054367225134,0.25697340173385574,0.25854659078536957,0.26012497978051285,0.26170854613422945,0.2632972617257536,0.26489110326844345,0.26649004552546895,0.26809406297576766,0.26970312981450745,0.2713172199535792,0.272936307022127,0.2745603643671103,0.27618936505390107,0.27782328186691463,0.2794620874941872,0.28110575380720526,0.2827542529218914,0.2844075565059052,0.2860656359496202,0.2877284623669602,0.28939600659626713,0.29106823920120417,0.29274513047169404,0.29442665042488747,0.2961127688061691,0.2978034550901934,0.2994986784819577,0.30119840791790564,0.30290261206706515,0.3046112593322199,0.30632431785111436,0.3080417554976893,0.30976353988335426,0.31148963835828924,0.3132200180127808,0.3149546456785907,0.3166934879303571,0.31843651108702664,0.320183681213321,0.3219349641212337,0.32369032537155906,0.32544973027545454,0.32721314389603184,0.32898053390092097,0.3307518593689446,0.3325270872854981,0.33430618173899346,0.33608910676658266,0.33787582561717844,0.3396663018407986,0.3414604985785019,0.3432583787391019,0.3450599050010684,0.34686503981446065,0.34867374540288854,0.35048598376550405,0.35230171667902127,0.3541209056997654,0.3559435121657502,0.3577694971987832,0.35959882170660123,0.3614314463850307,0.36326733172017894,0.36510643799064985,0.36694872526978783,0.36879415342794986,0.37064268213480284,0.3724942708616463,0.3743488788837641,0.3762064652827994,0.3780669889491553,0.37993040858442334,0.3817966827038328,0.3836657696387283,0.38553762753906967,0.3874122143759565,0.3892894879441766,0.39116940586477755,0.39305192558766167,0.39493700457969255,0.3968245995990683,0.3987146677708047,0.4006071658866847,0.4025020550766963,0.40439928313676266,0.40629881060029827,0.40820059364542055,0.4101045883035161,0.4120107504620519,0.4139190358674059,0.41582940012771935,0.4177417987157644,0.419656186971834,0.4215725201066473,0.42349075320427415,0.42541084122507644,0.42733273900866736,0.42925640127688597,0.43118178263678997,0.43310883758366275,0.4350375205040379,0.4369677856787367,0.43889958728592204,0.4408328794041664,0.4427676160155344,0.4447037510086768,0.44664123818194257,0.44858003124649753,0.45052008382946024,0.45246134947704936,0.4544037818346224,0.4563473339549707,0.4582919593256902,0.46023761120114226,0.46218424277069325,0.4641318071619205,0.466080257443836,0.46802954663011337,0.46997962768232643,0.4719304535131932,0.4738819828631602,0.47583415719609046,0.4777869348091887,0.4797402684537469,0.48169411084861063,0.48364841468346786,0.4856031326221427,0.4875582173058928,0.4895136213567147,0.49146929738064904,0.49342519797109125,0.49538127571210644,0.4973374831817456,0.4992937729553632,0.50125009760894,0.5032064097224028,0.5051626618829502,0.507118806688374,0.5090747967503805,0.5110305846979317,0.5129861231805412,0.5149413648716146,0.5168962624717659,0.5188507687121355,0.5208048363577069,0.5227584182106205,0.524711467113483,0.5266639359526764,0.5286157776616578,0.5305669452242602,0.5325173916779854,0.5344670701172902,0.536415933696873,0.5383639417696535,0.5403110357425663,0.5422571747376268,0.544202312184526,0.5461464020900513,0.5480893970724086,0.5500312512704354,0.5519719184398616,0.5539113524259648,0.555849507166781,0.5577863366963006,0.559721795147656,0.561655836756296,0.5635884158631531,0.5655194869177964,0.5674490044815707,0.5693769232307279,0.5713031979595427,0.5732277835834153,0.5751506351419619,0.5770717078020884,0.5789909568610547,0.5809083377495206,0.5828238060345755,0.584737317422758,0.5866488277630562,0.58855829304989,0.5904656694260825,0.5923709131858085,0.5942739807775316,0.5961748288069182,0.598073414039739,0.5999696934047483,0.6018636239965457,0.6037551630784206,0.6056442685856116,0.6075308971585309,0.6094150155049249,0.6112965652064303,0.6131755123751921,0.6150518153470087,0.6169254326458051,0.6187963229863147,0.6206644452767458,0.6225297586214188,0.6243922223233869,0.626251795887033,0.6281084390206403,0.6299621116389451,0.6318127738656643,0.6336603860359945,0.6355049086990961,0.6373463026205458,0.6391845287847671,0.6410195483974369,0.642851322887867,0.6446798139113571,0.6465049833515286,0.6483267933226252,0.6501452061717942,0.6519601844813369,0.653771691070933,0.6555796889998445,0.6573841415690804,0.6591850127817562,0.6609822655413117,0.6627758643177736,0.664565773400427,0.6663519573307597,0.6681343809044707,0.669913009173446,0.6716878074477081,0.6734587518707069,0.6752257877555786,0.6769888911790014,0.6787480285043276,0.6805031663624481,0.6822542716535761,0.6840013115489834,0.685744253492728,0.6874830652033403,0.6892177146754821,0.6909481701815726,0.6926744002733886,0.694396373783631,0.6961140598274613,0.6978274278040081,0.699536447397841,0.7012410885804177,0.7029413216114924,0.704637117040504,0.706328445707921,0.7080152787465624,0.7096975875828896,0.7113753439382577,0.7130485198301414,0.7147170875733311,0.7163810197810914,0.7180402893662897,0.7196948695424978,0.7213447338250559,0.7229898560321035,0.724630221251107,0.7262657826199289,0.7278965252300083,0.7295224241222619,0.7311434546451864,0.7327595924557071,0.7343708135199889,0.7359770941142192,0.7375784108253562,0.7391747405518455,0.7407660605043075,0.7423523482061877,0.7439335814943804,0.7455097385198168,0.7470807977480212,0.7486467379596391,0.7502075382509271,0.7517631780342151,0.7533136370383399,0.7548588953090364,0.7563989332093108,0.7579337314197677,0.7594632709389206,0.7609875330834552,0.7625064994884773,0.7640201521077127,0.7655284732136912,0.7670314453978889,0.7685290515708438,0.7700212756851157,0.7715080998868367,0.7729895087264032,0.7744654863912502,0.7759360173879912,0.7774010993237314,0.7788606925071745,0.7803147944957558,0.7817633910737758,0.7832064683441531,0.7846440127281984,0.7860760109653767,0.7875024501130222,0.788923317546039,0.7903386009565596,0.7917482883535837,0.7931523680625838,0.7945508287250826,0.7959436592981981,0.7973308490541711,0.7987123875798503,0.8000882647761564,0.8014584708575282,0.8028229963513133,0.8041818320971591,0.8055349692463631,0.8068823992611974,0.808224113914209,0.8095601052874867,0.8108903657719116,0.8122148880663698,0.8135336651769443,0.8148467015780407,0.8161539701026916,0.8174554734736191,0.8187512067782748,0.8200411645476422,0.8213253416146064,0.8226037331129649,0.8238763344764252,0.8251431414375712,0.826404150026807,0.8276593565712768,0.8289087576937615,0.8301523503115547,0.8313901316353106,0.8326220991678718,0.8338482507030749,0.835068584324531,0.83628309840439,0.8374917916020741,0.8386946628629982,0.8398917114172618,0.841082936778329,0.8422683387416754,0.8434479173834218,0.8446216730589534,0.845789606401501,0.8469517183207242,0.8481080100012552,0.8492584829012374,0.8504031387508386,0.8515419804849876,0.852675008558153,0.8538022263913355,0.8549236507211158,0.8560392575158143,0.8571490633116509,0.8582530717019775,0.8593512865397303,0.8604437119357897,0.8615303522573217,0.862611212126108,0.8636862964168557,0.8647556102554894,0.8658191590174409,0.8668769483259064,0.8679289840501024,0.8689752723035029,0.8700158194420637,0.8710506320624255,0.8720797170001219,0.8731030813277508,0.8741207323531526,0.8751326776175664,0.8761389248937705,0.877139482184225,0.8781343577191849,0.879123559954817,0.8801070975712951,0.8810849794708951,0.8820572280124813,0.8830238267902552,0.8839847979091947,0.8849401511425119,0.8858898964759014,0.8868340441055558,0.8877726044362049,0.8887055880791281,0.8896330058501601,0.8905548687676892,0.8914711880506581,0.8923819751165418,0.893287241579325,0.8941869992474806,0.8950812601219267,0.8959700363939926,0.8968533404433655,0.8977311848360419,0.8986035823222649,0.8994705458344714,0.9003320884852078,0.9011882235650729,0.9020389645406306,0.9028843250523364,0.9037243189124493,0.9045589601029413,0.9053882627734113,0.9062122412389867,0.9070309109858341,0.9078442846944585,0.9086523781187208,0.9094552206464951,0.9102527993021012,0.9110451430452337,0.9118322672929968,0.912614187611293,0.9133909197127128,0.9141624794544413,0.9149288828361399,0.9156901459978533,0.9164462852178921,0.9171973169107445,0.9179432576249624,0.9186841240410577,0.9194199329694158,0.9201507013481866,0.9208764462411886,0.9215971848358182,0.9223129344409567,0.9230237124848818,0.923729536513179,0.9244304241866635,0.9251263932792916,0.9258174616760974,0.9265036483192682,0.9271849694655149,0.9278614442194631,0.928533090889875,0.9291999278862598,0.9298619885732938,0.9305192626325455,0.9311717828703157,0.931819568080595,0.9324626371480189,0.9331010090458418,0.933734702833929,0.9343637376567427,0.9349881327413444,0.9356079073953966,0.9362230810051851,0.9368336730336299,0.9374397030183116,0.9380411905695104,0.9386381553682491,0.9392306171643352,0.9398185957744296,0.9404021110800975,0.940981183025899,0.9415558316174572,0.9421260769195587,0.9426919390542461,0.9432534381989327,0.9438105956004189,0.9443634295644637,0.9449119613870193,0.9454562114483764,0.9459962001748884,0.9465319636866091,0.9470634920195997,0.9475908205959536,0.9481139700099385,0.9486329608929004,0.9491478139114728,0.9496585497658057,0.9501651891878132,0.9506677529394176,0.9511662618108255,0.9516607366187817,0.9521511982048741,0.9526376674338208,0.9531201651917826,0.9535987123846763,0.9540733299365153,0.9545440387877465,0.9550108598936063,0.9554738142224912,0.9559329227543313,0.9563882064789917,0.9568396873949063,0.9572873845602409,0.957731319934394,0.9581715145312321,0.958607989366699,0.9590407654572825,0.95946986381849,0.9598953223026007,0.960317129114163,0.9607353212651998,0.9611499197543717,0.961560945572047,0.9619684196988436,0.9623723631042104,0.9627727967450217,0.9631697415641591,0.9635632184891446,0.9639532484307527,0.9643398522816501,0.9647230509150678,0.9651028651834449,0.9654793159171184,0.9658524239230283,0.966222209983408,0.966588694854518,0.9669518992653768,0.9673118449220743,0.967668550537777,0.9680220377071048,0.9683723270378755,0.9687194391045458,0.9690633944470375,0.9694042135695792,0.9697419336551742,0.9700765425629065,0.9704080765799373,0.9707365560582418,0.9710620013085548,0.9713844325992758,0.9717038701554123,0.972020334157509,0.9723338447406346,0.972644421993326,0.9729520859566062,0.9732568566229586,0.9735587539353668,0.9738577977863252,0.9741540080168924,0.9744474044157477,0.974738006718261,0.9750258346055792,0.9753109086828092,0.9755932466134931,0.9758728688407254,0.9761497948200096,0.9764240439482453,0.9766956355629227,0.9769645889412805,0.9772309232995186,0.9774946747242552,0.9777558293078381,0.978014422187884,0.9782704723305599,0.9785239986372323,0.9787750199437601,0.9790235550197751,0.9792696225679972,0.9795132412235367,0.9797544295532341,0.9799932060550038,0.9802295891571893,0.9804635972179266,0.9806952485525002,0.9809245614104296,0.9811515538760922,0.9813762440209389,0.9815986498432667,0.9818187897918649,0.9820366806203277,0.9822523406763829,0.982465787660205,0.9826770391961629,0.9828861128323245,0.9830930260399848,0.9832977962131938,0.9835004581481964,0.9837009950090195,0.983899440592362,0.9840958120216854,0.9842901262755754,0.984482400262794,0.9846726508269189,0.9848608947310616,0.985047148657514,0.985231429207399,0.9854137529003284,0.9855941361740963,0.9857725953843351,0.9859491468042527,0.9861238066243044,0.9862965909519283,0.9864675158667118,0.9866365971641387,0.98680385080377,0.986969292566496,0.9871329381196405,0.9872948030672336,0.9874549029286223,0.9876132689855022,0.9877698856939375,0.9879247834027959,0.9880779772925894,0.9882294824583113,0.9883793139093223,0.9885274865692144,0.988674015275678,0.9888189147803798,0.9889621997488695,0.989103884760485,0.9892439843082433,0.9893825127987963,0.9895194845523105,0.9896549138024702,0.9897888146963679,0.989921201294498,0.9900520875707014,0.9901814874121486,0.9903094146193303,0.9904358829060292,0.9905609058993251,0.9906844971396186,0.9908066700806201,0.9909274380893912,0.991046814446369,0.9911648123454047,0.9912814448938111,0.9913967438057073,0.9915106855611803,0.9916233008136612,0.9917346023269178,0.9918446027786083,0.9919533147603726,0.9920607507779291,0.9921669232511867,0.99227184451435,0.9923755268160567,0.9924779823194859,0.9925792231025049,0.9926792611577999,0.9927781083930299,0.9928757766309835,0.9929722776097191,0.9930676229827512,0.9931618243192032,0.9932548931040054,0.9933468407380595,0.9934376785384279,0.9935274177385367,0.993616086206396,0.9937036624057453,0.993790173244907,0.9938756296265799,0.9939600423709432,0.994043422215889,0.9941257798172547,0.9942071257490585,0.9942874705037417,0.994366824492428,0.9944451980451502,0.994522601411135,0.9945990447590447,0.9946745381772533,0.9947490916741015,0.994822715178193,0.994895418538653,0.9949672115254158,0.9950381038295081,0.9951081050633495,0.9951772247610368,0.9952454723786259,0.995312857294464,0.9953793888094693,0.9954450761474511,0.995509928455401,0.9955739548038369,0.9956371835490372,0.9956995858388258,0.9957611889696508,0.9958220017112565,0.9958820327585877,0.9959412907321198,0.9959997841782178,0.9960575215694615,0.9961145113049716,0.9961707617107906,0.9962262810401943,0.9962810774740692,0.9963351591212413,0.9963885340188409,0.9964412101326583,0.9964931953574989,0.9965444975175355,0.9965951243666978,0.9966450835889864,0.9966943827988883,0.9967430295417133,0.996791031293975,0.9968384133469709,0.9968851481532031,0.9969312600305436,0.9969767561858388,0.9970216437590924,0.9970659298237986,0.9971096213873757,0.9971527253914897,0.9971952487124909,0.9972371981617593,0.9972785804861078,0.9973194023681571,0.9973596704267299,0.9973993912172326,0.9974385712320419,0.997477216900888,0.9975153345912633,0.9975529306087846,0.9975900111975978,0.9976265825407652,0.9976626507606484,0.9976982219193118,0.9977333020188978,0.9977678970020375,0.997802012752212,0.9978356550941624,0.9978688297942913,0.9979015638455324,0.9979338213626922,0.9979656282388675,0.9979969900130252,0.9980279121678499,0.9980584001301006,0.9980884592709899,0.9981180949066046,0.998147312298281,0.9981761166530007,0.998204513123771,0.9982325068100394,0.9982601027580517,0.99828730596127,0.9983141213607363,0.9983405538454795,0.9983666082528915,0.9983922893691088,0.9984176019294216,0.9984425506186164,0.9984671400713978,0.9984913941746495,0.9985152797966302,0.9985388198329446,0.9985620187236304,0.9985848808606211,0.9986074105881142]},\"selected\":{\"id\":\"5440\"},\"selection_policy\":{\"id\":\"5439\"}},\"id\":\"5422\",\"type\":\"ColumnDataSource\"},{\"attributes\":{},\"id\":\"5439\",\"type\":\"UnionRenderers\"},{\"attributes\":{},\"id\":\"5357\",\"type\":\"DataRange1d\"},{\"attributes\":{\"coordinates\":null,\"data_source\":{\"id\":\"5403\"},\"glyph\":{\"id\":\"5404\"},\"group\":null,\"hover_glyph\":null,\"muted_glyph\":{\"id\":\"5406\"},\"nonselection_glyph\":{\"id\":\"5405\"},\"view\":{\"id\":\"5408\"}},\"id\":\"5407\",\"type\":\"GlyphRenderer\"},{\"attributes\":{\"line_color\":\"#33a02c\",\"x\":{\"field\":\"x\"},\"y\":{\"field\":\"y\"}},\"id\":\"5444\",\"type\":\"Line\"},{\"attributes\":{\"data\":{\"x\":{\"__ndarray__\":\"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\",\"dtype\":\"float64\",\"order\":\"little\",\"shape\":[1000]},\"y\":[0.05013757308211239,0.050166193707669206,0.05019751785414047,0.050231545830654464,0.05026827797284536,0.050307714642810905,0.05034985622906961,0.050394703146512426,0.05044225583635263,0.05049251476607215,0.05054548042936422,0.0506011533460735,0.05065953406213241,0.05072062314949459,0.050784421206064904,0.05085092885562677,0.050920146747765224,0.05099207555778817,0.05106671598664316,0.051144068760831836,0.051224134632321186,0.051306914378450655,0.05139240880183736,0.05148061873027718,0.05157154501664337,0.05166518853878156,0.051761550199401526,0.05186063092596645,0.05196243167079187,0.05206695341043679,0.052174197145578284,0.052284163901757,0.052396854728433584,0.05251227069909044,0.0526304129110994,0.052751282485585776,0.052874880567289076,0.0530012083244211,0.053130266948521354,0.05326205765430805,0.053396581679527974,0.05353384028480178,0.05367383475346692,0.05381656639141759,0.0539620365269414,0.0541102465105533,0.05426119771482692,0.054414891534221646,0.05457132938490862,0.0547305127045918,0.054892442952327564,0.05505712160834132,0.05522455017384004,0.055394730170822803,0.05556766314188901,0.05574335065004197,0.05592179427849149,0.05610299563045271,0.05628695632894158,0.056473678016569065,0.056663162355330726,0.05685541102639523,0.05705042572988833,0.05724820818467599,0.057448760128142824,0.05765208331596906,0.057858179521904834,0.05806705053754059,0.05827869817207615,0.05849312425208614,0.058710330621283224,0.05893031914027852,0.059153091686339435,0.05937865015664749,0.059606996454571945,0.05983813250891282,0.06007206026738314,0.06030878167517657,0.06054829870975456,0.060790613358003794,0.06103572762143909,0.06128364351593772,0.06153436307147234,0.0617878883318404,0.06204422135439239,0.06230336420975613,0.0625653189815602,0.06283008776615351,0.06309767267232384,0.06336807582101299,0.06364129934503028,0.06391734538876322,0.06419621610788666,0.06447791366906823,0.06476244024967313,0.06504979803746577,0.06533998923030947,0.06563301603586354,0.06592888067127889,0.06622758536289071,0.06652913234590976,0.06683352386411083,0.06714076216951982,0.06745084952209769,0.0677637881894237,0.0680795804463753,0.06839822857480682,0.0687197348632262,0.06904410160646904,0.06937133110537119,0.06970142566643932,0.07003438760151975,0.07037021922746498,0.07070892286579865,0.07105050084237854,0.07139495548705777,0.07174228913334393,0.07209250411805704,0.072445602780985,0.0728015874645379,0.07316046051340018,0.07352222427418133,0.07388688109506493,0.07425443332545542,0.07462488333116242,0.07499823343355053,0.07537448599759812,0.07575364337405001,0.07613570791308576,0.07652068196395778,0.07690856787462742,0.07729936803142895,0.07769308470270692,0.07808972026665376,0.07848927706243647,0.07889175742609406,0.07929716369016654,0.07970549818332084,0.08011676322997702,0.08053096114993231,0.080948094257984,0.0813681648635518,0.08179117527029789,0.08221712777574683,0.08264602467090372,0.08307786823987179,0.08351266075946798,0.08395040449883853,0.08439110171907283,0.08483475467281666,0.08528136560388414,0.08573093674686905,0.08618347032675443,0.08663896855852284,0.08709743364676414,0.08755886778528302,0.08802327315670631,0.08849065193208842,0.08896100627051665,0.08943433831871596,0.08991065021065194,0.09038994406713487,0.09087222199542158,0.09135748608881696,0.09184573842627548,0.09233698107200167,0.09283121607505038,0.0933284454689255,0.09382867127118005,0.09433189548301371,0.09483812008887163,0.09534734705604149,0.09585957833425132,0.09637481585526624,0.09689306153248477,0.09741431726053568,0.09793858491487331,0.09846586635137394,0.09899616344744985,0.09952947793909672,0.10006581165929723,0.10060516638158831,0.10114754385790581,0.10169294581817968,0.10224137396992894,0.1027928299978565,0.1033473155634437,0.10390483230454589,0.10446538183498702,0.1050289657441545,0.10559558559659521,0.10616524309425568,0.1067379394386209,0.10731367626778976,0.10789245504296793,0.10847427719850339,0.10905914414148286,0.10964705725132912,0.11023801787939858,0.11083202734857889,0.1114290869528877,0.11202919795707063,0.1126323615962014,0.113238579075281,0.11384785156883803,0.11446018022052977,0.11507556614274347,0.11569401041619827,0.11631551408954831,0.11694007817898552,0.11756770366784453,0.11819839150620683,0.11883214261050662,0.11946895786313759,0.1201088381120593,0.1207517841704064,0.12139779681609679,0.12204687679144177,0.1226990248027571,0.12335424151997423,0.1240125275762541,0.12467388356759998,0.1253383100524731,0.12600580755140836,0.12667637654663116,0.1273500174816765,0.1280267307610075,0.12870651674963646,0.1293893757727469,0.13007530811531634,0.13076431402174093,0.13145639369546108,0.13215154737693416,0.13284977503558115,0.13355107682277464,0.13425545277444081,0.13496290288370105,0.13567342710050628,0.13638702533127245,0.13710369743851794,0.13782344324050255,0.13854626251086832,0.13927215497828088,0.140001120326074,0.14073315819189489,0.14146826816735106,0.14220644979765984,0.1429477025812984,0.14369202596965672,0.14443941936669155,0.1451898821285831,0.14594341399348307,0.14670001339027308,0.14745967993227102,0.1482224127812603,0.14898821104956236,0.1497570737997058,0.15052900004409567,0.15130398874468595,0.15208203881265414,0.15286314910807672,0.15364731843960897,0.15443454556416442,0.15522482918659944,0.15601816795939633,0.15681456048235268,0.15761400530226988,0.15841650091264534,0.15922204575336726,0.16003063821041108,0.1608422766155382,0.16165695924599807,0.16247468432423148,0.16329545001757767,0.16411925443798253,0.16494609564171023,0.1657759716290571,0.1666088803440676,0.16744481967425479,0.16828378745031974,0.1691257814458776,0.16997079937718387,0.1708188389028636,0.17166989762364407,0.17252397308209,0.17338106288168764,0.1742411642169655,0.17510427456648853,0.17597039123760122,0.1768395114782031,0.17771163247650043,0.17858675136076088,0.17946486519907123,0.18034597099909785,0.1812300657078504,0.18211714621144753,0.18300720933488723,0.1839002518418191,0.18479627043431882,0.18569526175266776,0.18659722237513449,0.1875021488177584,0.18841003753413868,0.18932088491522495,0.19023468728911028,0.19115144092082959,0.19207114201215983,0.19299378670142317,0.193919371063294,0.19484789110860917,0.1957793427841806,0.19671372290895842,0.19765102548522778,0.19859124714945103,0.19953438359071335,0.2004804304331991,0.2014293832360269,0.202381237493086,0.20333598863287677,0.2042936320183552,0.20525416294677887,0.20621757664955917,0.20718386829211483,0.20815303297372958,0.20912506572741346,0.21009996151976845,0.21107771525085564,0.21205832175406752,0.21304177579600378,0.21402807207635016,0.2150172052277607,0.21600916981574447,0.21700396033855565,0.21800157122708622,0.21900199684476435,0.220005231487454,0.22101126953608563,0.2220201048548238,0.22303173168036355,0.2240461440374241,0.2250633358827217,0.22608330110489352,0.22710603352442374,0.2281315268935748,0.22915977489632242,0.23019077114829226,0.2312245091967038,0.23226098252031474,0.23330018452937137,0.23434210856556198,0.23538674790197464,0.23643409574305693,0.23748414522458294,0.23853688941362006,0.23959232130850408,0.2406504338388135,0.24171121986535185,0.24277467218013082,0.24384078350635968,0.2449095464984363,0.24598095374194429,0.24705499775365267,0.24813167098151948,0.24921096580470045,0.25029287453356014,0.25137738940968785,0.2524645026059175,0.25355420622635144,0.25464649230638753,0.2557413528127512,0.25683878139677985,0.2579387664781885,0.25904130147945587,0.26014637809325497,0.2612539879438146,0.2623641225869746,0.26347677351024645,0.26459193213287674,0.2657095898059145,0.26682973781228403,0.2679523673668598,0.2690774696165463,0.2702050356403627,0.27133505644952965,0.27246752298756177,0.27360242630429077,0.2747397568700615,0.27587950559050145,0.2770216631393237,0.27816622012305525,0.2793131670811527,0.2804624944861222,0.28161419274364297,0.28276825219269613,0.28392466310569503,0.2850834156886219,0.28624450008116753,0.287407906356875,0.2885736245232869,0.28974164452209816,0.2909119562293101,0.2920845494553914,0.29325941394544075,0.2944365393793546,0.2956159153719991,0.2967975314733848,0.297981377168846,0.299167441879224,0.3003557149610553,0.30154618570676023,0.30273884334484047,0.3039336770400764,0.3051306758937301,0.30632982894375194,0.3075311251649913,0.30873455346941053,0.3099401027063032,0.3111477616625159,0.3123575190626749,0.3135693635694147,0.3147832837836122,0.3159992682446232,0.31721730543052457,0.31843738375835784,0.3196594915843788,0.3208836172043086,0.32210974885359117,0.3233378775543569,0.3245679858748397,0.3258000645790073,0.3270341016641459,0.3282700850686136,0.3295080026721177,0.33074784248741146,0.3319895919051882,0.333233238812586,0.33447877085759775,0.3357261756310158,0.336975440666732,0.338226553442043,0.3394795013779557,0.3407342718395004,0.3419908521360454,0.34324922952161374,0.34450939119520574,0.3457713243011251,0.3470350159293058,0.34830045311564506,0.34956762284233955,0.3508365120382221,0.352107107579107,0.353379396288132,0.3546533649361111,0.35592900024188384,0.35720628887267286,0.3584852174444413,0.3597657725222562,0.3610479406206528,0.36233170820400495,0.3636170616868946,0.3649039874344887,0.3661924717629165,0.367482500939651,0.36877406118389405,0.3700671386669626,0.3713617195126807,0.3726577897977725,0.37395533555225885,0.37525434275985736,0.37655479735838515,0.3778566852401641,0.3791599922524296,0.3804647041977426,0.38177080683440345,0.38307828587686876,0.3843871269961731,0.3856973158203494,0.387008837934858,0.38832167906904985,0.3896358243620573,0.39095125945109577,0.39226796975566025,0.39358594482418297,0.3949051618587876,0.3962256101359576,0.3975472749166287,0.3988701414231316,0.4001941948396452,0.401519420312651,0.4028458029513916,0.4041733278283305,0.40550197997961607,0.4068317444055449,0.4081626060710302,0.40949454990607154,0.41082756080622707,0.4121616236330882,0.4134967232147554,0.41483284434631795,0.4161699717903361,0.4175080902773211,0.41884718450622493,0.42018723914492506,0.4215282388307148,0.4228701681707952,0.4242130117427699,0.4255567540951387,0.4269013797477978,0.42824687319253657,0.4295932188935433,0.43094040128790373,0.4322884047861113,0.43363721377257025,0.4349868126061075,0.4363371856204813,0.4376883171248953,0.439040191404511,0.4403927927209652,0.44174610531288655,0.4431001133964134,0.4444548011657174,0.4458101527935224,0.44716615261040865,0.44852278439917237,0.44988003244159896,0.45123788082989524,0.45259631363745534,0.4539553149193908,0.4553148687130613,0.4566749590386091,0.45803556989949284,0.4593966852830234,0.46075828916090095,0.46212036548975177,0.463482898211668,0.46484587125474786,0.46620927442708554,0.46757308011474097,0.4689372778411036,0.4703018514841976,0.47166678491078734,0.473032061976922,0.47439766652848386,0.4757635824017364,0.4771297934238724,0.4784962834135638,0.4798630361815131,0.4812300355310009,0.48259726525844265,0.48396470915393563,0.4853323510018153,0.4867001745812069,0.4880681636665794,0.4894363020282999,0.49080457343318934,0.4921729616450755,0.4935414504253498,0.4949100235335236,0.4962786647277827,0.49764735776554453,0.4990160864040148,0.500384834400746,0.5017535855141875,0.5031223235042513,0.5044910321328651,0.5058596951645284,0.5072282963668716,0.5085968195112125,0.5099652483731136,0.5113335667329377,0.5127017583764074,0.5140698070951589,0.5154376966873018,0.5168054109579723,0.518172933719891,0.5195402487939182,0.5209073400096093,0.5222741912057705,0.523640786231012,0.5250071089443039,0.5263731432155285,0.5277388729260344,0.5291042819691893,0.5304693604958853,0.5318340802142869,0.5331984310348723,0.5345623969050697,0.5359259622600469,0.5372891101533626,0.5386518250304744,0.5400140909013054,0.5413758917927641,0.542737211749289,0.5440980348333948,0.5454583451262182,0.5468181267280582,0.5481773637589208,0.5495360403590608,0.5508941406895199,0.5522516489326674,0.5536085492927387,0.5549648259963702,0.556320463293138,0.55767544545609,0.5590297567822798,0.5603833815932999,0.5617363042358101,0.5630885090820693,0.5644399805304618,0.5657907030060239,0.5671406609609702,0.5684898388752159,0.5698382212568992,0.571185792642902,0.5725325375993697,0.5738784407222266,0.5752234866376945,0.5765676600028024,0.5779109455059047,0.5792533278671863,0.580594791839175,0.5819353222072482,0.5832749037901359,0.5846135214404272,0.5859511600450698,0.5872878045258704,0.5886234398399927,0.5899580509804525,0.5912916229766119,0.5926241408946706,0.593955589838157,0.5952859554253156,0.5966152219035245,0.5979433749474978,0.5992704079449875,0.6005962902835711,0.6019210150951136,0.6032445677585612,0.6045669336940472,0.6058880983633675,0.6072080472704432,0.6085267659617922,0.6098442400269887,0.6111604550991261,0.6124753968552761,0.6137890510169445,0.6151014033505249,0.6164124396677512,0.6177221458261443,0.6190305077294619,0.6203375113281391,0.6216431426197306,0.6229473876493502,0.6242502325101064,0.6255516633435337,0.6268516663400256,0.6281502277392618,0.629447333830633,0.6307429709536627,0.632037125498429,0.6333297839059783,0.6346209326687409,0.6359105583309432,0.637198647489013,0.6384851867919876,0.6397701629419155,0.6410535626942545,0.6423353728582695,0.6436155802974256,0.6448941719297787,0.6461711347283645,0.6474464557215797,0.6487201219935659,0.6499921211407573,0.6512624394677775,0.6525310646650769,0.6537979840435603,0.6550631849717392,0.656326654876092,0.6575883812414266,0.6588483516112356,0.6601065535880477,0.6613629748337801,0.6626176030700838,0.6638704364736128,0.6651214425299811,0.6663706191208212,0.667617954210757,0.668863435825852,0.6701070520539372,0.6713487910449316,0.6725886410111706,0.6738265902277121,0.6750626270326594,0.6762967398274685,0.6775289170772543,0.6787591473110942,0.6799874191223306,0.6812137211688637,0.682438042173448,0.6836603709239801,0.6848806962737856,0.6860990071419001,0.6873152925133517,0.6885295414394318,0.6897417430379716,0.6909518864936083,0.692159961058049,0.6933659560503344,0.6945698608570947,0.6957716649328037,0.6969713578000309,0.6981689290496855,0.6993643683412628,0.7005576654030805,0.701748810032518,0.7029377920962443,0.7041246015304523,0.705309228341078,0.7064916626040247,0.7076718944653801,0.7088499141416303,0.7100257119198708,0.7111992781580079,0.7123706032849695,0.7135396778008967,0.7147065021586797,0.7158710483926122,0.7170333152445598,0.7181932942197247,0.719350976177836,0.7205063520509747,0.7216594128437522,0.7228101496334742,0.7239585535703124,0.7251046158774617,0.7262483278513031,0.7273896808615546,0.7285286663514258,0.7296652758377618,0.7307995009111888,0.7319313332362538,0.7330607645515601,0.7341877866698981,0.7353123914783779,0.7364345709385469,0.7375543170865195,0.7386716220330877,0.7397864779638372,0.7408988771392565,0.7420088118948429,0.7431162746412046,0.7442212578641593,0.7453237541248275,0.746423756059726,0.7475212563808536,0.7486162478757741,0.7497087234076956,0.7507986759155485,0.7518860984140561,0.7529709839938018,0.7540533258212977,0.755133117139042,0.7562103512655775,0.7572850215955443,0.7583571215997333,0.7594266448251275,0.7604935848949452,0.7615579362358619,0.7626196911996643,0.7636788443365427,0.7647353895750609,0.7657893209201745,0.7668406324532568,0.7678893306578717,0.7689353856093784,0.7699788034703154,0.771019578628521,0.7720577055483158,0.7730931787705069,0.7741259929123823,0.7751561426677012,0.7761836228066846,0.7772084281759999,0.7782305536987415,0.7792499943744093,0.7802667452788822,0.7812808015643922,0.7822921584594855,0.783300811268993,0.7843067553739853,0.785309986231734,0.7863104993756622,0.7873082904152927,0.7883033550362005,0.7892956889999515,0.7902852881440404,0.7912721483818312,0.7922562657024893,0.7932376361709066,0.7942162559276322,0.7951921211887945,0.7961652282460188,0.7971355734663439,0.7981031532921352,0.7990679642409945,0.8000300029056651,0.8009892659539342,0.8019457501285344,0.8028994522470382,0.8038503692017533,0.8047984979596073,0.805743835562042,0.8066863902392508,0.8076261382831337,0.8085630859041663,0.8094972312968239,0.8104285718739477,0.8113571051221647,0.8122828286017538,0.8132057399465056,0.814125836863585,0.8150431171333846,0.8159575786093811,0.8168692192179826,0.8177780369583763,0.8186840299023737,0.8195871961942536,0.820487534050595,0.8213850417601208,0.8222797176835226,0.8231715602532952,0.8240605679735626,0.8249467394199022,0.8258300732391628,0.8267105681492912,0.8275882229391396,0.8284630364682816,0.8293350076668252,0.8302041355352153,0.8310704191440442,0.83193385763385,0.8327944502149158,0.8336521961670684,0.8345070948394746,0.8353591456504289,0.8362083480871425,0.8370547017055341,0.8378982061300121,0.8387388610532539,0.8395766662359874,0.8404116215067677,0.8412437267617495,0.8420729819644591,0.8428993880250487,0.8437229433174166,0.8445436488513584,0.8453615048576091,0.8461765116331,0.8469886830677654,0.847797993059845,0.8486044551259957,0.8494080698261633,0.850208837785279,0.8510067596930034,0.8518018363034768,0.8525940684350584,0.8533834569700667,0.8541700028545199,0.8549537070978733,0.8557345707727492,0.8565125950146776,0.8572877810218155,0.8580601300546874,0.858829643435905,0.8595963225498906,0.8603601688426052,0.8611211838212662,0.8618793690540673,0.8626347261698942,0.8633872568580432,0.8641369628679304,0.8648838460088099,0.8656279081494742,0.8663691512179741,0.8671075772013165,0.8678431881451746,0.8685759861535868,0.8693059733886634,0.8700331520702813,0.8707575244757887,0.8714790929396965,0.8721978598533778,0.8729138276647591,0.8736269988780138,0.8743373760532527,0.8750449747707164,0.8757497722722337,0.8764517837669267,0.8771510120361762,0.8778474599157577,0.8785411302955181,0.8792320261190713,0.8799201503834534,0.8806055061388356,0.8812880964881737,0.8819679245868992,0.8826449936425982,0.8833193069146756,0.8839908677140331,0.8846596794027445,0.8853257453937263,0.8859890691504043,0.8866496541863887,0.8873075040651371,0.8879626223996251,0.8886150128520113,0.8892646791333039,0.8899116250030276,0.8905558542688768,0.891197370786394,0.8918361784586198,0.8924722812357593,0.8931056831148406,0.8937363881393763,0.8943644003990172,0.8949897240292185,0.8956123632108922,0.896232322170065,0.8968496051775282,0.8974642165485048,0.8980761606422971,0.8986854418619414,0.89929206465386,0.8998960335075182,0.9004973539194894,0.9010960285730174,0.9016920630128409,0.9022854618971617,0.9028762299254782,0.9034643718382414,0.9040499071783137,0.9046328117998036,0.9052131047892576,0.9057907910481048,0.9063658755169861,0.9069383631754118,0.907508259041412,0.9080755681711725,0.9086402956586968,0.909202446635443,0.9097620262699831,0.9103190397676384,0.9108734923701364,0.9114253893552512,0.9119747360364595,0.9125215377625757,0.9130657999174091,0.91360752791941,0.91414672722131,0.9146834033097782,0.9152175617050633,0.9157492079606356,0.9162783476628494,0.9168049864305746,0.9173291299148583,0.9178507837985554,0.9183699537959944,0.9188866456526138,0.9194008651446172,0.9199126180786117,0.9204219102912734,0.9209287476489748,0.9214331369986364,0.9219350823993024,0.9224345907202308,0.9229316679431796,0.9234263200778563,0.9239185531615796,0.9244083875869245,0.9248958013248637,0.9253808143050455,0.9258634326723909,0.9263436625977054,0.926821510277342,0.9272969819328531,0.9277700838106451,0.9282408221816324,0.9287092033408931,0.929175233607334,0.9296389193233375,0.9301002668544236,0.9305592825889105,0.9310159729375703,0.9314703443332907,0.9319224032307367,0.932372156106008,0.9328196094563053,0.9332647697995886,0.9337076436742461]},\"selected\":{\"id\":\"5419\"},\"selection_policy\":{\"id\":\"5418\"}},\"id\":\"5403\",\"type\":\"ColumnDataSource\"}],\"root_ids\":[\"5352\"]},\"title\":\"Bokeh Application\",\"version\":\"2.4.2\"}};\n  const render_items = [{\"docid\":\"19695964-61f3-4e35-b547-e177b257df8c\",\"root_ids\":[\"5352\"],\"roots\":{\"5352\":\"92089309-4562-4ef4-8ff1-1962c67f6da5\"}}];\n  root.Bokeh.embed.embed_items_notebook(docs_json, render_items);\n\n  }\n  if (root.Bokeh !== undefined) {\n    embed_document(root);\n  } else {\n    let attempts = 0;\n    const timer = setInterval(function(root) {\n      if (root.Bokeh !== undefined) {\n        clearInterval(timer);\n        embed_document(root);\n      } else {\n        attempts++;\n        if (attempts > 100) {\n          clearInterval(timer);\n          console.log(\"Bokeh: ERROR: Unable to run BokehJS code because BokehJS library is missing\");\n        }\n      }\n    }, 10, root)\n  }\n})(window);",
      "application/vnd.bokehjs_exec.v0+json": ""
     },
     "metadata": {
      "application/vnd.bokehjs_exec.v0+json": {
       "id": "5352"
      }
     },
     "output_type": "display_data"
    }
   ],
   "source": [
    "from bokeh.transform import factor_cmap\n",
    "\n",
    "p = figure(title='Power Analysis',\n",
    "           plot_width=700,\n",
    "           plot_height=400)\n",
    "\n",
    "for n in nobs:\n",
    "    power_line = []\n",
    "    for i in effect_size:\n",
    "        power = power_analysis.solve_power(effect_size=i,\n",
    "                                           nobs1=n,\n",
    "                                           alpha=alpha)\n",
    "        power_line.append(power)\n",
    "    p.line(effect_size, power_line, color=all_palettes['Paired'][len(nobs)][nobs.index(n)], legend=str(n))\n",
    "\n",
    "\n",
    "p.legend.location = 'bottom_right'\n",
    "p.xaxis.axis_label = 'Effect Size'\n",
    "p.yaxis.axis_label = 'Power'\n",
    "show(p)"
   ]
  },
  {
   "cell_type": "markdown",
   "metadata": {},
   "source": [
    "![](assets/7.png)"
   ]
  },
  {
   "cell_type": "markdown",
   "metadata": {},
   "source": [
    "Looking at the above plot will give you an idea of how would the Power and sample size varies given different set of parameters. The information you gain in this analysis needs to correspond with the cost constraints of your experiment and the risk that came with it."
   ]
  },
  {
   "cell_type": "markdown",
   "metadata": {},
   "source": [
    "**Discussion**:\n",
    "\n",
    "The plot above was created to understand the trade-off between power and effect size given a set of number of observations. The alpha, however, was assumed to be 5%. There are a common best practice we can use as the rule of thumbs on how to pick a value: for example 5% for significance level, and 80% for Cohen's d effect size measure.\n",
    "\n",
    "Often times, it's always a good practice to see the plot in different axes such as power compared to number of observation given a set of acceptable effect size. Can you create the plot?"
   ]
  }
 ],
 "metadata": {
  "kernelspec": {
   "display_name": "Python 3",
   "language": "python",
   "name": "python3"
  },
  "language_info": {
   "codemirror_mode": {
    "name": "ipython",
    "version": 3
   },
   "file_extension": ".py",
   "mimetype": "text/x-python",
   "name": "python",
   "nbconvert_exporter": "python",
   "pygments_lexer": "ipython3",
   "version": "3.7.7"
  },
  "toc": {
   "base_numbering": 1,
   "nav_menu": {},
   "number_sections": true,
   "sideBar": true,
   "skip_h1_title": false,
   "title_cell": "Table of Contents",
   "title_sidebar": "Contents",
   "toc_cell": false,
   "toc_position": {},
   "toc_section_display": true,
   "toc_window_display": true
  }
 },
 "nbformat": 4,
 "nbformat_minor": 2
}
